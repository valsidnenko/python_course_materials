{
 "cells": [
  {
   "cell_type": "markdown",
   "id": "ef43214b",
   "metadata": {
    "id": "ef43214b"
   },
   "source": [
    "# 0. Наибольший общий делитель - 1 балл\n",
    "Напишите функцию, которая на вход принимает два целых числа, а на выходе отдает их наибольших общий делитель. \n",
    "\n",
    "Пример\n",
    "\n",
    "Ввод \n",
    "\n",
    "`lcd(10,2)`\n",
    "\n",
    "Вывод\n",
    "\n",
    "`2`\n",
    "\n",
    "Пример\n",
    "\n",
    "Ввод \n",
    "\n",
    "`lcd(10,25)`\n",
    "\n",
    "Вывод\n",
    "\n",
    "`5`"
   ]
  },
  {
   "cell_type": "code",
   "execution_count": 37,
   "id": "978a2076",
   "metadata": {},
   "outputs": [
    {
     "name": "stdout",
     "output_type": "stream",
     "text": [
      "25\n",
      "10\n"
     ]
    },
    {
     "data": {
      "text/plain": [
       "5"
      ]
     },
     "execution_count": 37,
     "metadata": {},
     "output_type": "execute_result"
    }
   ],
   "source": [
    "# Ответ (задание 0)\n",
    "\n",
    "a = int(input())\n",
    "b = int(input())\n",
    "\n",
    "def lcd(a, b):\n",
    "    if a % b == 0:\n",
    "        return b\n",
    "    else:\n",
    "        return lcd(b, a % b)\n",
    "lcd(a, b)"
   ]
  },
  {
   "cell_type": "markdown",
   "id": "777171f3",
   "metadata": {
    "id": "777171f3"
   },
   "source": [
    "# 1. Задачка про перевод из `camel_case`'a в `snake_case` - 1.5 балла\n",
    " Напишите функцию, которая на вход принимает строку, записанную в `CamelCase`, а переводит ее в `snake_case`.\n",
    " Подсказка: идите по строке циклом, обрабатывайте каждый символ, если символ заглавный, к обработанным ранее добавляйте нижнее подчеркивание и нынешний переводите в `lower case` \n",
    " \n",
    " Пример:\n",
    "\n",
    "**Вход**: `'camelCaseVar'`\n",
    "\n",
    "**Выход**: `'camel_сase_var'`"
   ]
  },
  {
   "cell_type": "code",
   "execution_count": 855,
   "id": "35156bce",
   "metadata": {},
   "outputs": [
    {
     "name": "stdout",
     "output_type": "stream",
     "text": [
      "camelCaseVar\n",
      "camel_case_var\n"
     ]
    }
   ],
   "source": [
    "# Ответ (задание 1)\n",
    "\n",
    "camel_ = list(input())\n",
    "\n",
    "def add(camel_):\n",
    "    camel_output = []\n",
    "    flat_camel = []\n",
    "    \n",
    "    for i in camel_:\n",
    "        if i.isupper():\n",
    "            camel_output.append(['_', i.lower()])\n",
    "        else:\n",
    "            camel_output.append(i)\n",
    "    for i in camel_output:\n",
    "      for item in i:\n",
    "        flat_camel.append(item)\n",
    "    return \"\".join(flat_camel) \n",
    "   \n",
    "print(add(camel_))\n"
   ]
  },
  {
   "cell_type": "markdown",
   "id": "929847a2",
   "metadata": {
    "id": "929847a2"
   },
   "source": [
    "# 2. Про Поросёнка Петра - 2 балла\n",
    "На плоскости в точке `(0,0)` стоит Поросёнок Пётр. Он умеет ходить налево, направо, вверх и вниз. Расстояние его прохода в какую-либо сторону измеряется в шагах. Когда он идет вправо, его первая координата увеличивается, когда влево - уменьшается. Когда он идет вверх, его вторая координата увеличивается, а когда вниз - уменьшается.\n",
    "С клавиатуры считывается число `N` - число ходов, которые сделает Пётр. После чего на каждом шаге спрашивается, сколько шагов и в какую сторону за этот ход Пётр сделает. Так происходит, пока Пётр не осуществит все N ходов.\n",
    "Программа должна вывести, сколько шагов Пётр должен был бы сделать, чтобы кратчайшим путем прибыть из свое начальной точки `(0,0)` в свою конечную точку. \n",
    "\n",
    "Напоминание: Пётр умеет ходить только вверх-вниз, и влево-вправо, но не по диагонали.\n",
    "\n",
    "Пример ввода:\n",
    "\n",
    "Введите N: `3`\n",
    "\n",
    "Ход 1: `Вверх 1`\n",
    "\n",
    "Ход 2: `Вниз 1`\n",
    "\n",
    "Ход 3: `Вверх 1`\n",
    "\n",
    "Пример вывода:\n",
    "`Пётр находится на расстоянии 1 от (0,0)`"
   ]
  },
  {
   "cell_type": "code",
   "execution_count": 218,
   "id": "e6775104",
   "metadata": {},
   "outputs": [
    {
     "name": "stdout",
     "output_type": "stream",
     "text": [
      "Введите N: 3\n",
      "Направление хода № 1: Вверх\n",
      "Количество шагов хода № 1: 1\n",
      "Направление хода № 2: Вниз\n",
      "Количество шагов хода № 2: 1\n",
      "Направление хода № 3: Вверх\n",
      "Количество шагов хода № 3: 1\n",
      "\n",
      "Пётр находится на расстоянии 1 от (0, 0)\n"
     ]
    }
   ],
   "source": [
    "# Ответ (задание 2)\n",
    "\n",
    "n = int(input('Введите N: ')) # количество ходов\n",
    "\n",
    "x0, y0 = 0, 0   # Пётр\n",
    "\n",
    "i = 0\n",
    "\n",
    "for i in range(n): # пока есть кол-во ходов...\n",
    "    \n",
    "    direction = input(f'Направление хода № {i + 1}: ')\n",
    "    steps = int(input(f'Количество шагов хода № {i + 1}: '))\n",
    "    if direction == 'Вправо':\n",
    "        x0 += steps\n",
    "    if direction == 'Влево':\n",
    "        x0 -= steps\n",
    "    if direction == 'Вверх':\n",
    "        y0 += steps\n",
    "    if direction == 'Вниз':\n",
    "        y0 -= steps\n",
    "\n",
    "print()\n",
    "print(f'Пётр находится на расстоянии {x0 + y0} от (0, 0)')"
   ]
  },
  {
   "cell_type": "markdown",
   "id": "eba5aa44",
   "metadata": {
    "id": "818909ca"
   },
   "source": [
    "# 3. Sort the keys of the dictionary from a to z.  - 0.5 балла"
   ]
  },
  {
   "cell_type": "code",
   "execution_count": null,
   "id": "b81d45f3",
   "metadata": {
    "id": "b81d45f3"
   },
   "outputs": [],
   "source": [
    "d_= {\"tiramisu\":5, \"chocolate\":2, \"pudding\":3, \"cheesecake\":4}"
   ]
  },
  {
   "cell_type": "code",
   "execution_count": 245,
   "id": "3b6fb0c9",
   "metadata": {},
   "outputs": [
    {
     "name": "stdout",
     "output_type": "stream",
     "text": [
      "{'cheesecake': 4, 'chocolate': 2, 'pudding': 3, 'tiramisu': 5}\n"
     ]
    }
   ],
   "source": [
    "# Ответ (задание 3)\n",
    "\n",
    "d_ = {\"tiramisu\":5, \"chocolate\":2, \"pudding\":3, \"cheesecake\":4}\n",
    "sort_d_ = dict(sorted(d_.items()))\n",
    "print(sort_d_)"
   ]
  },
  {
   "cell_type": "markdown",
   "id": "77275ebf",
   "metadata": {
    "id": "77275ebf"
   },
   "source": [
    "# 4. Compare three values, return true only if 2 or more values are equal - 0.5 балла"
   ]
  },
  {
   "cell_type": "code",
   "execution_count": 240,
   "id": "d0893272",
   "metadata": {
    "id": "d0893272"
   },
   "outputs": [
    {
     "name": "stdout",
     "output_type": "stream",
     "text": [
      "1\n",
      "2\n",
      "2\n"
     ]
    },
    {
     "data": {
      "text/plain": [
       "True"
      ]
     },
     "execution_count": 240,
     "metadata": {},
     "output_type": "execute_result"
    }
   ],
   "source": [
    "# Ответ (задание 4)\n",
    "\n",
    "a = int(input())\n",
    "b = int(input())\n",
    "c = int(input())\n",
    " \n",
    "def compare(a, b, c):\n",
    "    if (a == b == c) or (a == b) or (a == c) or (b == c):\n",
    "        return True    \n",
    "bool(compare(a, b, c))"
   ]
  },
  {
   "cell_type": "markdown",
   "id": "895340c0",
   "metadata": {
    "id": "895340c0"
   },
   "source": [
    "# 5. Given a list with pairs, sort on the sum of pairs - 0.5 балла"
   ]
  },
  {
   "cell_type": "code",
   "execution_count": 282,
   "id": "7a8971e2",
   "metadata": {
    "id": "7a8971e2"
   },
   "outputs": [
    {
     "name": "stdout",
     "output_type": "stream",
     "text": [
      "[(3, 1), (3, 6), (4, 7), (8, 4), (5, 9)]\n"
     ]
    }
   ],
   "source": [
    "# ответ (задание 5)\n",
    "\n",
    "x = [(3,6),(4,7),(5,9),(8,4),(3,1)]\n",
    "\n",
    "l = len(x)\n",
    "  \n",
    "i = 0 # i - индекс пары\n",
    "for i in range(l): # пока мы в списке пар... \n",
    "    d = l - i  # ...идём по списку пар\n",
    "    pair = 0 # пара\n",
    "    for pair in range(d - 1):  # для пары пока она в списке...\n",
    "        if (x[pair][0] + x[pair][1]) > (x[pair + 1][0] + x[pair + 1][1]): # если в x в паре первый элемент + второй элемент...\n",
    "            x[pair], x[pair + 1] = x[pair + 1], x[pair] # ...то (пара 1, пара 2) становится (парой 2, парой 1)\n",
    "            \n",
    "print(x)"
   ]
  },
  {
   "cell_type": "markdown",
   "id": "be5b7018",
   "metadata": {
    "id": "be5b7018"
   },
   "source": [
    "# 6. Create a function that takes a list of numbers. Return the largest number in the list. - 0.5 балла"
   ]
  },
  {
   "cell_type": "code",
   "execution_count": 332,
   "id": "2ddbc7bf",
   "metadata": {
    "id": "2ddbc7bf"
   },
   "outputs": [
    {
     "ename": "SyntaxError",
     "evalue": "invalid character '➞' (U+279E) (1748830794.py, line 1)",
     "output_type": "error",
     "traceback": [
      "\u001b[0;36m  Input \u001b[0;32mIn [332]\u001b[0;36m\u001b[0m\n\u001b[0;31m    findLargestNum([4, 5, 1, 3]) ➞ 5\u001b[0m\n\u001b[0m                                 ^\u001b[0m\n\u001b[0;31mSyntaxError\u001b[0m\u001b[0;31m:\u001b[0m invalid character '➞' (U+279E)\n"
     ]
    }
   ],
   "source": [
    "findLargestNum([4, 5, 1, 3]) ➞ 5\n",
    "\n",
    "findLargestNum([300, 200, 600, 150]) ➞ 600\n",
    "\n",
    "findLargestNum([1000, 1001, 857, 1]) ➞ 1001"
   ]
  },
  {
   "cell_type": "code",
   "execution_count": 409,
   "id": "35fdcc43",
   "metadata": {},
   "outputs": [
    {
     "name": "stdout",
     "output_type": "stream",
     "text": [
      "1000, 1001, 857, 1\n",
      "1001\n"
     ]
    }
   ],
   "source": [
    "# ответ (задание 6)\n",
    "\n",
    "list1 = input().split(', ')\n",
    "list2 = list(map(int, list1))\n",
    "\n",
    "def findLargestNum(x): \n",
    "    largest = x[0]\n",
    "    for i in x:\n",
    "        if i > largest:\n",
    "           largest = i\n",
    "    return largest \n",
    "\n",
    "print(findLargestNum(list2)) "
   ]
  },
  {
   "cell_type": "markdown",
   "id": "17918763",
   "metadata": {
    "id": "17918763"
   },
   "source": [
    "## 7. Create a function that takes a string and returns the concatenated first and last character. - 0.5 балла"
   ]
  },
  {
   "cell_type": "code",
   "execution_count": null,
   "id": "7062bfdb",
   "metadata": {
    "id": "7062bfdb"
   },
   "outputs": [],
   "source": [
    "repetition(\"ab\", 3) ➞ \"ababab\"\n",
    "\n",
    "repetition(\"kiwi\", 1) ➞ \"kiwi\"\n",
    "\n",
    "repetition(\"cherry\", 2) ➞ \"cherrycherry\""
   ]
  },
  {
   "cell_type": "code",
   "execution_count": 410,
   "id": "06e60460",
   "metadata": {},
   "outputs": [
    {
     "name": "stdout",
     "output_type": "stream",
     "text": [
      "ab\n",
      "3\n",
      "['ab', 3]\n",
      "ababab\n"
     ]
    }
   ],
   "source": [
    "# ответ (задание 7)\n",
    "\n",
    "word = input()\n",
    "number = int(input())\n",
    "\n",
    "lst = word, number\n",
    "print(list(lst))\n",
    "\n",
    "def repetition(word, number):\n",
    "    final = word * number\n",
    "    return final\n",
    "\n",
    "print(repetition(word, number))"
   ]
  },
  {
   "cell_type": "markdown",
   "id": "5c2fe48a",
   "metadata": {
    "id": "5c2fe48a"
   },
   "source": [
    "# 8. Create a function that takes a 2D list lst returns the sum of the minimum value in each row. - 0.5 балла"
   ]
  },
  {
   "cell_type": "code",
   "execution_count": null,
   "id": "c3232abb",
   "metadata": {
    "id": "c3232abb"
   },
   "outputs": [],
   "source": [
    "sum_minimums([\n",
    "  [1, 2, 3, 4, 5],\n",
    "  [5, 6, 7, 8, 9],\n",
    "  [20, 21, 34, 56, 100]\n",
    "] ➞ 26\n",
    "\n",
    "# minimum value of the first row is 1\n",
    "# minimum value of the second row is 5\n",
    "# minimum value of the third row is 20"
   ]
  },
  {
   "cell_type": "code",
   "execution_count": 464,
   "id": "723ee5a2",
   "metadata": {},
   "outputs": [
    {
     "name": "stdout",
     "output_type": "stream",
     "text": [
      "[[1, 2, 3, 4, 5], [5, 6, 7, 8, 9], [20, 21, 34, 56, 100]] ➞ 26\n",
      "\n",
      "minimum value of the first row is 1\n",
      "minimum value of the second row is 5\n",
      "minimum value of the third row is 20\n"
     ]
    }
   ],
   "source": [
    "# ответ (задание 8)\n",
    "\n",
    "list_start = [\n",
    "  [1, 2, 3, 4, 5],\n",
    "  [5, 6, 7, 8, 9],\n",
    "  [20, 21, 34, 56, 100]\n",
    "]\n",
    "\n",
    "def sum_minimums(list_start):\n",
    "    return sum(map(min, list_start))\n",
    "\n",
    "print(list_start, '➞', sum_minimums(list_start))\n",
    "print()\n",
    "\n",
    "#################\n",
    "\n",
    "list0 = []\n",
    "list0.append(list_start[0])\n",
    "for l in list0:\n",
    "    joinedlist0 = []\n",
    "    joinedlist0 += l\n",
    "    print('minimum value of the first row is', joinedlist0[0])\n",
    "    \n",
    "list1 = []\n",
    "list1.append(list_start[1])\n",
    "for l in list1:\n",
    "    joinedlist1 = []\n",
    "    joinedlist1 += l\n",
    "    print('minimum value of the second row is', joinedlist1[0])\n",
    "\n",
    "list2 = []\n",
    "list2.append(list_start[2])\n",
    "for l in list2:\n",
    "    joinedlist2 = []\n",
    "    joinedlist2 += l\n",
    "    print('minimum value of the third row is', joinedlist2[0])"
   ]
  },
  {
   "cell_type": "markdown",
   "id": "88c6709f",
   "metadata": {
    "id": "88c6709f"
   },
   "source": [
    "# 9. Create a function to return the amount of potatoes there are in a string. - 0.5 балла"
   ]
  },
  {
   "cell_type": "code",
   "execution_count": null,
   "id": "e2610cbd",
   "metadata": {
    "id": "e2610cbd"
   },
   "outputs": [],
   "source": [
    "potatoes(\"potato\") ➞ 1\n",
    "\n",
    "potatoes(\"potatopotato\") ➞ 2\n",
    "\n",
    "potatoes(\"potatoapple\") ➞ 1"
   ]
  },
  {
   "cell_type": "code",
   "execution_count": 486,
   "id": "a077b9c5",
   "metadata": {},
   "outputs": [
    {
     "name": "stdout",
     "output_type": "stream",
     "text": [
      "potatopotato\n",
      "2\n"
     ]
    }
   ],
   "source": [
    "# ответ (задание 9)\n",
    "\n",
    "import re\n",
    "pot = input()\n",
    "i = 0\n",
    "def amount(i):\n",
    "    e = len(re.findall(\"potato\", pot))\n",
    "    return e\n",
    "print(amount(i))"
   ]
  },
  {
   "cell_type": "markdown",
   "id": "7fb5aa44",
   "metadata": {
    "id": "7fb5aa44"
   },
   "source": [
    "# 10. Create a function that takes a list of integers as an argument and returns a unique number from that list. All numbers except unique ones have the same number of occurrences in the list. - 0.5 балла"
   ]
  },
  {
   "cell_type": "code",
   "execution_count": null,
   "id": "a43f80e0",
   "metadata": {
    "id": "a43f80e0"
   },
   "outputs": [],
   "source": [
    "find_single_number([2, 2, 2, 3, 4, 4, 4]) ➞ 3\n",
    "\n",
    "find_single_number([2]) ➞ 2\n",
    "\n",
    "find_single_number([]) ➞ None\n",
    "\n",
    "find_single_number([7, 13, 3, 6, 5, 4, 4, 13, 5, 3, 6, 7, 6, 5, 3, 13, 4, 7, 13, 5, 7, 4, 3, 6, 8, 4, 3, 7, 5, 6, 13]) ➞ 8\n",
    "\n",
    "find_single_number([1, 2, 3, 6, 5, 4, 4, 2, 5, 3, 6, 1, 6, 5, 3, 2, 4, 1, 2, 5, 1, 4, 3, 6, 101, 4, 3, 1, 5, 6, 2]) ➞ 101\n"
   ]
  },
  {
   "cell_type": "code",
   "execution_count": 579,
   "id": "c4764677",
   "metadata": {},
   "outputs": [
    {
     "name": "stdout",
     "output_type": "stream",
     "text": [
      "1, 2, 3, 6, 5, 4, 4, 2, 5, 3, 6, 1, 6, 5, 3, 2, 4, 1, 2, 5, 1, 4, 3, 6, 101, 4, 3, 1, 5, 6, 2\n",
      "[101]\n"
     ]
    }
   ],
   "source": [
    "# ответ 1 (задание 10) (с инпутом, но не принимает пустой список)\n",
    "\n",
    "input_list = input().split(', ')\n",
    "numbers = list(map(int, input_list))\n",
    "\n",
    "def find_single_number(element):\n",
    "    middle_list = []\n",
    "    final_list = []\n",
    "    for element in numbers:\n",
    "        if element not in middle_list:\n",
    "            middle_list.append(element)\n",
    "            final_list.append(element)\n",
    "        else:\n",
    "            if element in final_list:\n",
    "                final_list.remove(element)\n",
    "    return final_list\n",
    "print(find_single_number(element))"
   ]
  },
  {
   "cell_type": "code",
   "execution_count": 580,
   "id": "abc6e9d6",
   "metadata": {},
   "outputs": [
    {
     "name": "stdout",
     "output_type": "stream",
     "text": [
      "None\n"
     ]
    }
   ],
   "source": [
    "# ответ 2 (задание 10) (без инпута, но принимает пустой список)\n",
    "\n",
    "numbers = []\n",
    "\n",
    "if len(numbers):\n",
    "    def find_single_number(element):\n",
    "        middle_list = []\n",
    "        final_list = []\n",
    "        for element in numbers:\n",
    "            if element not in middle_list:\n",
    "                middle_list.append(element)\n",
    "                final_list.append(element)\n",
    "            else:\n",
    "                if element in final_list:\n",
    "                    final_list.remove(element)\n",
    "        return final_list\n",
    "    print(find_single_number(element))\n",
    "else:\n",
    "    print(None)\n"
   ]
  },
  {
   "cell_type": "markdown",
   "id": "0313ea52",
   "metadata": {
    "id": "0313ea52"
   },
   "source": [
    "# 11. Given a letter and a list of words, return whether the letter does not appear in any of the words. - 0.5 балла"
   ]
  },
  {
   "cell_type": "code",
   "execution_count": null,
   "id": "0cb649a5",
   "metadata": {
    "id": "0cb649a5"
   },
   "outputs": [],
   "source": [
    "forbidden_letter(\"r\", [\"rock\", \"paper\", \"scissors\"]) ➞ False\n",
    "\n",
    "forbidden_letter(\"a\", [\"spoon\", \"fork\", \"knife\"]) ➞ True\n",
    "\n",
    "forbidden_letter(\"m\", []) ➞ True"
   ]
  },
  {
   "cell_type": "code",
   "execution_count": 606,
   "id": "e1004178",
   "metadata": {},
   "outputs": [
    {
     "name": "stdout",
     "output_type": "stream",
     "text": [
      "False\n",
      "('r', ['rock', 'paper', 'scissors'])\n"
     ]
    }
   ],
   "source": [
    "# ответ (задание 11)\n",
    "\n",
    "import re\n",
    "\n",
    "f = (\"r\", [\"rock\", \"paper\", \"scissors\"]) \n",
    "#f = (\"a\", [\"spoon\", \"fork\", \"knife\"])\n",
    "#f = (\"m\", [])\n",
    "\n",
    "def forbidden_letter(a, b):\n",
    "    a, b = f\n",
    "    x = ''.join(map(str, b))\n",
    "    if re.match(a, x):\n",
    "        print(False)\n",
    "    else:\n",
    "        print(True)\n",
    "    return f\n",
    "print(forbidden_letter(a, b))"
   ]
  },
  {
   "cell_type": "markdown",
   "id": "0a7ef5b5",
   "metadata": {
    "id": "0a7ef5b5"
   },
   "source": [
    "# 12.  Define a function which create a Pattern like this one.  - 2 балла"
   ]
  },
  {
   "cell_type": "code",
   "execution_count": null,
   "id": "7617ebb7",
   "metadata": {
    "id": "7617ebb7"
   },
   "outputs": [],
   "source": [
    "Input: 4\n",
    "Pattern:\n",
    "\n",
    " 01234\n",
    "  | |     0\n",
    " -----    1\n",
    "  | |     2\n",
    " -----    3\n",
    "  | |     4"
   ]
  },
  {
   "cell_type": "code",
   "execution_count": 776,
   "id": "2da960ca",
   "metadata": {},
   "outputs": [
    {
     "name": "stdout",
     "output_type": "stream",
     "text": [
      "Input: 4\n",
      "Pattern: \n",
      "01234\n",
      " | |\n",
      "----- 1\n",
      "----- 3\n",
      " | |\n"
     ]
    }
   ],
   "source": [
    "# -\n",
    "# я не знаю, как это cделать\n",
    "a = int(input('Input: '))\n",
    "print('Pattern: ')\n",
    "width = a \n",
    "height = a \n",
    "grid = []\n",
    "i = 1\n",
    "b = 0\n",
    "\n",
    "while b <= a:\n",
    "    print(b, end='')\n",
    "    b += 1\n",
    "print()\n",
    "print(' |' * (a//2))    \n",
    "for i in range(width):\n",
    "    if i % 2 == 0:\n",
    "        grid.append(\" \")\n",
    "    if i % 2 == 1:\n",
    "        grid.append(\"|\")\n",
    "for i in range(height):\n",
    "    if i % 2 == 1:\n",
    "        print('-' * (a + 1), i)   \n",
    "print(\"\".join(grid))\n",
    "    "
   ]
  },
  {
   "cell_type": "markdown",
   "id": "0d5edcd1",
   "metadata": {
    "id": "0d5edcd1"
   },
   "source": [
    "# 13. Create a function that takes three numbers as arguments and returns True if it's a triangle and False if not.  - 0.5 балла"
   ]
  },
  {
   "cell_type": "code",
   "execution_count": null,
   "id": "d867302c",
   "metadata": {
    "id": "d867302c"
   },
   "outputs": [],
   "source": [
    "is_triangle(2, 3, 4) ➞ True\n",
    "\n",
    "is_triangle(3, 4, 5) ➞ True\n",
    "\n",
    "is_triangle(4, 3, 8) ➞ False"
   ]
  },
  {
   "cell_type": "code",
   "execution_count": 801,
   "id": "ac329bf2",
   "metadata": {},
   "outputs": [
    {
     "name": "stdout",
     "output_type": "stream",
     "text": [
      "False\n"
     ]
    }
   ],
   "source": [
    "# ответ (задание 12)\n",
    "\n",
    "a = 4\n",
    "b = 3\n",
    "c = 8\n",
    "\n",
    "def istriangle(a, b, c):\n",
    "    if (a + b <= c) or (a + c <= b) or (b + c <= a):\n",
    "        return False\n",
    "    else:\n",
    "        return True      \n",
    "\n",
    "print(bool(istriangle(a, b, c)))"
   ]
  },
  {
   "cell_type": "markdown",
   "id": "2bdfb66e",
   "metadata": {
    "id": "2bdfb66e"
   },
   "source": [
    "# 14. Create a \"Code\" Generator that takes text as input and replaces some letter with another letter, and outputs the \"encoded\" message. Create funcs to encode and decode messages"
   ]
  },
  {
   "cell_type": "code",
   "execution_count": null,
   "id": "0caf2b35",
   "metadata": {
    "id": "0caf2b35"
   },
   "outputs": [],
   "source": [
    "replacement = {\"a\": \"b\", \"d\": \"1\" ......}"
   ]
  },
  {
   "cell_type": "code",
   "execution_count": 854,
   "id": "b55f122e",
   "metadata": {},
   "outputs": [
    {
     "name": "stdout",
     "output_type": "stream",
     "text": [
      "Сообщение: hello\n",
      "Зашифровка:  ждккн\n",
      "Расшифровка:  hello\n"
     ]
    }
   ],
   "source": [
    "# ответ (задание 14)\n",
    "\n",
    "result = []\n",
    "mes = input('Сообщение: ')\n",
    "message = list(mes)\n",
    "\n",
    "keys = {'a': 'а', 'b': 'б', 'c': 'в', 'd': 'г', 'e': 'д', 'f': 'е',\n",
    "        'g': 'ё', 'h': 'ж', 'i': 'з', 'j': 'и', 'k': 'й', 'l': 'к',\n",
    "        'm': 'л', 'n': 'м', 'o': 'н', 'p': 'о', 'q': 'п', 'r': 'р',\n",
    "        's': 'с', 't': 'т', 'u': 'у', 'v': 'ф', 'w': 'х', 'x': 'ц',\n",
    "        'y': 'ч', 'z': 'ш'} \n",
    "\n",
    "def code(symbol):\n",
    "    for symbol in message:\n",
    "        for key in keys:\n",
    "            if key == symbol:\n",
    "                result.append(keys[key])\n",
    "                x = ''.join(result)\n",
    "                \n",
    "    return x\n",
    "\n",
    "def de_code(symbol):\n",
    "    return mes\n",
    "\n",
    "print('Зашифровка: ', code(symbol))\n",
    "print('Расшифровка: ', de_code(symbol))"
   ]
  }
 ],
 "metadata": {
  "colab": {
   "provenance": []
  },
  "kernelspec": {
   "display_name": "Python 3 (ipykernel)",
   "language": "python",
   "name": "python3"
  },
  "language_info": {
   "codemirror_mode": {
    "name": "ipython",
    "version": 3
   },
   "file_extension": ".py",
   "mimetype": "text/x-python",
   "name": "python",
   "nbconvert_exporter": "python",
   "pygments_lexer": "ipython3",
   "version": "3.9.12"
  }
 },
 "nbformat": 4,
 "nbformat_minor": 5
}
