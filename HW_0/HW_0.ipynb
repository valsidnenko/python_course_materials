{
 "cells": [
  {
   "cell_type": "markdown",
   "id": "4aae3dfe",
   "metadata": {
    "id": "4aae3dfe"
   },
   "source": [
    "## Вывод (std out)"
   ]
  },
  {
   "cell_type": "code",
   "execution_count": null,
   "id": "19d51336",
   "metadata": {
    "id": "19d51336"
   },
   "outputs": [],
   "source": [
    "# 1 (Задание)\n",
    "\n",
    "## Напишите программу, которая вводит строки без newline или space (не забудьте что print \n",
    "#принимает сколько угодно аргументов)\n",
    "\n",
    "# Тестовые данные\n",
    "\n",
    "# 1, 5, 8, 3 -> 1583\n",
    "# 1, \"new\", 8, \"old\" -> 1new8old"
   ]
  },
  {
   "cell_type": "code",
   "execution_count": 36,
   "id": "8fa59a66",
   "metadata": {},
   "outputs": [
    {
     "name": "stdout",
     "output_type": "stream",
     "text": [
      "1, \"new\", 8, \"old\"\n",
      "1new8old\n"
     ]
    }
   ],
   "source": [
    "# 1 (Ответ)\n",
    "\n",
    "a = input().split(', ')\n",
    "b = ''.join(a)\n",
    "c = ''.join(b.split('\"'))\n",
    "print(c)"
   ]
  },
  {
   "cell_type": "markdown",
   "id": "c6a2735e",
   "metadata": {
    "id": "c6a2735e"
   },
   "source": [
    "## Арифметика "
   ]
  },
  {
   "cell_type": "code",
   "execution_count": null,
   "id": "bc23a479",
   "metadata": {
    "id": "bc23a479"
   },
   "outputs": [],
   "source": [
    "# 2 (Задание)\n",
    "\n",
    "## Расчитайте расстояние между двумя заданными точками (math.sqrt) заданными \n",
    "#в двумерном пространстве\n",
    "\n",
    "# Тестовые данные\n",
    "\n",
    "# [0, 0], [1, 1] -> 1.4142135623730951\n",
    "# [0, 1], [1, 5] -> 4.123105625617661\n",
    "# [4, 1], [12, 5] -> 8.94427190999916"
   ]
  },
  {
   "cell_type": "code",
   "execution_count": 38,
   "id": "2939190c",
   "metadata": {},
   "outputs": [
    {
     "name": "stdout",
     "output_type": "stream",
     "text": [
      "Введите данные [x1, y1], [x2, y2]\n",
      "Значение x1: 4\n",
      "Значение x2: 12\n",
      "Значение y1: 1\n",
      "Значение y2: 5\n",
      "Расстояние между двумя заданными точками =  8.94427190999916\n"
     ]
    }
   ],
   "source": [
    "# 2 (Ответ)\n",
    "\n",
    "print('Введите данные [x1, y1], [x2, y2]')\n",
    "x1 = int(input('Значение x1: '))\n",
    "x2 = int(input('Значение x2: '))\n",
    "y1 = int(input('Значение y1: '))\n",
    "y2 = int(input('Значение y2: '))\n",
    "\n",
    "import math\n",
    "print('Расстояние между двумя заданными точками = ', math.sqrt((x1 - x2) * (x1 - x2) + (y1 - y2) * (y1 - y2)))"
   ]
  },
  {
   "cell_type": "markdown",
   "id": "6c5d4192",
   "metadata": {
    "id": "6c5d4192"
   },
   "source": [
    "## Списки"
   ]
  },
  {
   "cell_type": "code",
   "execution_count": null,
   "id": "ace65e2e",
   "metadata": {
    "id": "ace65e2e"
   },
   "outputs": [],
   "source": [
    "# 3 (Задание)\n",
    "\n",
    "## Посчитайте сумму элементов в списке (только тех, что чей тип float)\n",
    "\n",
    "# Тестовые данные\n",
    "\n",
    "color_list = [0.1,\"зеленый\", 1.6, \"белый\", 0.3, \"черный\", 7, \"2.0\"]\n",
    "\n",
    "# ответ: 2"
   ]
  },
  {
   "cell_type": "code",
   "execution_count": 40,
   "id": "dd7f8928",
   "metadata": {},
   "outputs": [
    {
     "name": "stdout",
     "output_type": "stream",
     "text": [
      "2.0\n",
      "2\n"
     ]
    }
   ],
   "source": [
    "# 3 (Ответ)\n",
    "\n",
    "color_list = [0.1, \"зеленый\", 1.6, \"белый\", 0.3, \"черный\", 7, \"2.0\"]\n",
    "new_list = [ ]\n",
    "\n",
    "i = 0\n",
    "\n",
    "for i in range(0, len(color_list)):\n",
    "    if type(color_list[i]) == type(float()):\n",
    "        new_list.append(color_list[i])\n",
    "print(sum(new_list)) # ответ float\n",
    "print(int(sum(new_list))) # ответ как в задании"
   ]
  },
  {
   "cell_type": "code",
   "execution_count": null,
   "id": "f5efd6f8",
   "metadata": {
    "id": "f5efd6f8"
   },
   "outputs": [],
   "source": [
    "# 4 (Задание)\n",
    "\n",
    "## Отобразите с помощью print только первый и последний элемент списка (цикл while)\n",
    "\n",
    "# Тестовые данные\n",
    "\n",
    "color_list = [\"красный\",\"зеленый\",\"белый\" ,\"черный\"]"
   ]
  },
  {
   "cell_type": "code",
   "execution_count": 41,
   "id": "558dfc4f",
   "metadata": {},
   "outputs": [
    {
     "name": "stdout",
     "output_type": "stream",
     "text": [
      "красный черный\n"
     ]
    }
   ],
   "source": [
    "# 4.1 (без while) (Ответ)\n",
    "\n",
    "color_list = [\"красный\", \"зеленый\", \"белый\", \"черный\"]\n",
    "print(color_list[0], color_list[-1])"
   ]
  },
  {
   "cell_type": "code",
   "execution_count": 42,
   "id": "7cbf798c",
   "metadata": {},
   "outputs": [
    {
     "name": "stdout",
     "output_type": "stream",
     "text": [
      "['красный', 'черный']\n"
     ]
    }
   ],
   "source": [
    "# 4.2 (без while) (Ответ)\n",
    "\n",
    "color_list = [\"красный\", \"зеленый\", \"белый\", \"черный\"]\n",
    "color_list_new = color_list[::len(color_list) - 1]\n",
    "print(color_list_new)"
   ]
  },
  {
   "cell_type": "code",
   "execution_count": 43,
   "id": "ee664bbc",
   "metadata": {},
   "outputs": [
    {
     "name": "stdout",
     "output_type": "stream",
     "text": [
      "красный\n",
      "черный\n"
     ]
    }
   ],
   "source": [
    "# 4.3 (c while) (Ответ)\n",
    "\n",
    "color_list = [\"красный\", \"зеленый\", \"белый\", \"черный\"]\n",
    "\n",
    "i = 0\n",
    "while -2 < i < 1:\n",
    "    print(color_list[i])\n",
    "    i -= 1"
   ]
  },
  {
   "cell_type": "code",
   "execution_count": null,
   "id": "0120e466",
   "metadata": {
    "id": "0120e466"
   },
   "outputs": [],
   "source": [
    "# 5 (Задание)\n",
    "\n",
    "## Проверьте есть ли в данный элемент в списке, если есть выведите \n",
    "#с помощью print \"Element такой то was found\", если элемента не нашлось \n",
    "#выведите \"Clear\" (цикл while) \n",
    "\n",
    "# Тестовые данные\n",
    "\n",
    "# 3 -> [1, 5, 8, 3] -> \"Element 3 was found\"\n",
    "# -1 -> [1, 5, 8, 3] -> \"Clear\"\n",
    "# \"color\" -> [1, \"color\", 1.3, 3] ->  \"Element color was found\"\n"
   ]
  },
  {
   "cell_type": "code",
   "execution_count": 52,
   "id": "ab213401",
   "metadata": {},
   "outputs": [
    {
     "name": "stdout",
     "output_type": "stream",
     "text": [
      "Element color was found\n"
     ]
    }
   ],
   "source": [
    "# 5 (Ответ)\n",
    "\n",
    "list2 = [1, \"color\", 1.3, 3]\n",
    "\n",
    "x = 'color'\n",
    "\n",
    "i = 0\n",
    "while i < len(list2):\n",
    "    if list2[i] == x:\n",
    "        print('Element', x, 'was found')\n",
    "        break\n",
    "    i += 1\n",
    "else:\n",
    "    print('Clear')"
   ]
  },
  {
   "cell_type": "code",
   "execution_count": 25,
   "id": "824424aa",
   "metadata": {
    "id": "824424aa"
   },
   "outputs": [],
   "source": [
    "# 6 (Задание)\n",
    "\n",
    "## Пройдите по списку и объедините все элементы из списка в одну строку \n",
    "#через пробел (цикл while)\n",
    "\n",
    "# Тестовые данные\n",
    "\n",
    "# [\"9\", \"caMii\", \" /\\y4LLIii\", \"proger\", \"v\", \"2022\", \"roDy\"] \n",
    "#-> 9 caMii  /\\y4LLIii proger v 2022 roDy"
   ]
  },
  {
   "cell_type": "code",
   "execution_count": 53,
   "id": "fbac41dc",
   "metadata": {},
   "outputs": [
    {
     "name": "stdout",
     "output_type": "stream",
     "text": [
      "9 caMii  /\\y4LLIii proger v 2022 roDy\n"
     ]
    }
   ],
   "source": [
    "# 6.1 (без while) (Ответ)\n",
    "\n",
    "list1 = [\"9\", \"caMii\", \" /\\y4LLIii\", \"proger\", \"v\", \"2022\", \"roDy\"]\n",
    "print(\" \".join(list1))"
   ]
  },
  {
   "cell_type": "code",
   "execution_count": 54,
   "id": "38826c7b",
   "metadata": {},
   "outputs": [
    {
     "name": "stdout",
     "output_type": "stream",
     "text": [
      "9\n",
      "9 caMii\n",
      "9 caMii  /\\y4LLIii\n",
      "9 caMii  /\\y4LLIii proger\n",
      "9 caMii  /\\y4LLIii proger v\n",
      "9 caMii  /\\y4LLIii proger v 2022\n",
      "9 caMii  /\\y4LLIii proger v 2022 roDy\n"
     ]
    }
   ],
   "source": [
    "# 6.2 (c while) (Ответ)\n",
    "\n",
    "list1 = [\"9\", \"caMii\", \" /\\y4LLIii\", \"proger\", \"v\", \"2022\", \"roDy\"]\n",
    "list2 = []\n",
    "i = 0\n",
    "while i < len(list1):\n",
    "    list2.append(list1[i])\n",
    "    print(\" \".join(map(str, list2)))\n",
    "    i += 1\n"
   ]
  },
  {
   "cell_type": "code",
   "execution_count": null,
   "id": "1c52c4b8",
   "metadata": {
    "id": "1c52c4b8"
   },
   "outputs": [],
   "source": [
    "# 7 (Задание)\n",
    "\n",
    "## Пройдите по двум списка сразу и выведите сразу по два элемента - \n",
    "# один из одного списка, другой из другого \n",
    "## (подсказка - обращайтесь по индексу к элементам обоих списков)\n",
    "\n",
    "# Тестовые данные\n",
    "\n",
    "color_list_1 = [\"White\", \"Black\", \"Red\"]\n",
    "color_list_2 = [\"Red\", \"Green\", \"White\"]\n",
    "\n",
    "# White Red\n",
    "# Black Green\n",
    "# Red White"
   ]
  },
  {
   "cell_type": "code",
   "execution_count": 55,
   "id": "9509d7d5",
   "metadata": {},
   "outputs": [
    {
     "name": "stdout",
     "output_type": "stream",
     "text": [
      "White Red\n",
      "Black Green\n",
      "Red White\n"
     ]
    }
   ],
   "source": [
    "# 7 (Ответ)\n",
    "\n",
    "color_list_1 = [\"White\", \"Black\", \"Red\"]\n",
    "color_list_2 = [\"Red\", \"Green\", \"White\"]\n",
    "\n",
    "i = 0\n",
    "while i < len(color_list_1) and i < len(color_list_2):\n",
    "    print(color_list_1[i], color_list_2[i])\n",
    "    i += 1"
   ]
  },
  {
   "cell_type": "code",
   "execution_count": null,
   "id": "9d59ec07",
   "metadata": {
    "id": "9d59ec07"
   },
   "outputs": [],
   "source": [
    "# 8 (Задание)\n",
    "\n",
    "## Пройдите по списку и выводите каждый следующий элемент \n",
    "#столько раз какой у него ((индекс + 1) * 3) в списке (цикл while) \n",
    "\n",
    "# Тестовые данные\n",
    "\n",
    "a = [\"a\", \"b\", \"c\", \"d\"] \n",
    "\n",
    "# ответ -> \"aaabbbbbbcccccccccdddddddddddd\""
   ]
  },
  {
   "cell_type": "code",
   "execution_count": 56,
   "id": "06d6748b",
   "metadata": {},
   "outputs": [
    {
     "name": "stdout",
     "output_type": "stream",
     "text": [
      "aaabbbbbbcccccccccdddddddddddd"
     ]
    }
   ],
   "source": [
    "# 8 (Ответ)\n",
    "\n",
    "a = [\"a\", \"b\", \"c\", \"d\"]\n",
    "i = 0\n",
    "while i < len(a):\n",
    "    print((a[i] + a[i] * i) * 3, end='')\n",
    "    i += 1"
   ]
  },
  {
   "cell_type": "code",
   "execution_count": null,
   "id": "bfd569fd",
   "metadata": {
    "id": "bfd569fd"
   },
   "outputs": [],
   "source": [
    "# 9 (Задание)\n",
    "\n",
    "## Зайдите в каждый масив внутри (если это списко) и рассортируйте \n",
    "#мне элементы по соответствующим спискам (не забудьте про append)\n",
    "\n",
    "sample = [[\"a\", \"b\", 1, 2.4], \"string\", [\"new\", 11111, 1000.0, \"old\"]]\n",
    "\n",
    "\n",
    "integers = []\n",
    "floats = []\n",
    "strings = []\n",
    "\n",
    "# ответ\n",
    "# integers -> [1, 11111]\n",
    "# floats -> [2.4, 1000.0]\n",
    "# strings -> [\"a\", \"b\", \"string\", \"new\", \"old\"]"
   ]
  },
  {
   "cell_type": "code",
   "execution_count": 57,
   "id": "75db167a",
   "metadata": {},
   "outputs": [
    {
     "name": "stdout",
     "output_type": "stream",
     "text": [
      "Нераскрытый список: [['a', 'b', 1, 2.4], 'string', ['new', 11111, 1000.0, 'old']]\n",
      "Раскрытый список: ['a', 'b', 1, 2.4, 'string', 'new', 11111, 1000.0, 'old']\n",
      "integers -> [1, 11111]\n",
      "floats -> [2.4, 1000.0]\n",
      "strings -> ['a', 'b', 'string', 'new', 'old']\n"
     ]
    }
   ],
   "source": [
    "# 9 (Ответ)\n",
    "\n",
    "sample = [[\"a\", \"b\", 1, 2.4], \"string\", [\"new\", 11111, 1000.0, \"old\"]] # нераскрытый список\n",
    "sample2 = [] # раскрытый список\n",
    "\n",
    "for i in sample:\n",
    "    if type(i) != str:\n",
    "        for a in i:\n",
    "            sample2.append(a)\n",
    "    else:\n",
    "        sample2.append(i)\n",
    "\n",
    "print(\"Нераскрытый список:\", sample)\n",
    "print (\"Раскрытый список:\", sample2)\n",
    "\n",
    "integers = []\n",
    "floats = []\n",
    "strings = []\n",
    "\n",
    "for x in sample2:\n",
    "    if type(x) == int:\n",
    "        integers.append(x)\n",
    "    else:\n",
    "        if type(x) == float:\n",
    "            floats.append(x)\n",
    "        else:\n",
    "            strings.append(x)\n",
    "\n",
    "print('integers ->', integers)\n",
    "print('floats ->', floats)\n",
    "print('strings ->', strings)"
   ]
  },
  {
   "cell_type": "markdown",
   "id": "4d785ec2",
   "metadata": {
    "id": "4d785ec2"
   },
   "source": [
    "## Библиотеки "
   ]
  },
  {
   "cell_type": "code",
   "execution_count": null,
   "id": "0937e5e0",
   "metadata": {
    "id": "0937e5e0"
   },
   "outputs": [],
   "source": [
    "# 10\n",
    "\n",
    "## Напишите программу, которая выводит настоящее время \n",
    "#( то есть в ремя в которую программа запущена, используйте либу - time) \n",
    "\n",
    "# Тестовые данные (например)\n",
    "\n",
    "# 'Sat Oct  1 00:34:36 2022'"
   ]
  },
  {
   "cell_type": "code",
   "execution_count": 58,
   "id": "c2798d4b",
   "metadata": {},
   "outputs": [
    {
     "data": {
      "text/plain": [
       "'Fri Oct 14 15:44:06 2022'"
      ]
     },
     "execution_count": 58,
     "metadata": {},
     "output_type": "execute_result"
    }
   ],
   "source": [
    "# 10\n",
    "\n",
    "import time\n",
    "time.asctime()"
   ]
  }
 ],
 "metadata": {
  "colab": {
   "provenance": []
  },
  "kernelspec": {
   "display_name": "Python 3 (ipykernel)",
   "language": "python",
   "name": "python3"
  },
  "language_info": {
   "codemirror_mode": {
    "name": "ipython",
    "version": 3
   },
   "file_extension": ".py",
   "mimetype": "text/x-python",
   "name": "python",
   "nbconvert_exporter": "python",
   "pygments_lexer": "ipython3",
   "version": "3.9.12"
  }
 },
 "nbformat": 4,
 "nbformat_minor": 5
}
