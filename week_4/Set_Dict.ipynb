{
 "cells": [
  {
   "cell_type": "markdown",
   "metadata": {
    "id": "jpBogsU-L2yd"
   },
   "source": [
    "## Task #0"
   ]
  },
  {
   "cell_type": "markdown",
   "metadata": {
    "id": "xgQ6d6SuL2yf"
   },
   "source": [
    "Дан одномерный массив числовых значений, насчитывающий N элементов. Исключить из массива элементы, принадлежащие промежутку [1; 3].\n",
    "\n",
    "Input: \n",
    "`[0, 1, 6, 10, 100, 300]`\n",
    "\n",
    "Output:\n",
    "`[0, 10, 100, 300]`"
   ]
  },
  {
   "cell_type": "code",
   "execution_count": 4,
   "metadata": {
    "id": "Wql5VljuL2yg"
   },
   "outputs": [
    {
     "data": {
      "text/plain": [
       "[0, 10, 100, 300]"
      ]
     },
     "execution_count": 4,
     "metadata": {},
     "output_type": "execute_result"
    }
   ],
   "source": [
    "sample = [0, 1, 6, 10, 100, 300]\n",
    "sample[:1] + sample[3:]"
   ]
  },
  {
   "cell_type": "markdown",
   "metadata": {
    "id": "BIxOd6_1L2yh"
   },
   "source": [
    "## Task #1"
   ]
  },
  {
   "cell_type": "markdown",
   "metadata": {
    "id": "669DhN-iL2yi"
   },
   "source": [
    "Дан одномерный массив числовых значений, насчитывающий N элементов. Подсчитать количество чисел, делящихся на 3 нацело, и среднее арифметическое чисел с чётными значениями. Поставить полученные величины на первое и последнее места в массиве (увеличив массив на 2 элемента).\n",
    "\n",
    "Input: \n",
    "`[0, -3, 2, 4]`\n",
    "\n",
    "Output:\n",
    "`[1, 0, -3, 2, 4, 2]`"
   ]
  },
  {
   "cell_type": "code",
   "execution_count": 9,
   "metadata": {
    "id": "t1n7l2rZL2yj"
   },
   "outputs": [
    {
     "ename": "SyntaxError",
     "evalue": "unexpected EOF while parsing (809628295.py, line 15)",
     "output_type": "error",
     "traceback": [
      "\u001b[0;36m  Input \u001b[0;32mIn [9]\u001b[0;36m\u001b[0m\n\u001b[0;31m    [len(devided) + input_data + [sum(average)/ len(average)]\u001b[0m\n\u001b[0m                                                             ^\u001b[0m\n\u001b[0;31mSyntaxError\u001b[0m\u001b[0;31m:\u001b[0m unexpected EOF while parsing\n"
     ]
    }
   ],
   "source": [
    "input_data = [0, -3, 2, 4]\n",
    "index = 0\n",
    "devided = []\n",
    "average = []\n",
    "while index < len(input_data):\n",
    "    element = input_data[index]\n",
    "    \n",
    "    if element % 3 == 0:\n",
    "        devided.append(element)\n",
    "    if element % 2 == 0:\n",
    "        average.append(element)\n",
    "\n",
    "    index += 1\n",
    "    \n",
    "[len(devided) + input_data + [sum(average)/ len(average)]\n",
    " \n",
    " # переписывала на занятии, почему-то не работает"
   ]
  },
  {
   "cell_type": "markdown",
   "metadata": {
    "id": "QpktbPW7L2yk"
   },
   "source": [
    "\n",
    "## Task #2"
   ]
  },
  {
   "cell_type": "markdown",
   "metadata": {
    "id": "KlSTJbNZL2yk"
   },
   "source": [
    "Дан одномерный массив числовых значений, насчитывающий N элементов. Добавить столько элементов, чтобы элементов с положительными и отрицательными значениями стало бы поровну.\n",
    "\n",
    "Input: \n",
    "`[0, 8, -3, 2, 4 -1, 13, 24, 19]`\n",
    "\n",
    "Output:\n",
    "`[0, -1, 8, -3, 2, -1, 4, -1, 13, -1, 24, -1, 19]`"
   ]
  },
  {
   "cell_type": "code",
   "execution_count": null,
   "metadata": {
    "id": "sTBBKI3rL2yl"
   },
   "outputs": [],
   "source": []
  },
  {
   "cell_type": "markdown",
   "metadata": {
    "id": "cLVSh-tCL2yl"
   },
   "source": [
    "## Task 3"
   ]
  },
  {
   "cell_type": "markdown",
   "metadata": {
    "id": "5HroMvFxL2ym"
   },
   "source": [
    "How to remove stop words in a text?"
   ]
  },
  {
   "cell_type": "code",
   "execution_count": null,
   "metadata": {
    "id": "UTKVOdDWL2ym"
   },
   "outputs": [],
   "source": [
    "stop_words = [\"i\", \"me\", \"my\", \"myself\", \"we\", \"our\", \"ours\", \"ourselves\", \"you\", \"your\", \"yours\", \"yourself\", \"yourselves\", \"he\", \"him\", \"his\", \"himself\", \"she\", \"her\", \"hers\", \"herself\", \"it\", \"its\", \"itself\", \"they\", \"them\", \"their\", \"theirs\", \"themselves\", \"what\", \"which\", \"who\", \"whom\", \"this\", \"that\", \"these\", \"those\", \"am\", \"is\", \"are\", \"was\", \"were\", \"be\", \"been\", \"being\", \"have\", \"has\", \"had\", \"having\", \"do\", \"does\", \"did\", \"doing\", \"a\", \"an\", \"the\", \"and\", \"but\", \"if\", \"or\", \"because\", \"as\", \"until\", \"while\", \"of\", \"at\", \"by\", \"for\", \"with\", \"about\", \"against\", \"between\", \"into\", \"through\", \"during\", \"before\", \"after\", \"above\", \"below\", \"to\", \"from\", \"up\", \"down\", \"in\", \"out\", \"on\", \"off\", \"over\", \"under\", \"again\", \"further\", \"then\", \"once\", \"here\", \"there\", \"when\", \"where\", \"why\", \"how\", \"all\", \"any\", \"both\", \"each\", \"few\", \"more\", \"most\", \"other\", \"some\", \"such\", \"no\", \"nor\", \"not\", \"only\", \"own\", \"same\", \"so\", \"than\", \"too\", \"very\", \"s\", \"t\", \"can\", \"will\", \"just\", \"don\", \"should\", \"now\"]\n",
    "text = \"\"\"the outbreak of coronavirus disease 2019 ( COVID - 19 ) has created a global health crisis that has had a deep impact on the way we perceive our world and our everyday lives . Not only the rate of contagion and patterns of transmission threatens our sense of agency , but the safety measures put in place to contain the spread of the virus also require social distancing by refraining from doing what is inherently human , which is to find solace in the company of others . Within this context of physical threat , social and physical distancing , as well as public alarm , what has been ( and can be ) the role of the different mass media channels in our lives on individual , social and societal levels ? Mass media have long been recognized as powerful forces shaping how we experience the world and ourselves . This recognition is accompanied by a growing volume of research , that closely follows the footsteps of technological transformations ( e . g . radio , movies , television , the internet , mobiles ) and the zeitgeist ( e . g . cold war , 9 / 11 , climate change ) in an attempt to map mass media major impacts on how we perceive ourselves , both as individuals and citizens . Are media ( broadcast and digital ) still able to convey a sense of unity reaching large audiences , or are messages lost in the noisy crowd of mass self - communication ?\"\"\""
   ]
  },
  {
   "cell_type": "code",
   "execution_count": null,
   "metadata": {
    "id": "f7wE1qWOL2yo"
   },
   "outputs": [],
   "source": []
  },
  {
   "cell_type": "markdown",
   "metadata": {
    "id": "hvubezWCL2yo"
   },
   "source": [
    "## Task 4"
   ]
  },
  {
   "cell_type": "markdown",
   "metadata": {
    "id": "3OVCMBT4L2yp"
   },
   "source": [
    "How to extract usernames from emails ?"
   ]
  },
  {
   "cell_type": "code",
   "execution_count": null,
   "metadata": {
    "id": "A5qv4kUFL2yp"
   },
   "outputs": [],
   "source": [
    "text = \"The new registrations are potter709@gmail.com , elixir101@gmail.com . If you find any disruptions , kindly contact granger111@gamil.com or severus77@gamil.com \""
   ]
  },
  {
   "cell_type": "code",
   "execution_count": null,
   "metadata": {
    "id": "5kh4h7h3L2yq"
   },
   "outputs": [],
   "source": [
    "# use find()"
   ]
  },
  {
   "cell_type": "markdown",
   "metadata": {
    "id": "L6o4_AdfL2yr"
   },
   "source": [
    "\n",
    "# Цикл `For`"
   ]
  },
  {
   "cell_type": "markdown",
   "metadata": {
    "id": "le-gLHK0L2yr"
   },
   "source": [
    "Цикл `for`, также называемый циклом с параметром, в языке Питон богат возможностями. В цикле `for` указывается переменная и множество значений, по которому будет пробегать переменная. Множество значений может быть задано списком, кортежем, строкой или диапазоном.\n",
    "\n",
    "Вот простейший пример использования цикла, где в качестве множества значений используется кортеж"
   ]
  },
  {
   "cell_type": "code",
   "execution_count": null,
   "metadata": {
    "id": "XwSiilarL2ys",
    "outputId": "b0532210-c61b-4bc7-9fb4-cdf824ae4498"
   },
   "outputs": [
    {
     "name": "stdout",
     "output_type": "stream",
     "text": [
      "#1 color of rainbow is red\n",
      "#2 color of rainbow is orange\n",
      "#3 color of rainbow is yellow\n",
      "#4 color of rainbow is green\n",
      "#5 color of rainbow is cyan\n",
      "#6 color of rainbow is blue\n",
      "#7 color of rainbow is violet\n"
     ]
    }
   ],
   "source": [
    "i = 1\n",
    "for color in 'red', 'orange', 'yellow', 'green', 'cyan', 'blue', 'violet':\n",
    "    print('#', i, ' color of rainbow is ', color, sep = '')\n",
    "    i += 1"
   ]
  },
  {
   "cell_type": "markdown",
   "metadata": {
    "id": "FhOQ5Gy4L2yt"
   },
   "source": [
    "В этом примере переменная `color` последовательно принимает значения `'red'`, `'orange'` и т.д. В теле цикла выводится сообщение, которое содержит название цвета, то есть значение переменной color, а также номер итерации цикла  число, которое сначала равно `1`, а потом увеличивается на один (инструкцией `i += 1` с каждым проходом цикла.\n",
    "\n",
    "Инструкция `i += 1` эквивалентна конструкции `i = i + 1` (это просто сокращенная запись). Такую сокращенную запись можно использовать для всех арифметических операций: `*=`, `-=`, `/=`, `%=`...\n",
    "\n",
    "В списке значений могут быть выражения различных типов, например:\n",
    "\n"
   ]
  },
  {
   "cell_type": "code",
   "execution_count": null,
   "metadata": {
    "id": "7akHWyW-L2yu",
    "outputId": "066fafab-bb14-47d5-cf00-9cae14617562"
   },
   "outputs": [
    {
     "name": "stdout",
     "output_type": "stream",
     "text": [
      "1\n",
      "2\n",
      "3\n",
      "one\n",
      "two\n",
      "three\n"
     ]
    }
   ],
   "source": [
    "for i in 1, 2, 3, 'one', 'two', 'three':\n",
    "    print(i)"
   ]
  },
  {
   "cell_type": "markdown",
   "metadata": {
    "id": "2lQ8SHEkL2yu"
   },
   "source": [
    "# Функция `range`"
   ]
  },
  {
   "cell_type": "markdown",
   "metadata": {
    "id": "fiGQk3Q0L2yv"
   },
   "source": [
    "Как правило, циклы `for` используются либо для повторения какой-либо последовательности действий заданное число раз, либо для изменения значения переменной в цикле от некоторого начального значения до некоторого конечного.\n",
    "\n",
    "Для повторения цикла некоторое заданное число раз `n` можно использовать цикл `for` вместе с функцией `range`:"
   ]
  },
  {
   "cell_type": "code",
   "execution_count": null,
   "metadata": {
    "id": "EsLb7c7FL2yw",
    "outputId": "1036f0dc-5d10-479f-d766-234e825ab639"
   },
   "outputs": [
    {
     "name": "stdout",
     "output_type": "stream",
     "text": [
      "0\n",
      "0\n",
      "1\n",
      "1\n",
      "2\n",
      "4\n",
      "3\n",
      "9\n",
      "Конец цикла\n"
     ]
    }
   ],
   "source": [
    "for i in range(4):  # равносильно инструкции for i in 0, 1, 2, 3:\n",
    "    # здесь можно выполнять циклические действия\n",
    "    print(i)\n",
    "    print(i ** 2)\n",
    "# цикл закончился, поскольку закончился блок с отступом\n",
    "print('Конец цикла')"
   ]
  },
  {
   "cell_type": "markdown",
   "metadata": {
    "id": "CmsvgOWVL2yw"
   },
   "source": [
    "В качестве `n` может использоваться числовая константа, переменная или произвольное арифметическое выражение (например, `2 ** 10`). Если значение `n` равно нулю или отрицательное, то тело цикла не выполнится ни разу.\n",
    "\n",
    "Функция `range` может также принимать не один, а два параметра. Вызов `range(a, b)` означает, что индексная переменная будеть принимать значения от a до `b - 1`, то есть первый параметр функции `range`, вызываемой с двумя параметрами, задает начальное значение индексной переменной, а второй параметр — первое значение, которое индексная переменная принимать не будет. Если же `a≥b`, то цикл не будет выполнен ни разу. Например, для того, чтобы просуммировать значения чисел от `1` до `n` можно воспользоваться следующей программой:"
   ]
  },
  {
   "cell_type": "code",
   "execution_count": null,
   "metadata": {
    "id": "njDpKnAkL2yx",
    "outputId": "85deaccc-a69d-4e19-a8a3-6358717344bf"
   },
   "outputs": [
    {
     "name": "stdout",
     "output_type": "stream",
     "text": [
      "15\n"
     ]
    }
   ],
   "source": [
    "sum = 0\n",
    "n = 5\n",
    "for i in range(1, n + 1):\n",
    "    sum += i\n",
    "print(sum)"
   ]
  },
  {
   "cell_type": "markdown",
   "metadata": {
    "id": "mR7UZD5EL2yy"
   },
   "source": [
    "В этом примере переменная `i` принимает значения `1, 2, ..., n`, и значение переменной sum последовательно увеличивается на указанные значения.\n",
    "\n",
    "Наконец, чтобы организовать цикл, в котором индексная переменная будет уменьшаться, необходимо использовать функцию `range` с тремя параметрами. Первый параметр задает начальное значение индексной переменной, второй параметр — значение, до которого будет изменяться индексная переменная (не включая его!), а третий параметр — величину изменения индексной переменной. Например, сделать цикл по всем нечетным числам от `1` до `99` можно при помощи функции `range(1, 100, 2)`, а сделать цикл по всем числам от `100` до `1` можно при помощи `range(100, 0, -1)`.\n",
    "\n",
    "Более формально, цикл for i in `range(a, b, d)` при `d > 0` задает значения индексной переменной `i = a`, `i = a + d`, `i = a + 2 * d` и так для всех значений, для которых `i < b`. Если же `d < 0`, то переменная цикла принимает все значения `i > b`.\n",
    "\n"
   ]
  },
  {
   "cell_type": "markdown",
   "metadata": {
    "id": "RxIH4FhzL2yz"
   },
   "source": [
    "## Task #5.0"
   ]
  },
  {
   "cell_type": "markdown",
   "metadata": {
    "id": "noomT5zqL2yz"
   },
   "source": [
    "Write a program to print the following number pattern using a loop.\n",
    "\n",
    "`\n",
    "1 \n",
    "1 2 \n",
    "1 2 3 \n",
    "1 2 3 4 \n",
    "1 2 3 4 5`"
   ]
  },
  {
   "cell_type": "code",
   "execution_count": 12,
   "metadata": {
    "id": "UldseyzRL2y0"
   },
   "outputs": [
    {
     "name": "stdout",
     "output_type": "stream",
     "text": [
      "1 \n",
      "1 2 \n",
      "1 2 3 \n",
      "1 2 3 4 \n",
      "1 2 3 4 5 \n"
     ]
    }
   ],
   "source": [
    "for element in range(5):  \n",
    "    for i in range(1, element + 2):\n",
    "        print(i, end = \" \")\n",
    "   \n",
    "    print()"
   ]
  },
  {
   "cell_type": "markdown",
   "metadata": {
    "id": "eCD8ZqJGL2y0"
   },
   "source": [
    "## Task #5.1"
   ]
  },
  {
   "cell_type": "markdown",
   "metadata": {
    "id": "wW4NHZTJL2y1"
   },
   "source": [
    "Write a program to use for loop to print the following reverse number pattern\n",
    "\n",
    "\n",
    "`\n",
    "5 4 3 2 1 \n",
    "4 3 2 1 \n",
    "3 2 1 \n",
    "2 1 \n",
    "1`"
   ]
  },
  {
   "cell_type": "code",
   "execution_count": 18,
   "metadata": {
    "id": "h0MbrylsL2y1"
   },
   "outputs": [
    {
     "name": "stdout",
     "output_type": "stream",
     "text": [
      "5 4 3 2 1 \n",
      "4 3 2 1 \n",
      "3 2 1 \n",
      "2 1 \n",
      "1 \n",
      "\n"
     ]
    }
   ],
   "source": [
    "# домой\n",
    "\n",
    "    \n",
    "k = 5\n",
    "for element in range(0, k + 1):\n",
    "    for i in range(k - element, 0, -1):\n",
    "        print(i, end=' ')\n",
    "    print()"
   ]
  },
  {
   "cell_type": "markdown",
   "metadata": {
    "id": "_-_oLIQcL2y1"
   },
   "source": [
    "## Task #6"
   ]
  },
  {
   "cell_type": "markdown",
   "metadata": {
    "id": "TB4JF3kPL2y2"
   },
   "source": [
    "Can you you create a list from 1300 to 700 with descending steps of 100? Is your stop value included in the list?"
   ]
  },
  {
   "cell_type": "code",
   "execution_count": 18,
   "metadata": {
    "id": "A-N6A-h5L2y2"
   },
   "outputs": [
    {
     "name": "stdout",
     "output_type": "stream",
     "text": [
      "[1300, 1200, 1100, 1000, 900, 800, 700]\n"
     ]
    }
   ],
   "source": [
    "#list range - (start, stop, step)\n",
    "# способ 1\n",
    "a = list(range(700, 1301, 100))\n",
    "a.reverse()\n",
    "print(a)\n"
   ]
  },
  {
   "cell_type": "code",
   "execution_count": 22,
   "metadata": {},
   "outputs": [
    {
     "name": "stdout",
     "output_type": "stream",
     "text": [
      "[1300, 1200, 1100, 1000, 900, 800, 700]\n"
     ]
    }
   ],
   "source": [
    "# способ 2\n",
    "a = list(range(1300, 699, -100))\n",
    "print(a)\n",
    "# лист пишем, чтобы увидеть вместо принта"
   ]
  },
  {
   "cell_type": "markdown",
   "metadata": {
    "id": "vzNASjADL2y3"
   },
   "source": [
    "# Множества (set)\n",
    "\n",
    "Мы уже знаем списки и кортежи - упорядоченные структуры, которые могут хранить в себе объекты любых типов, к которым мы можем обратиться по индексу. Теперь поговорим о стуктурах неупорядоченных - множествах и словарях. \n",
    "\n",
    "Множества хранят некоторое количество объектов, но, в отличие от списка, один объект может храниться в множестве не более одного раза. Кроме того, порядок элементов множества произволен, им нельзя управлять.\n",
    "\n",
    "Тип называется set, это же является конструктором типа, т.е. в функцию set можно передать произвольную последовательность, и из этой последовательности будет построено множество:"
   ]
  },
  {
   "cell_type": "code",
   "execution_count": null,
   "metadata": {
    "id": "OjKCd4khL2y3",
    "outputId": "42a5b4f8-f95e-455e-9713-1fc9853290b6"
   },
   "outputs": [
    {
     "data": {
      "text/plain": [
       "set"
      ]
     },
     "execution_count": 2,
     "metadata": {},
     "output_type": "execute_result"
    }
   ],
   "source": [
    "x = set()\n",
    "type(x)"
   ]
  },
  {
   "cell_type": "code",
   "execution_count": null,
   "metadata": {
    "id": "Km3yRpcoL2y4",
    "outputId": "c998cbdc-d1f5-4645-f8e4-6623cb4c0be3"
   },
   "outputs": [
    {
     "name": "stdout",
     "output_type": "stream",
     "text": [
      "{4, 5, 6}\n"
     ]
    }
   ],
   "source": [
    "x = (4, 5, 6)\n",
    "print(set(x)) # передаем список"
   ]
  },
  {
   "cell_type": "code",
   "execution_count": null,
   "metadata": {
    "id": "cymbuuruL2y5",
    "outputId": "dcb701a9-4465-4290-e225-cf4c6307ab81"
   },
   "outputs": [
    {
     "data": {
      "text/plain": [
       "{0, 1, 2, 3, 4, 5, 6, 7, 8, 9}"
      ]
     },
     "execution_count": 9,
     "metadata": {},
     "output_type": "execute_result"
    }
   ],
   "source": [
    "set(range(10))"
   ]
  },
  {
   "cell_type": "code",
   "execution_count": null,
   "metadata": {
    "id": "VyDumwG2L2y6",
    "outputId": "8b910416-5f3f-42c9-b407-9ac40bc3e002"
   },
   "outputs": [
    {
     "name": "stdout",
     "output_type": "stream",
     "text": [
      "{10, 20, 30}\n",
      "{4, 5, 6}\n",
      "{0, 1, 2, 3, 4, 5, 6, 7, 8, 9}\n",
      "set()\n"
     ]
    }
   ],
   "source": [
    "print(set()) # передаем tuple\n",
    "print(set(range(10)))\n",
    "print(set()) # пустое множество"
   ]
  },
  {
   "cell_type": "markdown",
   "metadata": {
    "id": "jcZBD1hzL2y7"
   },
   "source": [
    "\n",
    "Другой способ создать множество - это перечислить его элементы в фигурных скобках (список - в квадратных, кортеж в круглых, а множество - в фигурных)"
   ]
  },
  {
   "cell_type": "code",
   "execution_count": null,
   "metadata": {
    "id": "_ny1jxs4L2y7",
    "outputId": "b409ced7-5826-4c30-d6fd-1c15cb5f3e57"
   },
   "outputs": [
    {
     "name": "stdout",
     "output_type": "stream",
     "text": [
      "{2, 3, 5, 7}\n",
      "{'horse', 'cat', 'dog'}\n"
     ]
    }
   ],
   "source": [
    "primes = {2, 3, 5, 7}\n",
    "animals = {\"cat\", \"dog\", \"horse\", 'cat'}\n",
    "\n",
    "print(primes)\n",
    "print(animals)\n",
    "\n",
    "# сет - набор уникальных значений, они не повторяются"
   ]
  },
  {
   "cell_type": "code",
   "execution_count": null,
   "metadata": {
    "id": "27jnEyKqL2y8",
    "outputId": "760f93bd-57d7-4c09-ffa0-aaedd440e39c"
   },
   "outputs": [
    {
     "name": "stdout",
     "output_type": "stream",
     "text": [
      "{1, 2, 3, 'dog'}\n"
     ]
    }
   ],
   "source": [
    "x = [1,2,3,2,2,2,2,2,2,2,'dog',1]\n",
    "print(set(x))"
   ]
  },
  {
   "cell_type": "markdown",
   "metadata": {
    "id": "bn997UuaL2y9"
   },
   "source": [
    "Кстати, обратите внимание, что множество может состоять только из уникальных объектов. Выше множество animals включает в себя только одну кошку несмотря на то, что в конструктор мы передали 'cat' два раза. Преобразовать в список в множество - самый простой способ узнать количество уникальных объектов.\n",
    "\n",
    "Со множествами работает почти всё, что работает с последовательностями (но не работают индексы, потому что элементы не хранятся упорядоченно)."
   ]
  },
  {
   "cell_type": "code",
   "execution_count": null,
   "metadata": {
    "id": "Zq4SuS8EL2y9",
    "outputId": "e1f89251-c554-4228-e633-16683787cccd"
   },
   "outputs": [
    {
     "name": "stdout",
     "output_type": "stream",
     "text": [
      "4\n"
     ]
    }
   ],
   "source": [
    "print(len(primes))"
   ]
  },
  {
   "cell_type": "code",
   "execution_count": null,
   "metadata": {
    "id": "hsyqp1CmL2y-",
    "outputId": "8cdc3405-73e4-4068-b99f-96d5fa70a99c"
   },
   "outputs": [
    {
     "data": {
      "text/plain": [
       "True"
      ]
     },
     "execution_count": 14,
     "metadata": {},
     "output_type": "execute_result"
    }
   ],
   "source": [
    "primes = {1,11,22,34,5}\n",
    "11 in primes"
   ]
  },
  {
   "cell_type": "code",
   "execution_count": null,
   "metadata": {
    "id": "A27bdAKSL2y-",
    "outputId": "04e0bf30-e874-4321-bfd9-3edfed97c8c3"
   },
   "outputs": [
    {
     "data": {
      "text/plain": [
       "False"
      ]
     },
     "execution_count": 15,
     "metadata": {},
     "output_type": "execute_result"
    }
   ],
   "source": [
    "animals = {\"cat\", \"dog\", \"horse\", 'cat'}\n",
    "\"cow\" in animals"
   ]
  },
  {
   "cell_type": "code",
   "execution_count": null,
   "metadata": {
    "id": "XGzgUdSlL2y_",
    "outputId": "6fcf0e6e-12d7-4b57-a99e-2f02a816a013"
   },
   "outputs": [
    {
     "name": "stdout",
     "output_type": "stream",
     "text": [
      "4\n",
      "False\n",
      "False\n"
     ]
    }
   ],
   "source": [
    " # длина\n",
    "print(11 in primes) # проверка на наличие элемента in хорошо и быстро работает для множеств\n",
    "print(\"cow\" in animals)"
   ]
  },
  {
   "cell_type": "markdown",
   "metadata": {
    "id": "qVCkm96XL2zA"
   },
   "source": [
    "Все возможные операции с множествами: https://docs.python.org/3/library/stdtypes.html#set-types-set-frozenset\n",
    "\n",
    "Отдельно мы посмотрим на так называемые операции над множествами. Если вы знаете круги Эйлера, то помните как различают объекты множеств - пересечение, объекты, которые принадлежат множеству а, но не принадлежат b и так далее. Давайте посмотрим, как эти операции реализовани в питоне."
   ]
  },
  {
   "cell_type": "markdown",
   "metadata": {
    "id": "UGACYL8cL2zB"
   },
   "source": [
    "### круги Эйлера"
   ]
  },
  {
   "cell_type": "markdown",
   "metadata": {
    "id": "PnVLBaOgL2zB"
   },
   "source": [
    "На полке стояло 26 волшебных книг по заклинаниям, все они были прочитаны. Из них 4 прочитал и Гарри Поттер, и Рон. Гермиона прочитала 7 книг, которых не читали ни Гарри Поттер, ни Рон, и две книги, которые читал Гарри Поттер. Всего Гарри Поттер прочитал 11 книг. Сколько книг прочитал только Рон?"
   ]
  },
  {
   "cell_type": "code",
   "execution_count": 26,
   "metadata": {
    "id": "TyufDovpL2zC"
   },
   "outputs": [],
   "source": [
    "#26\n",
    "\n",
    "#garo = 4\n",
    "#ge = 7\n",
    "#gage = 2\n",
    "\n",
    "#ga = 11\n",
    "#ro = ?\n",
    "\n"
   ]
  },
  {
   "cell_type": "code",
   "execution_count": null,
   "metadata": {
    "id": "aJS-oAtYL2zC"
   },
   "outputs": [],
   "source": [
    "a = {1, 2, 3, 4}\n",
    "b = {3, 4, 5, 6}\n",
    "c = {2, 3}"
   ]
  },
  {
   "cell_type": "code",
   "execution_count": null,
   "metadata": {
    "id": "8NKF7p1FL2zD",
    "outputId": "6c8595f4-1e68-4b7f-b608-4eebb60a09a3"
   },
   "outputs": [
    {
     "name": "stdout",
     "output_type": "stream",
     "text": [
      "True\n"
     ]
    }
   ],
   "source": [
    "print(c <= a)"
   ]
  },
  {
   "cell_type": "code",
   "execution_count": null,
   "metadata": {
    "id": "CDdDDum6L2zE",
    "outputId": "c6f9f2b3-bb75-42c3-9365-4276fbf26c10"
   },
   "outputs": [
    {
     "name": "stdout",
     "output_type": "stream",
     "text": [
      "False\n"
     ]
    }
   ],
   "source": [
    "print(c >= a)"
   ]
  },
  {
   "cell_type": "code",
   "execution_count": 27,
   "metadata": {
    "id": "USgcB5k8L2zE",
    "outputId": "f4f0eb86-f8c8-44db-d7ca-f0aa16924799"
   },
   "outputs": [
    {
     "ename": "NameError",
     "evalue": "name 'b' is not defined",
     "output_type": "error",
     "traceback": [
      "\u001b[0;31m---------------------------------------------------------------------------\u001b[0m",
      "\u001b[0;31mNameError\u001b[0m                                 Traceback (most recent call last)",
      "Input \u001b[0;32mIn [27]\u001b[0m, in \u001b[0;36m<cell line: 1>\u001b[0;34m()\u001b[0m\n\u001b[0;32m----> 1\u001b[0m \u001b[38;5;28mprint\u001b[39m(a \u001b[38;5;241m|\u001b[39m \u001b[43mb\u001b[49m) \u001b[38;5;66;03m# это множество\u001b[39;00m\n\u001b[1;32m      2\u001b[0m \u001b[38;5;28mprint\u001b[39m(a \u001b[38;5;241m&\u001b[39m b)\n",
      "\u001b[0;31mNameError\u001b[0m: name 'b' is not defined"
     ]
    }
   ],
   "source": [
    "print(a | b) # это множество\n",
    "print(a & b)  # это пересечение"
   ]
  },
  {
   "cell_type": "code",
   "execution_count": null,
   "metadata": {
    "id": "t5GGRuaCL2zF",
    "outputId": "c342bb60-32dc-4bd4-e925-024ec999594f"
   },
   "outputs": [
    {
     "data": {
      "text/plain": [
       "{3, 4}"
      ]
     },
     "execution_count": 22,
     "metadata": {},
     "output_type": "execute_result"
    }
   ],
   "source": [
    "a.intersection(b) #- это тоже пересечение"
   ]
  },
  {
   "cell_type": "code",
   "execution_count": null,
   "metadata": {
    "id": "UkJxtVnrL2zG",
    "outputId": "1cfb2971-5450-4810-bdf0-8d08ef5db5e8"
   },
   "outputs": [
    {
     "data": {
      "text/plain": [
       "{1, 2, 3, 4, 5, 6}"
      ]
     },
     "execution_count": 23,
     "metadata": {},
     "output_type": "execute_result"
    }
   ],
   "source": [
    "a.union(b)"
   ]
  },
  {
   "cell_type": "code",
   "execution_count": null,
   "metadata": {
    "id": "rathyxAUL2zG",
    "outputId": "ad9279f8-a555-4074-c6d5-9ad9bfd59649"
   },
   "outputs": [
    {
     "data": {
      "text/plain": [
       "{1, 2, 5, 6}"
      ]
     },
     "execution_count": 24,
     "metadata": {},
     "output_type": "execute_result"
    }
   ],
   "source": [
    "a^b # это объединение без пересечения"
   ]
  },
  {
   "cell_type": "code",
   "execution_count": null,
   "metadata": {
    "id": "3j_o6B5AL2zH",
    "outputId": "7f7083a8-993b-447c-c586-c8fe95b35811"
   },
   "outputs": [
    {
     "data": {
      "text/plain": [
       "{5, 6}"
      ]
     },
     "execution_count": 28,
     "metadata": {},
     "output_type": "execute_result"
    }
   ],
   "source": [
    "b.difference(a) # это объединение без пересечения а относительно б\n",
    "# b.difference(a) + a.difference(b) == a^b"
   ]
  },
  {
   "cell_type": "code",
   "execution_count": null,
   "metadata": {
    "id": "u3WS7_B9L2zI",
    "outputId": "c776b452-4344-4f12-fe58-e1e0db5fa9a4"
   },
   "outputs": [
    {
     "name": "stdout",
     "output_type": "stream",
     "text": [
      "True\n",
      "False\n",
      "True\n",
      "{1, 2, 3, 4, 5, 6}\n",
      "{1, 2, 3, 4, 5, 6}\n",
      "{3, 4}\n",
      "{1, 2}\n",
      "{1, 2, 5, 6}\n",
      "{1, 2, 3, 4}\n"
     ]
    }
   ],
   "source": [
    "a = {1, 2, 3, 4}\n",
    "b = {3, 4, 5, 6}\n",
    "c = {2, 3}\n",
    "\n",
    " # проверка на подмножество (с подномжество a)\n",
    "print(c <= b) # не подмножество, т.к. в b нет 2 \n",
    "print(a >= c) \n",
    "print(a | b) # объединение a.union(b) aka a+b\n",
    "print(a & b) # пересечение a.intersection(b)\n",
    "print(a - b) # разность множеств (все что в a, кроме b) a.difference(b)\n",
    "print(a ^ b) # симметрическая разность множеств (объединение без пересечения) \n",
    "\n",
    "c = a.copy() # копирование множества, или set(a)\n",
    "print(c)"
   ]
  },
  {
   "cell_type": "markdown",
   "metadata": {
    "id": "DfCFlhMuL2zI"
   },
   "source": [
    "## Task #7"
   ]
  },
  {
   "cell_type": "markdown",
   "metadata": {
    "id": "O7K7qEFIL2zJ"
   },
   "source": [
    "Write a Python program to find the elements in a given set that are not in another set."
   ]
  },
  {
   "cell_type": "code",
   "execution_count": 28,
   "metadata": {
    "id": "KyXryYfrL2zJ"
   },
   "outputs": [
    {
     "name": "stdout",
     "output_type": "stream",
     "text": [
      "{1}\n"
     ]
    }
   ],
   "source": [
    "a = {1, 2, 4}\n",
    "b = {2, 4, 6, 10, 12}\n",
    "print(a - b)"
   ]
  },
  {
   "cell_type": "markdown",
   "metadata": {
    "id": "20OBIVOWL2zK"
   },
   "source": [
    "## Task 8"
   ]
  },
  {
   "cell_type": "markdown",
   "metadata": {
    "id": "na9cGazGL2zK"
   },
   "source": [
    "Write a Python program to remove the intersection of a 2nd set from the 1st set."
   ]
  },
  {
   "cell_type": "code",
   "execution_count": null,
   "metadata": {
    "id": "ZpaDsc7DL2zL"
   },
   "outputs": [],
   "source": [
    "# домой"
   ]
  },
  {
   "cell_type": "code",
   "execution_count": null,
   "metadata": {
    "id": "_4xhOksNL2zL",
    "outputId": "5c254095-f986-4919-d6e7-6d8a1382ddfc"
   },
   "outputs": [
    {
     "data": {
      "text/plain": [
       "{1, 2, 3, 4}"
      ]
     },
     "execution_count": 29,
     "metadata": {},
     "output_type": "execute_result"
    }
   ],
   "source": [
    "a = {1, 2, 3, 4}\n",
    "c = a.copy()\n",
    "c"
   ]
  },
  {
   "cell_type": "code",
   "execution_count": null,
   "metadata": {
    "id": "342AVVibL2zM",
    "outputId": "098786f7-13ad-4c0e-9582-3a4f3d0627df"
   },
   "outputs": [
    {
     "name": "stdout",
     "output_type": "stream",
     "text": [
      "True\n",
      "False\n",
      "True\n"
     ]
    }
   ],
   "source": [
    "print(c.issubset(a)) # c <= a \n",
    "print(c.isdisjoint(a)) # a и c не пересекаются?\n",
    "print(a.issuperset(c)) # a включает в себя с как подмножество"
   ]
  },
  {
   "cell_type": "code",
   "execution_count": null,
   "metadata": {
    "id": "-ecW8aR2L2zN",
    "outputId": "8a09f502-8cf5-4ea6-a53c-a0e80d8459f6"
   },
   "outputs": [
    {
     "data": {
      "text/plain": [
       "{1, 2, 3}"
      ]
     },
     "execution_count": 30,
     "metadata": {},
     "output_type": "execute_result"
    }
   ],
   "source": [
    "s = {1,2,3}\n",
    "s"
   ]
  },
  {
   "cell_type": "code",
   "execution_count": null,
   "metadata": {
    "id": "hPz6IqTYL2zN",
    "outputId": "fcd5e227-ddee-468d-f199-5169379e7405"
   },
   "outputs": [
    {
     "data": {
      "text/plain": [
       "{1, 2, 3, 10}"
      ]
     },
     "execution_count": 31,
     "metadata": {},
     "output_type": "execute_result"
    }
   ],
   "source": [
    "s.add(10)\n",
    "s"
   ]
  },
  {
   "cell_type": "code",
   "execution_count": null,
   "metadata": {
    "id": "KyEd8bjUL2zO",
    "outputId": "89b9d89a-d1ac-4d1b-dd15-55eed275e52e"
   },
   "outputs": [
    {
     "data": {
      "text/plain": [
       "{1, 2, 3, 10}"
      ]
     },
     "execution_count": 34,
     "metadata": {},
     "output_type": "execute_result"
    }
   ],
   "source": [
    "s.add(10)\n",
    "s"
   ]
  },
  {
   "cell_type": "code",
   "execution_count": null,
   "metadata": {
    "id": "wxCAl472L2zP",
    "outputId": "c5801b68-fba8-4ee7-fa7e-dd545758f839"
   },
   "outputs": [
    {
     "data": {
      "text/plain": [
       "{1, 2, 3, 10}"
      ]
     },
     "execution_count": 36,
     "metadata": {},
     "output_type": "execute_result"
    }
   ],
   "source": [
    "s.discard(500)\n",
    "s"
   ]
  },
  {
   "cell_type": "code",
   "execution_count": null,
   "metadata": {
    "id": "AJjRpzJhL2zQ",
    "outputId": "39a652d9-0846-47fa-964a-2fcdc4c809e5"
   },
   "outputs": [
    {
     "name": "stdout",
     "output_type": "stream",
     "text": [
      "{1, 2, 3}\n",
      "10\n"
     ]
    }
   ],
   "source": [
    "x = s.pop()\n",
    "print(s)\n",
    "print(x)"
   ]
  },
  {
   "cell_type": "code",
   "execution_count": null,
   "metadata": {
    "id": "nwHDOp12L2zQ",
    "outputId": "e85ba622-b363-4114-89f8-d563564628e1"
   },
   "outputs": [
    {
     "data": {
      "text/plain": [
       "{1, 2, 3}"
      ]
     },
     "execution_count": 38,
     "metadata": {},
     "output_type": "execute_result"
    }
   ],
   "source": [
    "s"
   ]
  },
  {
   "cell_type": "code",
   "execution_count": null,
   "metadata": {
    "id": "_kaHjvwiL2zR",
    "outputId": "6b89d28c-1dbf-4506-957b-e6600d996be3"
   },
   "outputs": [
    {
     "data": {
      "text/plain": [
       "set()"
      ]
     },
     "execution_count": 39,
     "metadata": {},
     "output_type": "execute_result"
    }
   ],
   "source": [
    "s.clear()\n",
    "s"
   ]
  },
  {
   "cell_type": "markdown",
   "metadata": {
    "id": "ppfrXeB7L2zS"
   },
   "source": [
    "Предыдущие операции не меняли множества, создавали новые. А как менять множество:\n"
   ]
  },
  {
   "cell_type": "code",
   "execution_count": null,
   "metadata": {
    "id": "JLgykEfnL2zT",
    "outputId": "7a3ff257-fd1a-4959-fdf7-ab0360df17e4"
   },
   "outputs": [
    {
     "name": "stdout",
     "output_type": "stream",
     "text": [
      "{10, 1, 2, 3}\n",
      "{10, 2, 3}\n",
      "{2, 3}\n",
      "10\n",
      "set()\n"
     ]
    }
   ],
   "source": [
    "s = {1, 2, 3}\n",
    "s.add(10) # добавить\n",
    "print(s) # обратите внимание, что порядок элементов непредсказуем\n",
    "s.remove(1) # удаление элемента\n",
    "s.discard(1) # аналогично, но не будет ошибки, если вдруг такого элемента нет в множестве\n",
    "print(s)\n",
    "x = s.pop() # удаляет и возвращает один произвольный элемент множества (можем сохранить его в переменную)\n",
    "print(s)\n",
    "print(x)\n",
    "s.clear() # очистить\n",
    "print(s)"
   ]
  },
  {
   "cell_type": "code",
   "execution_count": null,
   "metadata": {
    "id": "qPXq0uKZL2zT",
    "outputId": "c51ab734-f348-4719-dc41-594c86e89744"
   },
   "outputs": [
    {
     "data": {
      "text/plain": [
       "{1, 2, 10, 20}"
      ]
     },
     "execution_count": 41,
     "metadata": {},
     "output_type": "execute_result"
    }
   ],
   "source": [
    "s = {1, 2}\n",
    "# s |= {10, 20}\n",
    "s = s|{10, 20}\n",
    "s"
   ]
  },
  {
   "cell_type": "markdown",
   "metadata": {
    "id": "N8ZVpCB5L2zU"
   },
   "source": [
    "Как мы сокращали арифметические операции раньше (например, +=), так же можно сокращать операции над множествами."
   ]
  },
  {
   "cell_type": "code",
   "execution_count": null,
   "metadata": {
    "id": "PAh-xjkHL2zU",
    "outputId": "c0dc6622-06d6-4662-df9d-d2158f3ce304"
   },
   "outputs": [
    {
     "name": "stdout",
     "output_type": "stream",
     "text": [
      "{10, 20}\n"
     ]
    }
   ],
   "source": [
    "s |= {10, 20} # s = s | {10, 20} # объединение множества s с {10,20}\n",
    "print(s)\n",
    "# s ^=, s &= и т.п."
   ]
  },
  {
   "cell_type": "markdown",
   "metadata": {
    "id": "MsMxdxF6L2zV"
   },
   "source": [
    "# Словари (dict)\n",
    "Обычный массив (в питоне это список) можно понимать как функцию, которая сопоставляет начальному отрезку натурального ряда какие-то значения."
   ]
  },
  {
   "cell_type": "markdown",
   "metadata": {
    "id": "J4EQbUZFL2zV"
   },
   "source": [
    "Давайте посмотрим на списки непривычным способом. Списки - это функции (отображения), которые отображают начальный ряд натуральных чисел в объекты (проще говоря - преводят число 0,1,2,3... во что-то): "
   ]
  },
  {
   "cell_type": "code",
   "execution_count": null,
   "metadata": {
    "id": "r9AXzC9rL2zW",
    "outputId": "ffb78bf1-782e-4220-ef7d-3dec7f8b4838"
   },
   "outputs": [
    {
     "name": "stdout",
     "output_type": "stream",
     "text": [
      "10\n",
      "20\n",
      "30\n",
      "a\n"
     ]
    }
   ],
   "source": [
    "l = [10, 20, 30, 'a']\n",
    "print(l[0])\n",
    "print(l[1])\n",
    "print(l[2])\n",
    "print(l[3])"
   ]
  },
  {
   "cell_type": "markdown",
   "metadata": {
    "id": "SMzMSHmPL2zW"
   },
   "source": [
    "В словарях отображать можно не только начала натурального ряда, а произвольные объекты. Представьте себе настоящий словарь или телефонную книжку. Имени человека соответствует номер телефона.\n",
    "\n",
    "Классическое использование словарей в анализе данных: хранить частоту слова в тексте.\n",
    "\n",
    "кот $\\rightarrow$ 10\n",
    "\n",
    "и $\\rightarrow$ 100\n",
    "\n",
    "Тейлора $\\rightarrow$ 2"
   ]
  },
  {
   "cell_type": "markdown",
   "metadata": {
    "id": "VXAwBHrcL2zX"
   },
   "source": [
    "Словарь состоит из набора ключей и соответствующих им значений. Значения могут быть любыми объектами (также как и в списке, хранить можно произвольные объекты). А ключи могут быть почти любыми объектами, но только неизменяемыми. В частности числами, строками, кортежами. Список или множество не могут быть ключом.\n",
    "\n",
    "Одному ключу соответствует ровно одно значение. Но одно и то же значение, в принципе, можно сопоставить разным ключам."
   ]
  },
  {
   "cell_type": "code",
   "execution_count": null,
   "metadata": {
    "id": "2jXd3d_vL2zX",
    "outputId": "12f76ed7-ffd7-412d-c9f1-8f8e14d36828"
   },
   "outputs": [
    {
     "data": {
      "text/plain": [
       "dict"
      ]
     },
     "execution_count": 43,
     "metadata": {},
     "output_type": "execute_result"
    }
   ],
   "source": [
    "a = dict()\n",
    "type(a)"
   ]
  },
  {
   "cell_type": "code",
   "execution_count": null,
   "metadata": {
    "id": "zA4tIie_L2zY",
    "outputId": "5e957740-f6ac-4652-d9e0-add83b1bd92f"
   },
   "outputs": [
    {
     "data": {
      "text/plain": [
       "{'chapter1': 'ghfdlksgrjkasgdjkagrdjksargs'}"
      ]
     },
     "execution_count": 44,
     "metadata": {},
     "output_type": "execute_result"
    }
   ],
   "source": [
    "a['chapter1'] = 'ghfdlksgrjkasgdjkagrdjksargs'\n",
    "a"
   ]
  },
  {
   "cell_type": "code",
   "execution_count": null,
   "metadata": {
    "id": "BIcQ0pfhL2zY"
   },
   "outputs": [],
   "source": [
    "a[1] = 'hrjegrejk'\n"
   ]
  },
  {
   "cell_type": "code",
   "execution_count": null,
   "metadata": {
    "id": "CCkWq8LGL2zZ"
   },
   "outputs": [],
   "source": [
    "x = (3,4,5)\n",
    "a[x] = 'hrjekwslerw'"
   ]
  },
  {
   "cell_type": "code",
   "execution_count": null,
   "metadata": {
    "id": "iSbStHccL2zZ"
   },
   "outputs": [],
   "source": [
    "x = (1,2,3,'str')\n",
    "a[x] = 'fuidaslt'"
   ]
  },
  {
   "cell_type": "code",
   "execution_count": null,
   "metadata": {
    "id": "0ZXUys6VL2za",
    "outputId": "91c47121-4ba6-4f8b-be71-9a25ca339817"
   },
   "outputs": [
    {
     "data": {
      "text/plain": [
       "{'chapter1': 'ghfdlksgrjkasgdjkagrdjksargs',\n",
       " 1: 'hrjegrejk',\n",
       " (3, 4, 5): 'hrjekwslerw',\n",
       " (1, 2, 3, 'str'): 'fuidaslt'}"
      ]
     },
     "execution_count": 53,
     "metadata": {},
     "output_type": "execute_result"
    }
   ],
   "source": [
    "a"
   ]
  },
  {
   "cell_type": "code",
   "execution_count": null,
   "metadata": {
    "id": "UtI8aYYTL2za",
    "outputId": "1f992396-4664-436d-859b-1451a02947ad"
   },
   "outputs": [
    {
     "data": {
      "text/plain": [
       "{(2, 3): [2, 3]}"
      ]
     },
     "execution_count": 30,
     "metadata": {},
     "output_type": "execute_result"
    }
   ],
   "source": [
    "a = dict()\n",
    "a[(2,3)] = [2,3] # кортеж может быть ключом, потому что он неизменямый\n",
    "a"
   ]
  },
  {
   "cell_type": "code",
   "execution_count": null,
   "metadata": {
    "id": "QYfpM_ueL2zb",
    "outputId": "bbb10179-e0c2-4929-869c-b2bf1d29b7dc"
   },
   "outputs": [
    {
     "ename": "TypeError",
     "evalue": "unhashable type: 'list'",
     "output_type": "error",
     "traceback": [
      "\u001b[1;31m---------------------------------------------------------------------------\u001b[0m",
      "\u001b[1;31mTypeError\u001b[0m                                 Traceback (most recent call last)",
      "\u001b[1;32m<ipython-input-31-c056762b57aa>\u001b[0m in \u001b[0;36m<module>\u001b[1;34m()\u001b[0m\n\u001b[0;32m      1\u001b[0m \u001b[0mb\u001b[0m \u001b[1;33m=\u001b[0m \u001b[0mdict\u001b[0m\u001b[1;33m(\u001b[0m\u001b[1;33m)\u001b[0m\u001b[1;33m\u001b[0m\u001b[0m\n\u001b[1;32m----> 2\u001b[1;33m \u001b[0mb\u001b[0m\u001b[1;33m[\u001b[0m\u001b[1;33m[\u001b[0m\u001b[1;36m2\u001b[0m\u001b[1;33m,\u001b[0m\u001b[1;36m3\u001b[0m\u001b[1;33m]\u001b[0m\u001b[1;33m]\u001b[0m \u001b[1;33m=\u001b[0m \u001b[1;33m[\u001b[0m\u001b[1;36m2\u001b[0m\u001b[1;33m,\u001b[0m\u001b[1;36m3\u001b[0m\u001b[1;33m]\u001b[0m \u001b[1;31m# а список уже нет, получим ошибку\u001b[0m\u001b[1;33m\u001b[0m\u001b[0m\n\u001b[0m\u001b[0;32m      3\u001b[0m \u001b[0mprint\u001b[0m\u001b[1;33m(\u001b[0m\u001b[0mb\u001b[0m\u001b[1;33m)\u001b[0m\u001b[1;33m\u001b[0m\u001b[0m\n",
      "\u001b[1;31mTypeError\u001b[0m: unhashable type: 'list'"
     ]
    }
   ],
   "source": [
    "b = dict()\n",
    "b[[2,3]] = [2,3] # а список уже нет, получим ошибку\n",
    "print(b)"
   ]
  },
  {
   "cell_type": "markdown",
   "metadata": {
    "id": "Kpbd5X2iL2zc"
   },
   "source": [
    "### Создание словаря\n",
    "В фигурных скобках (как множество), через двоеточие ключ:значение"
   ]
  },
  {
   "cell_type": "code",
   "execution_count": null,
   "metadata": {
    "id": "vu-0MTSPL2zc",
    "outputId": "418939e4-d1c7-409f-f0b8-56972587509b"
   },
   "outputs": [
    {
     "data": {
      "text/plain": [
       "{}"
      ]
     },
     "execution_count": 55,
     "metadata": {},
     "output_type": "execute_result"
    }
   ],
   "source": [
    "d = dict()\n",
    "d"
   ]
  },
  {
   "cell_type": "code",
   "execution_count": null,
   "metadata": {
    "id": "OJGUhtINL2zd",
    "outputId": "5f6f3bd5-ee9f-47d9-8998-287f0e35ba9d"
   },
   "outputs": [
    {
     "name": "stdout",
     "output_type": "stream",
     "text": [
      "{'кот': 10, 'и': 100, 'Тейлора': 2}\n"
     ]
    }
   ],
   "source": [
    "d1 = {\"кот\": 10, \"и\": 100, \"Тейлора\": 2}\n",
    "print(d1)"
   ]
  },
  {
   "cell_type": "code",
   "execution_count": null,
   "metadata": {
    "id": "PeV-PrhlL2zd",
    "outputId": "923d52db-a463-4d8e-a705-364c6edfb41e"
   },
   "outputs": [
    {
     "data": {
      "text/plain": [
       "10"
      ]
     },
     "execution_count": 57,
     "metadata": {},
     "output_type": "execute_result"
    }
   ],
   "source": [
    "d1[\"кот\"]"
   ]
  },
  {
   "cell_type": "markdown",
   "metadata": {
    "id": "uky9yclrL2ze"
   },
   "source": [
    "Через функцию dict(). Обратите внимание, что тогда ключ-значение задаются не через двоеточие, а через знак присваивания. А строковые ключи пишем без кавычек - по сути мы создаем переменные с такими названиями и присваиваим им значения (а потом функция dict() уже превратит их в строки)."
   ]
  },
  {
   "cell_type": "code",
   "execution_count": null,
   "metadata": {
    "id": "F60jPo24L2zf",
    "outputId": "f10bae0c-d9f9-4f02-f14e-eb8f0fe0461c"
   },
   "outputs": [
    {
     "name": "stdout",
     "output_type": "stream",
     "text": [
      "{'кот': 10, 'и': 100, 'Тейлора': 2}\n"
     ]
    }
   ],
   "source": [
    "d2 = dict(кот=10, и=100, Тейлора=2)\n",
    "print(d2) # получили тот же результат, что выше"
   ]
  },
  {
   "cell_type": "markdown",
   "metadata": {
    "id": "X5lEffuaL2zg"
   },
   "source": [
    "И третий способ - передаем функции dict() список списков или кортежей с парами ключ-значение."
   ]
  },
  {
   "cell_type": "code",
   "execution_count": null,
   "metadata": {
    "id": "KNn6svFLL2zg",
    "outputId": "ca0c91cc-d438-49d0-e56b-3496ea1ceeba"
   },
   "outputs": [
    {
     "name": "stdout",
     "output_type": "stream",
     "text": [
      "{'кот': 10, 'и': 100, 'Тейлора': 2}\n"
     ]
    }
   ],
   "source": [
    "d3 = dict([(\"кот\", 10), (\"и\", 100), (\"Тейлора\", 2)]) # перечисление (например, список) tuple\n",
    "print(d3)"
   ]
  },
  {
   "cell_type": "markdown",
   "metadata": {
    "id": "KLq-qIfkL2zh"
   },
   "source": [
    "Помните, когда мы говорили про списки, мы обсуждали проблему того, что важно создавать именно копию объекта, чтобы сохранять исходный список. Копию словаря можно сделать так"
   ]
  },
  {
   "cell_type": "code",
   "execution_count": null,
   "metadata": {
    "id": "wb-3HSMTL2zh",
    "outputId": "212315c4-4785-4eb4-fd10-9741f4f72b50"
   },
   "outputs": [
    {
     "name": "stdout",
     "output_type": "stream",
     "text": [
      "{'кот': 10, 'и': 100, 'Тейлора': 2}\n"
     ]
    }
   ],
   "source": [
    "d4 = dict(d3) # фактически, копируем dict который строчкой выше\n",
    "print(d4)"
   ]
  },
  {
   "cell_type": "code",
   "execution_count": null,
   "metadata": {
    "id": "-IElQ1HnL2zi",
    "outputId": "192b6a28-2d1d-4452-b787-6ac26b9b40f3"
   },
   "outputs": [
    {
     "data": {
      "text/plain": [
       "True"
      ]
     },
     "execution_count": 62,
     "metadata": {},
     "output_type": "execute_result"
    }
   ],
   "source": [
    "d1 == d2 == d3 == d4 # Содержание всех словарей одинаковое"
   ]
  },
  {
   "cell_type": "markdown",
   "metadata": {
    "id": "w8AVQjbaL2zj"
   },
   "source": [
    "Пустой словарь можно создать двумя способами."
   ]
  },
  {
   "cell_type": "code",
   "execution_count": null,
   "metadata": {
    "id": "YQf9DUB3L2zj",
    "outputId": "ed915928-a368-4347-be8c-7f8140294fd3"
   },
   "outputs": [
    {
     "name": "stdout",
     "output_type": "stream",
     "text": [
      "{} {}\n"
     ]
    }
   ],
   "source": [
    "d2 = {} # это пустой словарь (но не пустое множество)\n",
    "d4 = dict()\n",
    "print(d2, d4)"
   ]
  },
  {
   "cell_type": "code",
   "execution_count": null,
   "metadata": {
    "id": "YNEgGQK1L2zk",
    "outputId": "13d85308-e24e-4ff7-d510-0b4c269da740"
   },
   "outputs": [
    {
     "data": {
      "text/plain": [
       "dict"
      ]
     },
     "execution_count": 64,
     "metadata": {},
     "output_type": "execute_result"
    }
   ],
   "source": [
    "x = {}\n",
    "type(x)"
   ]
  },
  {
   "cell_type": "markdown",
   "metadata": {
    "id": "bXqPMRyCL2zl"
   },
   "source": [
    "## Task #9"
   ]
  },
  {
   "cell_type": "markdown",
   "metadata": {
    "id": "WuutELLUL2zm"
   },
   "source": [
    "Access the value of key ‘history’ from the below"
   ]
  },
  {
   "cell_type": "code",
   "execution_count": 30,
   "metadata": {
    "id": "RN_B4lZRL2zm"
   },
   "outputs": [],
   "source": [
    "sampleDict = { \n",
    "   \"class\":{ \n",
    "      \"student\":{ \n",
    "         \"name\":\"Mike\",\n",
    "         \"marks\":{ \n",
    "            \"physics\": 70,\n",
    "            \"history\": 80\n",
    "         }\n",
    "      }\n",
    "   }\n",
    "}\n",
    "\n"
   ]
  },
  {
   "cell_type": "code",
   "execution_count": 31,
   "metadata": {},
   "outputs": [
    {
     "data": {
      "text/plain": [
       "80"
      ]
     },
     "execution_count": 31,
     "metadata": {},
     "output_type": "execute_result"
    }
   ],
   "source": [
    "sampleDict[\"class\"][\"student\"][\"marks\"][\"history\"]"
   ]
  },
  {
   "cell_type": "code",
   "execution_count": null,
   "metadata": {},
   "outputs": [],
   "source": []
  },
  {
   "cell_type": "markdown",
   "metadata": {
    "id": "zhbuKXuYL2zn"
   },
   "source": [
    "## Task #10"
   ]
  },
  {
   "cell_type": "markdown",
   "metadata": {
    "id": "_JaI0vHDL2zo"
   },
   "source": [
    "Write a Python program to convert a tuple to a dictionary.\n",
    "\n",
    "Input: `[(0, 1), (1, 2), (2, 3)]`\n",
    "\n",
    "Output: `{0: 1, 1: 2, 2: 3}`"
   ]
  },
  {
   "cell_type": "code",
   "execution_count": 37,
   "metadata": {},
   "outputs": [],
   "source": [
    "data = [(0, 1), (1, 2), (2, 3)]\n",
    "dict(data)\n",
    "result = {}\n"
   ]
  },
  {
   "cell_type": "code",
   "execution_count": 38,
   "metadata": {},
   "outputs": [],
   "source": [
    "for pair in data:\n",
    "    key = pair[0]\n",
    "    value = pair[1]\n",
    "    result[key] = value"
   ]
  },
  {
   "cell_type": "raw",
   "metadata": {},
   "source": [
    "# почему не работает??"
   ]
  },
  {
   "cell_type": "markdown",
   "metadata": {
    "id": "qr8iH5j_L2zp"
   },
   "source": [
    "## Task 11"
   ]
  },
  {
   "cell_type": "markdown",
   "metadata": {
    "id": "9rScStQrL2zq"
   },
   "source": [
    "Delete set of keys from a dictionary"
   ]
  },
  {
   "cell_type": "code",
   "execution_count": 44,
   "metadata": {
    "id": "ObrJO9VOL2zq"
   },
   "outputs": [],
   "source": [
    "sampleDict = {\n",
    "  \"name\": \"Kelly\",\n",
    "  \"age\":25,\n",
    "  \"salary\": 8000,\n",
    "  \"city\": \"New york\"\n",
    "}\n",
    "keysToRemove = [\"name\", \"salary\"]"
   ]
  },
  {
   "cell_type": "code",
   "execution_count": 47,
   "metadata": {
    "id": "Ur9XdxlYL2zr"
   },
   "outputs": [
    {
     "ename": "KeyError",
     "evalue": "'age'",
     "output_type": "error",
     "traceback": [
      "\u001b[0;31m---------------------------------------------------------------------------\u001b[0m",
      "\u001b[0;31mKeyError\u001b[0m                                  Traceback (most recent call last)",
      "Input \u001b[0;32mIn [47]\u001b[0m, in \u001b[0;36m<cell line: 2>\u001b[0;34m()\u001b[0m\n\u001b[1;32m      4\u001b[0m         \u001b[38;5;28;01mcontinue\u001b[39;00m\n\u001b[1;32m      5\u001b[0m     \u001b[38;5;28;01melse\u001b[39;00m:\n\u001b[0;32m----> 6\u001b[0m         \u001b[43mnewDict\u001b[49m\u001b[43m[\u001b[49m\u001b[43mkey\u001b[49m\u001b[43m]\u001b[49m\n\u001b[1;32m      7\u001b[0m newDict\n",
      "\u001b[0;31mKeyError\u001b[0m: 'age'"
     ]
    }
   ],
   "source": [
    "newDict = {}\n",
    "for key in sampleDict:\n",
    "    if key in keysToRemove:\n",
    "        continue\n",
    "    else:\n",
    "        newDict[key]\n",
    "newDict\n",
    "\n",
    "# Почему не работает???? я все правильно переписала"
   ]
  },
  {
   "cell_type": "code",
   "execution_count": null,
   "metadata": {
    "collapsed": true
   },
   "outputs": [],
   "source": []
  },
  {
   "cell_type": "code",
   "execution_count": 50,
   "metadata": {},
   "outputs": [],
   "source": [
    "old = {\"a\": 2, \"b\": 4, \"c\": 8}\n",
    "new = {\"a\": 4, \"b\": 16, \"c\": 64}\n",
    "\n"
   ]
  },
  {
   "cell_type": "code",
   "execution_count": 51,
   "metadata": {},
   "outputs": [
    {
     "data": {
      "text/plain": [
       "{'a': 4, 'b': 16, 'c': 64}"
      ]
     },
     "execution_count": 51,
     "metadata": {},
     "output_type": "execute_result"
    }
   ],
   "source": [
    "new = {}\n",
    "for key in old:\n",
    "    new[key] = old[key] ** 2\n",
    "new"
   ]
  },
  {
   "cell_type": "code",
   "execution_count": null,
   "metadata": {},
   "outputs": [],
   "source": []
  },
  {
   "cell_type": "markdown",
   "metadata": {
    "id": "Pg1eJHLuL2zs"
   },
   "source": [
    "### Операции со словарями"
   ]
  },
  {
   "cell_type": "markdown",
   "metadata": {
    "id": "jXlLMsVmL2zt"
   },
   "source": [
    "Как мы уже говорили, словари неупорядоченные структуры и обратиться по индексу к объекту уже больше не удастся."
   ]
  },
  {
   "cell_type": "code",
   "execution_count": null,
   "metadata": {
    "id": "bH9PJSI-L2zu",
    "outputId": "0311c204-672a-47df-88bf-98c173632b66"
   },
   "outputs": [
    {
     "ename": "KeyError",
     "evalue": "1",
     "output_type": "error",
     "traceback": [
      "\u001b[1;31m---------------------------------------------------------------------------\u001b[0m",
      "\u001b[1;31mKeyError\u001b[0m                                  Traceback (most recent call last)",
      "\u001b[1;32m<ipython-input-57-627b04325301>\u001b[0m in \u001b[0;36m<module>\u001b[1;34m()\u001b[0m\n\u001b[1;32m----> 1\u001b[1;33m \u001b[0md1\u001b[0m\u001b[1;33m[\u001b[0m\u001b[1;36m1\u001b[0m\u001b[1;33m]\u001b[0m \u001b[1;31m# выдаст ошибку во всех случах кроме того, если в вашем словаре вдруг есть ключ 1\u001b[0m\u001b[1;33m\u001b[0m\u001b[0m\n\u001b[0m",
      "\u001b[1;31mKeyError\u001b[0m: 1"
     ]
    }
   ],
   "source": [
    "d1[1] # выдаст ошибку во всех случах кроме того, если в вашем словаре вдруг есть ключ 1"
   ]
  },
  {
   "cell_type": "markdown",
   "metadata": {
    "id": "70VNU3TLL2zu"
   },
   "source": [
    "Но можно обращаться к значению по ключу."
   ]
  },
  {
   "cell_type": "code",
   "execution_count": null,
   "metadata": {
    "id": "KcGX2aSCL2zv",
    "outputId": "60da7a3c-3c88-4986-8cbe-7b0e2cadd248"
   },
   "outputs": [
    {
     "name": "stdout",
     "output_type": "stream",
     "text": [
      "10\n"
     ]
    }
   ],
   "source": [
    "d3 = dict([(\"кот\", 10), (\"и\", 100), (\"Тейлора\", 2)])\n",
    "print(d1['кот'])"
   ]
  },
  {
   "cell_type": "code",
   "execution_count": null,
   "metadata": {
    "id": "XYUPo730L2zx",
    "outputId": "3871251d-6af4-4265-f5ce-f82b8b7946b0"
   },
   "outputs": [
    {
     "ename": "KeyError",
     "evalue": "1",
     "output_type": "error",
     "traceback": [
      "\u001b[0;31m---------------------------------------------------------------------------\u001b[0m",
      "\u001b[0;31mKeyError\u001b[0m                                  Traceback (most recent call last)",
      "\u001b[0;32m<ipython-input-66-b333f2df0ab4>\u001b[0m in \u001b[0;36m<module>\u001b[0;34m\u001b[0m\n\u001b[0;32m----> 1\u001b[0;31m \u001b[0md1\u001b[0m\u001b[0;34m[\u001b[0m\u001b[0;36m1\u001b[0m\u001b[0;34m]\u001b[0m\u001b[0;34m\u001b[0m\u001b[0;34m\u001b[0m\u001b[0m\n\u001b[0m",
      "\u001b[0;31mKeyError\u001b[0m: 1"
     ]
    }
   ],
   "source": [
    "d1[1]"
   ]
  },
  {
   "cell_type": "markdown",
   "metadata": {
    "id": "XNMD6JEhL2zx"
   },
   "source": [
    "Можно создать новую пару ключ-значение. Для этого просто указываем в квадратных скобках название нового ключа."
   ]
  },
  {
   "cell_type": "code",
   "execution_count": null,
   "metadata": {
    "id": "ercTEITyL2zy",
    "outputId": "2a849ed3-6c50-4ee4-bf19-eb691719ed39"
   },
   "outputs": [
    {
     "name": "stdout",
     "output_type": "stream",
     "text": [
      "test\n"
     ]
    }
   ],
   "source": [
    "d1[1] = 'test'\n",
    "print(d1[1]) # теперь работает!"
   ]
  },
  {
   "cell_type": "markdown",
   "metadata": {
    "id": "i3VraXkeL2zz"
   },
   "source": [
    "Внимание: если элемент с указанным ключом уже существует, новый с таким же ключом не добавится! Ключ – это уникальный идентификатор элемента. Если мы добавим в словарь новый элемент с уже существующим ключом, мы просто изменим старый – словари являются изменяемыми объектами. "
   ]
  },
  {
   "cell_type": "code",
   "execution_count": null,
   "metadata": {
    "id": "UXW8k3ShL2z0",
    "outputId": "0caa738d-824a-450e-cd1f-1590394a42cb"
   },
   "outputs": [
    {
     "data": {
      "text/plain": [
       "{'кот': 11, 'и': 100, 'Тейлора': 2, 1: 'test'}"
      ]
     },
     "execution_count": 68,
     "metadata": {},
     "output_type": "execute_result"
    }
   ],
   "source": [
    "d3 = dict([(\"кот\", 10), (\"и\", 100), (\"Тейлора\", 2)])\n",
    "d1[\"кот\"] = 11 # так же как в списке по индексу - можно присвоить новое значение по ключу\n",
    "d1"
   ]
  },
  {
   "cell_type": "code",
   "execution_count": null,
   "metadata": {
    "id": "I52aC7uJL2z0",
    "outputId": "5b00e50b-867e-4b82-e67a-62200a53560f"
   },
   "outputs": [
    {
     "data": {
      "text/plain": [
       "{'кот': 13, 'и': 100, 'Тейлора': 2, 1: 'test'}"
      ]
     },
     "execution_count": 70,
     "metadata": {},
     "output_type": "execute_result"
    }
   ],
   "source": [
    "d1[\"кот\"] += 1 # или даже изменить его за счет арифметической операции\n",
    "d1"
   ]
  },
  {
   "cell_type": "markdown",
   "metadata": {
    "id": "9PQa2DPgL2z1"
   },
   "source": [
    "А вот одинаковые значения в словаре могут быть."
   ]
  },
  {
   "cell_type": "code",
   "execution_count": null,
   "metadata": {
    "id": "2Lo12FfnL2z2",
    "outputId": "3961ff83-b644-4cb6-967e-c122e1f82f83"
   },
   "outputs": [
    {
     "name": "stdout",
     "output_type": "stream",
     "text": [
      "{'кот': 13, 'и': 100, 'Тейлора': 2, 1: 'test', 'собака': 13}\n"
     ]
    }
   ],
   "source": [
    "d1['собака'] = 13\n",
    "print(d1)"
   ]
  },
  {
   "cell_type": "markdown",
   "metadata": {
    "id": "CeDpuLBYL2z5"
   },
   "source": [
    "## Task 12"
   ]
  },
  {
   "cell_type": "markdown",
   "metadata": {
    "id": "TD8WLnZXL2z6"
   },
   "source": [
    "Count frequency for each word in a given text"
   ]
  },
  {
   "cell_type": "code",
   "execution_count": 53,
   "metadata": {
    "id": "0dJTN918L2z8"
   },
   "outputs": [],
   "source": [
    "text = \"\"\"the outbreak of coronavirus disease 2019 ( COVID - 19 ) has created a global health crisis that has had a deep impact on the way we perceive our world and our everyday lives . Not only the rate of contagion and patterns of transmission threatens our sense of agency , but the safety measures put in place to contain the spread of the virus also require social distancing by refraining from doing what is inherently human , which is to find solace in the company of others . Within this context of physical threat , social and physical distancing , as well as public alarm , what has been ( and can be ) the role of the different mass media channels in our lives on individual , social and societal levels ? Mass media have long been recognized as powerful forces shaping how we experience the world and ourselves . This recognition is accompanied by a growing volume of research , that closely follows the footsteps of technological transformations ( e . g . radio , movies , television , the internet , mobiles ) and the zeitgeist ( e . g . cold war , 9 / 11 , climate change ) in an attempt to map mass media major impacts on how we perceive ourselves , both as individuals and citizens . Are media ( broadcast and digital ) still able to convey a sense of unity reaching large audiences , or are messages lost in the noisy crowd of mass self - communication ?\"\"\""
   ]
  },
  {
   "cell_type": "code",
   "execution_count": 58,
   "metadata": {
    "id": "el9zdCrvL2z9"
   },
   "outputs": [
    {
     "data": {
      "text/plain": [
       "259"
      ]
     },
     "execution_count": 58,
     "metadata": {},
     "output_type": "execute_result"
    }
   ],
   "source": [
    "words = text.split()\n",
    "len(words)"
   ]
  },
  {
   "cell_type": "code",
   "execution_count": 59,
   "metadata": {},
   "outputs": [
    {
     "data": {
      "text/plain": [
       "{'the': 14,\n",
       " 'outbreak': 1,\n",
       " 'of': 12,\n",
       " 'coronavirus': 1,\n",
       " 'disease': 1,\n",
       " '2019': 1,\n",
       " '(': 5,\n",
       " 'COVID': 1,\n",
       " '-': 2,\n",
       " '19': 1,\n",
       " ')': 5,\n",
       " 'has': 3,\n",
       " 'created': 1,\n",
       " 'a': 4,\n",
       " 'global': 1,\n",
       " 'health': 1,\n",
       " 'crisis': 1,\n",
       " 'that': 2,\n",
       " 'had': 1,\n",
       " 'deep': 1,\n",
       " 'impact': 1,\n",
       " 'on': 3,\n",
       " 'way': 1,\n",
       " 'we': 3,\n",
       " 'perceive': 2,\n",
       " 'our': 4,\n",
       " 'world': 2,\n",
       " 'and': 9,\n",
       " 'everyday': 1,\n",
       " 'lives': 2,\n",
       " '.': 8,\n",
       " 'Not': 1,\n",
       " 'only': 1,\n",
       " 'rate': 1,\n",
       " 'contagion': 1,\n",
       " 'patterns': 1,\n",
       " 'transmission': 1,\n",
       " 'threatens': 1,\n",
       " 'sense': 2,\n",
       " 'agency': 1,\n",
       " ',': 15,\n",
       " 'but': 1,\n",
       " 'safety': 1,\n",
       " 'measures': 1,\n",
       " 'put': 1,\n",
       " 'in': 5,\n",
       " 'place': 1,\n",
       " 'to': 4,\n",
       " 'contain': 1,\n",
       " 'spread': 1,\n",
       " 'virus': 1,\n",
       " 'also': 1,\n",
       " 'require': 1,\n",
       " 'social': 3,\n",
       " 'distancing': 2,\n",
       " 'by': 2,\n",
       " 'refraining': 1,\n",
       " 'from': 1,\n",
       " 'doing': 1,\n",
       " 'what': 2,\n",
       " 'is': 3,\n",
       " 'inherently': 1,\n",
       " 'human': 1,\n",
       " 'which': 1,\n",
       " 'find': 1,\n",
       " 'solace': 1,\n",
       " 'company': 1,\n",
       " 'others': 1,\n",
       " 'Within': 1,\n",
       " 'this': 1,\n",
       " 'context': 1,\n",
       " 'physical': 2,\n",
       " 'threat': 1,\n",
       " 'as': 4,\n",
       " 'well': 1,\n",
       " 'public': 1,\n",
       " 'alarm': 1,\n",
       " 'been': 2,\n",
       " 'can': 1,\n",
       " 'be': 1,\n",
       " 'role': 1,\n",
       " 'different': 1,\n",
       " 'mass': 3,\n",
       " 'media': 4,\n",
       " 'channels': 1,\n",
       " 'individual': 1,\n",
       " 'societal': 1,\n",
       " 'levels': 1,\n",
       " '?': 2,\n",
       " 'Mass': 1,\n",
       " 'have': 1,\n",
       " 'long': 1,\n",
       " 'recognized': 1,\n",
       " 'powerful': 1,\n",
       " 'forces': 1,\n",
       " 'shaping': 1,\n",
       " 'how': 2,\n",
       " 'experience': 1,\n",
       " 'ourselves': 2,\n",
       " 'This': 1,\n",
       " 'recognition': 1,\n",
       " 'accompanied': 1,\n",
       " 'growing': 1,\n",
       " 'volume': 1,\n",
       " 'research': 1,\n",
       " 'closely': 1,\n",
       " 'follows': 1,\n",
       " 'footsteps': 1,\n",
       " 'technological': 1,\n",
       " 'transformations': 1,\n",
       " 'e': 2,\n",
       " 'g': 2,\n",
       " 'radio': 1,\n",
       " 'movies': 1,\n",
       " 'television': 1,\n",
       " 'internet': 1,\n",
       " 'mobiles': 1,\n",
       " 'zeitgeist': 1,\n",
       " 'cold': 1,\n",
       " 'war': 1,\n",
       " '9': 1,\n",
       " '/': 1,\n",
       " '11': 1,\n",
       " 'climate': 1,\n",
       " 'change': 1,\n",
       " 'an': 1,\n",
       " 'attempt': 1,\n",
       " 'map': 1,\n",
       " 'major': 1,\n",
       " 'impacts': 1,\n",
       " 'both': 1,\n",
       " 'individuals': 1,\n",
       " 'citizens': 1,\n",
       " 'Are': 1,\n",
       " 'broadcast': 1,\n",
       " 'digital': 1,\n",
       " 'still': 1,\n",
       " 'able': 1,\n",
       " 'convey': 1,\n",
       " 'unity': 1,\n",
       " 'reaching': 1,\n",
       " 'large': 1,\n",
       " 'audiences': 1,\n",
       " 'or': 1,\n",
       " 'are': 1,\n",
       " 'messages': 1,\n",
       " 'lost': 1,\n",
       " 'noisy': 1,\n",
       " 'crowd': 1,\n",
       " 'self': 1,\n",
       " 'communication': 1}"
      ]
     },
     "execution_count": 59,
     "metadata": {},
     "output_type": "execute_result"
    }
   ],
   "source": [
    "freq_counter = {}\n",
    "for word in words:\n",
    "    if word not in freq_counter:\n",
    "        freq_counter[word] = 1\n",
    "    else:\n",
    "        freq_counter[word] += 1\n",
    "freq_counter"
   ]
  },
  {
   "cell_type": "markdown",
   "metadata": {
    "id": "5UsSz6M3L2z-"
   },
   "source": [
    "Кроме обращения по ключу, можно достать значение с помощью метода .get(). Отличие работы метода в том, что если ключа еще нет в словаре, он не генерирует ошибку, а возвращает объект типа None (\"ничего\"). Это очень полезно в решении некоторых задач. "
   ]
  },
  {
   "cell_type": "code",
   "execution_count": null,
   "metadata": {
    "id": "U6huEFhsL2z-",
    "outputId": "bfcc043d-74ff-4244-98ed-6612495a69bc"
   },
   "outputs": [
    {
     "data": {
      "text/plain": [
       "{'кот': 13, 'и': 100, 'Тейлора': 2, 1: 'test', 'собака': 13}"
      ]
     },
     "execution_count": 73,
     "metadata": {},
     "output_type": "execute_result"
    }
   ],
   "source": [
    "d1"
   ]
  },
  {
   "cell_type": "code",
   "execution_count": null,
   "metadata": {
    "id": "2xKdjpL6L20A"
   },
   "outputs": [],
   "source": [
    "print(d1['кот'])"
   ]
  },
  {
   "cell_type": "code",
   "execution_count": null,
   "metadata": {
    "id": "NHDiVSf9L20A",
    "outputId": "72b0dc22-c429-4c6e-83af-167cd0241095"
   },
   "outputs": [
    {
     "name": "stdout",
     "output_type": "stream",
     "text": [
      "None\n"
     ]
    }
   ],
   "source": [
    "print(d1.get(\"ктоо\")) # вернут None\n"
   ]
  },
  {
   "cell_type": "markdown",
   "metadata": {
    "id": "oFWVNxFbL20B"
   },
   "source": [
    "Удобство метода .get() заключается в том, что мы сами можем установить, какое значение будет возвращено, в случае, если пары с выбранным ключом нет в словаре. Так, вместо None мы можем вернуть строку Not found, и ломаться ничего не будет:"
   ]
  },
  {
   "cell_type": "code",
   "execution_count": null,
   "metadata": {
    "id": "R1DRR6YmL20C",
    "outputId": "a55b3762-1377-44f2-cfdc-5b2e770d22e3"
   },
   "outputs": [
    {
     "name": "stdout",
     "output_type": "stream",
     "text": [
      "Not found\n",
      "False\n"
     ]
    }
   ],
   "source": [
    "print(d1.get(\"ктоо\", 'Not found')) # передаем вторым аргументом, что возвращать\n",
    "print(d1.get(\"ктоо\", False)) # передаем вторым аргументом, что возвращать"
   ]
  },
  {
   "cell_type": "markdown",
   "metadata": {
    "id": "wcZq18elL20E"
   },
   "source": [
    "Также со словарями работают уже знакомые нам операции - проверка количества элементов, проверка на наличие объектов."
   ]
  },
  {
   "cell_type": "code",
   "execution_count": null,
   "metadata": {
    "id": "nc6uxxrRL20E"
   },
   "outputs": [],
   "source": [
    "d1"
   ]
  },
  {
   "cell_type": "code",
   "execution_count": null,
   "metadata": {
    "id": "M6STgsmhL20F",
    "outputId": "1da57ea0-c5a8-415a-f9f6-7ad2889dc378"
   },
   "outputs": [
    {
     "name": "stdout",
     "output_type": "stream",
     "text": [
      "{'кот': 13, 'и': 100, 'Тейлора': 2, 1: 'test', 'собака': 13}\n",
      "True\n",
      "True\n"
     ]
    }
   ],
   "source": [
    "print(d1)\n",
    "print(\"кот\" in d1) # проверка на наличие ключа\n",
    "print(\"ктоо\" not in d1) # проверка на отстуствие ключа\n"
   ]
  },
  {
   "cell_type": "markdown",
   "metadata": {
    "id": "VIsapXH5L20G"
   },
   "source": [
    "Удалить отдельный ключ или же очистить весь словарь можно специальными операциями."
   ]
  },
  {
   "cell_type": "code",
   "execution_count": null,
   "metadata": {
    "id": "VGag8fttL20I"
   },
   "outputs": [],
   "source": [
    "del d1[\"кот\"]"
   ]
  },
  {
   "cell_type": "code",
   "execution_count": null,
   "metadata": {
    "id": "ACgYGxEKL20J",
    "outputId": "bd006605-26e5-4c50-89dc-acf97798298d"
   },
   "outputs": [
    {
     "data": {
      "text/plain": [
       "{'и': 100, 'Тейлора': 2, 1: 'test', 'собака': 13}"
      ]
     },
     "execution_count": 78,
     "metadata": {},
     "output_type": "execute_result"
    }
   ],
   "source": [
    "d1"
   ]
  },
  {
   "cell_type": "code",
   "execution_count": null,
   "metadata": {
    "id": "ff5k-GANL20K",
    "outputId": "726dc76f-e7cf-4cd4-81eb-483f95825660"
   },
   "outputs": [
    {
     "data": {
      "text/plain": [
       "{}"
      ]
     },
     "execution_count": 79,
     "metadata": {},
     "output_type": "execute_result"
    }
   ],
   "source": [
    "d1.clear()\n",
    "d1"
   ]
  },
  {
   "cell_type": "code",
   "execution_count": null,
   "metadata": {
    "id": "cHp6gnwmL20L",
    "outputId": "ae8860ca-ac04-400b-dbe4-a9771af94a3d"
   },
   "outputs": [
    {
     "name": "stdout",
     "output_type": "stream",
     "text": [
      "{'и': 100, 'Тейлора': 2, 1: 'test'}\n",
      "{}\n"
     ]
    }
   ],
   "source": [
    "del d1[\"кот\"] # удалить ключ со своим значением\n",
    "print(d1)\n",
    "d1.clear() # удалить все\n",
    "print(d1)"
   ]
  },
  {
   "cell_type": "code",
   "execution_count": null,
   "metadata": {
    "id": "nOEUu3b8L20L"
   },
   "outputs": [],
   "source": [
    "d1 = dict([(\"кот\", 10), (\"и\", 10), (\"Тейлора\", 2)])"
   ]
  },
  {
   "cell_type": "markdown",
   "metadata": {
    "id": "MgRk8u8nL20M"
   },
   "source": [
    "У словарей есть три метода, с помощью которых мы можем сгенерировать список только ключей, только значений и список пар ключ-значения (на самом деле там несколько другая структура, но ведет себя она очень похоже на список)."
   ]
  },
  {
   "cell_type": "code",
   "execution_count": null,
   "metadata": {
    "id": "-QwVkUsZL20N",
    "outputId": "eef18ab3-2f46-4bdb-b389-f73a3ec79dd7"
   },
   "outputs": [
    {
     "name": "stdout",
     "output_type": "stream",
     "text": [
      "dict_values([10, 10, 2])\n",
      "dict_keys(['кот', 'и', 'Тейлора'])\n",
      "dict_items([('кот', 10), ('и', 10), ('Тейлора', 2)])\n"
     ]
    }
   ],
   "source": [
    "print(d1.values()) # только значения\n",
    "print(d1.keys()) # только ключи\n",
    "print(d1.items()) # только ключ-значение"
   ]
  },
  {
   "cell_type": "markdown",
   "metadata": {
    "id": "9X11S7WRL20N"
   },
   "source": [
    "Ну, и раз уж питоновские словари так похожи на обычные, давайте представим, что у нас есть словарь, где все слова многозначные. Ключом будет слово, а значением ‒ целый список. "
   ]
  },
  {
   "cell_type": "code",
   "execution_count": null,
   "metadata": {
    "id": "bU2Bw46NL20O"
   },
   "outputs": [],
   "source": [
    "my_dict = {'swear' : {'swear' : ['клясться', 'ругаться'], 'dream' : ['спать', 'мечтать']}, 'dream' : ['спать', 'мечтать']}"
   ]
  },
  {
   "cell_type": "markdown",
   "metadata": {
    "id": "rzfvKNcVL20P"
   },
   "source": [
    "По ключу мы получим значение в виде списка:"
   ]
  },
  {
   "cell_type": "code",
   "execution_count": null,
   "metadata": {
    "id": "Kf_NYcicL20P",
    "outputId": "a9dfb1d1-3464-41b4-c518-079543ed2a38"
   },
   "outputs": [
    {
     "data": {
      "text/plain": [
       "'клясться'"
      ]
     },
     "execution_count": 91,
     "metadata": {},
     "output_type": "execute_result"
    }
   ],
   "source": [
    "my_dict['swear']['swear'][0]"
   ]
  },
  {
   "cell_type": "markdown",
   "metadata": {
    "id": "Sb7MrgEaL20Q"
   },
   "source": [
    "Так как значением является список, можем отдельно обращаться к его элементам:"
   ]
  },
  {
   "cell_type": "code",
   "execution_count": null,
   "metadata": {
    "id": "t4IalgWnL20Q",
    "outputId": "5ea72b16-3c89-4e21-843d-c01896f0b1fb"
   },
   "outputs": [
    {
     "data": {
      "text/plain": [
       "'клясться'"
      ]
     },
     "execution_count": 27,
     "metadata": {},
     "output_type": "execute_result"
    }
   ],
   "source": [
    "my_dict['swear'][0] # первый элемент"
   ]
  },
  {
   "cell_type": "markdown",
   "metadata": {
    "id": "Yp9Y2mccL20R"
   },
   "source": [
    "Можем пойти дальше и создать словарь, где значениями являются словари! Например, представим, что в некотором сообществе проходят выборы, и каждый участник может проголосовать за любое число кандидатов. Данные сохраняются в виде словаря, где ключами являются имена пользователей, а значениями – пары *кандидат-голос*."
   ]
  },
  {
   "cell_type": "code",
   "execution_count": null,
   "metadata": {
    "id": "v8OmTERyL20R"
   },
   "outputs": [],
   "source": [
    "votes = {'user1': {'cand1': '+', 'cand2': '-'},\n",
    "         'user2' : {'cand1': 0, 'cand3' : '+'}} # '+' - за, '-' - против, 0 - воздержался"
   ]
  },
  {
   "cell_type": "code",
   "execution_count": null,
   "metadata": {
    "id": "A0Ar3NLSL20S",
    "outputId": "f9e7a11e-b410-4426-ac3a-cd8d1f6918c0"
   },
   "outputs": [
    {
     "data": {
      "text/plain": [
       "{'user1': {'cand1': '+', 'cand2': '-'}, 'user2': {'cand1': 0, 'cand3': '+'}}"
      ]
     },
     "execution_count": 29,
     "metadata": {},
     "output_type": "execute_result"
    }
   ],
   "source": [
    "votes"
   ]
  },
  {
   "cell_type": "markdown",
   "metadata": {
    "id": "OrHKvqu0L20T"
   },
   "source": [
    "По аналогии с вложенными списками по ключам мы сможем обратиться к значению в словаре, который сам является значением в `votes` (да, эту фразу нужно осмыслить):"
   ]
  },
  {
   "cell_type": "code",
   "execution_count": null,
   "metadata": {
    "id": "6HIXdXYRL20T",
    "outputId": "17b82f03-0a54-4090-f838-33f857a39e4a"
   },
   "outputs": [
    {
     "data": {
      "text/plain": [
       "'+'"
      ]
     },
     "execution_count": 30,
     "metadata": {},
     "output_type": "execute_result"
    }
   ],
   "source": [
    "votes['user1']['cand1'] # берем значение, соответствующее ключу user1, в нем – ключу cand1"
   ]
  },
  {
   "cell_type": "code",
   "execution_count": null,
   "metadata": {
    "id": "zCNyLgs4L20U",
    "outputId": "546ae0cd-0cb2-49a4-cdfb-29e71a7c89bf"
   },
   "outputs": [
    {
     "name": "stdout",
     "output_type": "stream",
     "text": [
      "{'a': 1, 'b': 2, 'c': 3, 'd': 4}\n"
     ]
    }
   ],
   "source": [
    "dict1 = {'a': 1, 'b': 2}\n",
    "dict2 = {'c': 3, 'd': 4}\n",
    "dict3 = dict1.copy()\n",
    "dict3.update(dict2)\n",
    "print(dict3)"
   ]
  },
  {
   "cell_type": "code",
   "execution_count": null,
   "metadata": {
    "id": "NZE7-GGYL20V",
    "outputId": "32559dd6-f625-46cf-f247-694d22d2ece3"
   },
   "outputs": [
    {
     "name": "stdout",
     "output_type": "stream",
     "text": [
      "{'a': 1, 'b': 2, 'c': 3, 'd': 4}\n"
     ]
    }
   ],
   "source": [
    "dict1 = {'a': 1, 'b': 2}\n",
    "dict2 = {'c': 3, 'd': 4}\n",
    "dict3 = {**dict1, **dict2}\n",
    "print(dict3) "
   ]
  },
  {
   "cell_type": "markdown",
   "metadata": {
    "id": "s3A_AyHUL20V"
   },
   "source": [
    "Через занятие мы с вами начнем работать с условными операторами и циклом for, и тогда мы поговорим об особенностях обращения к значениям в цикле и сортировок словарей."
   ]
  },
  {
   "cell_type": "markdown",
   "metadata": {
    "id": "qCZFypHfL20W"
   },
   "source": [
    "# Home tasks"
   ]
  },
  {
   "cell_type": "markdown",
   "metadata": {
    "id": "68DtGPPxL20W"
   },
   "source": [
    "## Task #1"
   ]
  },
  {
   "cell_type": "markdown",
   "metadata": {
    "id": "OWfAhQzBL20X"
   },
   "source": [
    "Write a program to use the loop to find the factorial of a given number.\n",
    "\n",
    "The factorial (symbol: `!`) means to multiply all whole numbers from the chosen number down to `1`.\n",
    "\n",
    "For example: calculate the factorial of `5`\n",
    "\n",
    "`5! = 5 × 4 × 3 × 2 × 1 = 120`"
   ]
  },
  {
   "cell_type": "code",
   "execution_count": 45,
   "metadata": {},
   "outputs": [
    {
     "name": "stdout",
     "output_type": "stream",
     "text": [
      "5\n",
      "120\n"
     ]
    }
   ],
   "source": [
    "input_data = int(input())\n",
    "\n",
    "f = 1\n",
    "for i in range(1, input_data + 1):\n",
    "    f = f * i\n",
    "print(f)"
   ]
  },
  {
   "cell_type": "markdown",
   "metadata": {
    "id": "kWEbc6KTL20X"
   },
   "source": [
    "## Task #2"
   ]
  },
  {
   "cell_type": "markdown",
   "metadata": {
    "id": "tRpJIRE9L20Y"
   },
   "source": [
    "Write a program to calculate the sum of series up to n term. For example, if `n = 5` the series will become `2 + 22 + 222 + 2222 + 22222 = 24690`"
   ]
  },
  {
   "cell_type": "code",
   "execution_count": 69,
   "metadata": {
    "id": "E1Ugh5nDL20Y"
   },
   "outputs": [
    {
     "name": "stdout",
     "output_type": "stream",
     "text": [
      "5\n",
      "24690\n"
     ]
    }
   ],
   "source": [
    "input_data = int(input())\n",
    "summa = 0\n",
    "for i in range(1, input_data + 1):\n",
    "    x = i * '2'\n",
    "    summa += int(x)\n",
    "    #print(x)\n",
    "print(summa)    \n"
   ]
  },
  {
   "cell_type": "code",
   "execution_count": null,
   "metadata": {},
   "outputs": [],
   "source": []
  },
  {
   "cell_type": "code",
   "execution_count": null,
   "metadata": {},
   "outputs": [],
   "source": []
  }
 ],
 "metadata": {
  "colab": {
   "provenance": []
  },
  "kernelspec": {
   "display_name": "Python 3 (ipykernel)",
   "language": "python",
   "name": "python3"
  },
  "language_info": {
   "codemirror_mode": {
    "name": "ipython",
    "version": 3
   },
   "file_extension": ".py",
   "mimetype": "text/x-python",
   "name": "python",
   "nbconvert_exporter": "python",
   "pygments_lexer": "ipython3",
   "version": "3.9.12"
  }
 },
 "nbformat": 4,
 "nbformat_minor": 1
}
