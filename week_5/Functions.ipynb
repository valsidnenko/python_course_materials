{
 "cells": [
  {
   "cell_type": "markdown",
   "metadata": {},
   "source": [
    "\n",
    "# Устройство функций в Python. \n",
    "# Написание простейших функций. \n",
    "Lambda-функции. Функция map(). Написание сложных функций. Декораторы, Генераторы, Рекурсия."
   ]
  },
  {
   "cell_type": "markdown",
   "metadata": {},
   "source": [
    "### Что такое функция в Python?\n",
    "\n",
    "По своей сути функции в Python практически ничем не отличаются от функций из других языков программирования. Функцией называют именованный фрагмент программного кода, к которому можно обратиться из другого места вашей программы (но есть lambda-функции, у которых нет имени, о них будет рассказано в конце урока). Как правило, функции создаются для работы с данными, которые передаются ей в качестве аргументов, также функция может формировать некоторое возвращаемое значение. "
   ]
  },
  {
   "cell_type": "markdown",
   "metadata": {},
   "source": [
    "### Объявляя функцию, нужно следовать определенным правилам:\n",
    "\n",
    "Объявление происходит с помощью ключевого слова **def**, за ним идёт имя функции и круглые скобки ().\n",
    "\n",
    "**Аргументы**, передаваемые в функцию, должны находится в круглых скобках. Там же можно определить их значения по умолчанию, указав их после знака равно.\n",
    "\n",
    "Перед основным содержимым желательно включить **строку документации** (docstring), которая обычно описывает назначение  и основные принципы работы функции.\n",
    "\n",
    "**Тело функции** начинается после знака двоеточия. Важно не забыть об отступах.\n",
    "\n",
    "Чтобы выйти из функции в Python, используют оператор **return [значение]**. Если оператор опущен, будет возвращено значение None.\n",
    "\n",
    "Функцию можно объявить где угодно: внутри модуля, класса или другой функции. Если она объявляет внутри класса, то называется методом класса и вызывается так: *class_name.function()*."
   ]
  },
  {
   "cell_type": "code",
   "execution_count": 1,
   "metadata": {},
   "outputs": [
    {
     "data": {
      "text/plain": [
       "'ASDF'"
      ]
     },
     "execution_count": 1,
     "metadata": {},
     "output_type": "execute_result"
    }
   ],
   "source": [
    "'asdf'.upper()"
   ]
  },
  {
   "cell_type": "code",
   "execution_count": 2,
   "metadata": {},
   "outputs": [],
   "source": [
    "def Имя(аргументы):\n",
    "    '''Документация\n",
    "    '''\n",
    "    Тело (инструкции)\n",
    "    return [значение]"
   ]
  },
  {
   "cell_type": "markdown",
   "metadata": {},
   "source": [
    "На самом деле мы уже использовали огромное количество функций и методов (str(), float(), .add(), .count() и так далее). \n",
    "\n",
    "Попробуем самостоятельно реализовать функцию, складывающую два числа и выводящую результат на печать:"
   ]
  },
  {
   "cell_type": "code",
   "execution_count": 2,
   "metadata": {},
   "outputs": [],
   "source": [
    "def summarize(a, b):\n",
    "    summ = a + b\n",
    "    print(summ)\n",
    "    return # вернёт None "
   ]
  },
  {
   "cell_type": "markdown",
   "metadata": {},
   "source": [
    "Теперь эту функцию в любом месте кода можно вызвать:"
   ]
  },
  {
   "cell_type": "code",
   "execution_count": 3,
   "metadata": {},
   "outputs": [
    {
     "name": "stdout",
     "output_type": "stream",
     "text": [
      "3\n"
     ]
    }
   ],
   "source": [
    "x = summarize(1, 2)"
   ]
  },
  {
   "cell_type": "code",
   "execution_count": 4,
   "metadata": {},
   "outputs": [],
   "source": [
    "x"
   ]
  },
  {
   "cell_type": "code",
   "execution_count": 5,
   "metadata": {},
   "outputs": [
    {
     "data": {
      "text/plain": [
       "NoneType"
      ]
     },
     "execution_count": 5,
     "metadata": {},
     "output_type": "execute_result"
    }
   ],
   "source": [
    "type(x)"
   ]
  },
  {
   "cell_type": "markdown",
   "metadata": {},
   "source": [
    "А еще можно подать функцию в качестве аргумента для другой функции или записать ее в переменную:"
   ]
  },
  {
   "cell_type": "code",
   "execution_count": 12,
   "metadata": {},
   "outputs": [
    {
     "name": "stdout",
     "output_type": "stream",
     "text": [
      "None\n",
      "None\n"
     ]
    }
   ],
   "source": [
    "def summ(a =2 , b=2):\n",
    "    summ = a + b\n",
    "#     return summ # вернёт сумму\n",
    "\n",
    "c = summ(4, 3) # переменная c будет равна возвращаемому значению\n",
    "\n",
    "\n",
    "print(c)\n",
    "print(summ()) # можно передать значения в аргументы другой функции\n"
   ]
  },
  {
   "cell_type": "code",
   "execution_count": 13,
   "metadata": {},
   "outputs": [],
   "source": [
    "def summ(a ='string'):\n",
    "    a = a+'dfghjmk,'\n",
    "    return a.swapcase()\n",
    "    "
   ]
  },
  {
   "cell_type": "code",
   "execution_count": 14,
   "metadata": {},
   "outputs": [
    {
     "data": {
      "text/plain": [
       "'STRINGDFGHJMK,'"
      ]
     },
     "execution_count": 14,
     "metadata": {},
     "output_type": "execute_result"
    }
   ],
   "source": [
    "summ()"
   ]
  },
  {
   "cell_type": "markdown",
   "metadata": {},
   "source": [
    "При описании функции в *Python 3* можно задать аргументы с какими-либо начальными значениями, такие аргументы являются \"необязательными\". Вначале нужно описывать обязательные параметры, а после них – необязательные.\n",
    "При вызове функции не обязательно указывать значения \"необязательных\" параметров (спасибо, кэп). Если мы хотим изменить значение аргумента, не меняя начальные значения других аргументов, можно обращаться к нему по ключу."
   ]
  },
  {
   "cell_type": "code",
   "execution_count": 17,
   "metadata": {},
   "outputs": [
    {
     "name": "stdout",
     "output_type": "stream",
     "text": [
      "my string\n",
      "3\n",
      "5\n"
     ]
    }
   ],
   "source": [
    "def example(first, second=3, third=5):\n",
    "    print(first)\n",
    "    print(second)\n",
    "    print(third)\n",
    "    \n",
    "example('my string')"
   ]
  },
  {
   "cell_type": "code",
   "execution_count": 16,
   "metadata": {},
   "outputs": [
    {
     "name": "stdout",
     "output_type": "stream",
     "text": [
      "my string\n",
      "dfgh\n",
      "5\n"
     ]
    }
   ],
   "source": [
    "example('my string',second='dfgh')"
   ]
  },
  {
   "cell_type": "markdown",
   "metadata": {},
   "source": [
    "А еще функция может быть пустой и ничего не делать. Выглядит это так:"
   ]
  },
  {
   "cell_type": "code",
   "execution_count": 18,
   "metadata": {},
   "outputs": [],
   "source": [
    "def foo():\n",
    "    pass #Оператор-заглушка, равноценный отсутствию операции."
   ]
  },
  {
   "cell_type": "code",
   "execution_count": 19,
   "metadata": {},
   "outputs": [
    {
     "data": {
      "text/plain": [
       "NoneType"
      ]
     },
     "execution_count": 19,
     "metadata": {},
     "output_type": "execute_result"
    }
   ],
   "source": [
    "x = foo()\n",
    "type(x)"
   ]
  },
  {
   "cell_type": "markdown",
   "metadata": {},
   "source": [
    "А что если параметров у функции несколько, но только мы не знаем, сколько. Например, мы хотим складывать числа, которые пользователь вводит с клавиатуры, но мы заранее не знаем, сколько чисел он собирается ввести. Уже несколько раз мы упоминали такое понятие, как \"распаковка\" списков, кортежей и словарей (когда записывается что-то в духе \\*list_name или \\*\\*dictionary_name). "
   ]
  },
  {
   "cell_type": "markdown",
   "metadata": {},
   "source": [
    "## Напоминание:\n",
    "Если мы хотим сожержимое двух списков положить в третий список или содержимое двух словарей положить в третий словарь, на помощь нам приходит так называемый \"звездочный синтаксис\":"
   ]
  },
  {
   "cell_type": "code",
   "execution_count": 17,
   "metadata": {},
   "outputs": [
    {
     "data": {
      "text/plain": [
       "[1, 2, 3, 4, 5, 6]"
      ]
     },
     "execution_count": 17,
     "metadata": {},
     "output_type": "execute_result"
    }
   ],
   "source": [
    "list1 = [1,2,3]\n",
    "list2 = [4,5,6]\n",
    "\n",
    "list3 = [*list1,*list2] ##положили все элементы обоих списков в третий\n",
    "list3"
   ]
  },
  {
   "cell_type": "code",
   "execution_count": 20,
   "metadata": {},
   "outputs": [
    {
     "data": {
      "text/plain": [
       "{'a': 4, 'b': 2, 'c': 3, 'e': 5, 'f': 6}"
      ]
     },
     "execution_count": 20,
     "metadata": {},
     "output_type": "execute_result"
    }
   ],
   "source": [
    "dict1 = {'a':1,'b':2,'c':3}\n",
    "dict2 = {'a':4,'e':5,'f':6}\n",
    "\n",
    "dict3 = {**dict1,**dict2} ##положили все элементы обоих словарей в третий\n",
    "dict3"
   ]
  },
  {
   "cell_type": "markdown",
   "metadata": {},
   "source": [
    "Точно таким же образом можно что-то указать \"в явном виде\", а что-то распаковать из структуры (например, вы хотите дописать в новый список числа 3 и 4):"
   ]
  },
  {
   "cell_type": "code",
   "execution_count": 19,
   "metadata": {},
   "outputs": [
    {
     "name": "stdout",
     "output_type": "stream",
     "text": [
      "[3, 4, [0, 1, 2]]\n",
      "[3, 4, 0, 1, 2]\n"
     ]
    }
   ],
   "source": [
    "list1 = [0,1,2]\n",
    "print([3,4,list1]) # тут элементом стал сам список\n",
    "print([3,4,*list1]) # а тут мы элементы списка распаковали"
   ]
  },
  {
   "cell_type": "markdown",
   "metadata": {},
   "source": [
    "### В функции точно так же можно подавать несколько аргументов!\n",
    "Даже если вы заранее не знаете, сколько их будет. Вспомните, например, функцию print(). Она умеет давать ответ и при одном аргументе, и при двух и при любом N."
   ]
  },
  {
   "cell_type": "code",
   "execution_count": 21,
   "metadata": {},
   "outputs": [
    {
     "name": "stdout",
     "output_type": "stream",
     "text": [
      "sum: 35\n"
     ]
    }
   ],
   "source": [
    "def adder(x, y, z):\n",
    "    print(\"sum:\",x + y + z)\n",
    "\n",
    "adder(10, 12, 13)"
   ]
  },
  {
   "cell_type": "code",
   "execution_count": 23,
   "metadata": {},
   "outputs": [
    {
     "name": "stdout",
     "output_type": "stream",
     "text": [
      "1 2 3\n"
     ]
    }
   ],
   "source": [
    "print(1,2,3)"
   ]
  },
  {
   "cell_type": "markdown",
   "metadata": {},
   "source": [
    "### \\*args и \\*\\*kwargs спешат на помощь\n",
    "В Python можно передать переменное количество аргументов двумя способами:\n",
    "\n",
    "* \\*args для неименованных аргументов;\n",
    "* \\*\\*kwargs для именованных аргументов.\n",
    "Мы используем \\*args и \\*\\*kwargs в качестве аргумента, когда заранее не известно, сколько значений мы хотим передать функции."
   ]
  },
  {
   "cell_type": "markdown",
   "metadata": {},
   "source": [
    "### \\*args\n",
    "Как было сказано, \\*args нужен, когда мы хотим передать неизвестное количество неименованных аргументов. Если поставить * перед именем, это имя будет принимать не один аргумент, а несколько. Аргументы передаются как кортеж и доступны внутри функции под тем же именем, что и имя параметра, только без *."
   ]
  },
  {
   "cell_type": "code",
   "execution_count": null,
   "metadata": {},
   "outputs": [],
   "source": []
  },
  {
   "cell_type": "code",
   "execution_count": 24,
   "metadata": {},
   "outputs": [],
   "source": [
    "# a,b,c,d,e = [1,2,3,4,5]"
   ]
  },
  {
   "cell_type": "code",
   "execution_count": 25,
   "metadata": {},
   "outputs": [
    {
     "name": "stdout",
     "output_type": "stream",
     "text": [
      "Sum:  8\n",
      "Sum:  22\n",
      "Sum:  17\n"
     ]
    }
   ],
   "source": [
    "def adder(*nums):\n",
    "    summ = 0\n",
    "    for n in nums:\n",
    "        summ += n\n",
    "\n",
    "    print(\"Sum: \", summ)\n",
    "\n",
    "adder(3, 5)\n",
    "adder(4, 5, 6, 7)\n",
    "adder(1, 2, 3, 5, 6)"
   ]
  },
  {
   "cell_type": "markdown",
   "metadata": {},
   "source": [
    "### \\*\\*kwargs\n",
    "По аналогии с \\*args мы используем \\*\\*kwargs для передачи переменного количества именованных аргументов. Схоже с \\*args, если поставить ** перед именем, это имя будет принимать любое количество именованных аргументов. Кортеж/словарь из нескольких переданных аргументов будет доступен под этим именем. Например:"
   ]
  },
  {
   "cell_type": "code",
   "execution_count": 29,
   "metadata": {},
   "outputs": [
    {
     "name": "stdout",
     "output_type": "stream",
     "text": [
      "\n",
      "Data type of argument:  <class 'dict'>\n",
      "Firstname is Yoko\n",
      "Lastname is Ono\n",
      "Age is 87\n",
      "Phone is 1234567890\n",
      "\n",
      "Data type of argument:  <class 'dict'>\n",
      "Firstname is John\n",
      "Lastname is Lennon\n",
      "Email is johnlennon@nomail.com\n",
      "Country is UK\n",
      "Age is 40\n",
      "Phone is 9876543210\n"
     ]
    }
   ],
   "source": [
    "def intro(**data):\n",
    "    print(\"\\nData type of argument: \",type(data))\n",
    "\n",
    "    for key, value in data.items():\n",
    "        print(\"{} is {}\".format(key, value))\n",
    "\n",
    "intro(Firstname=\"Yoko\", Lastname=\"Ono\", Age=87, Phone=1234567890)\n",
    "intro(Firstname=\"John\", Lastname=\"Lennon\", Email=\"johnlennon@nomail.com\", Country=\"UK\", Age=40, Phone=9876543210)"
   ]
  },
  {
   "cell_type": "markdown",
   "metadata": {},
   "source": [
    "В этом случае у нас есть функция **intro()** с параметром \\*\\*data. В функцию мы передали два словаря разной длины. Затем внутри функции мы прошлись в цикле по словарям, чтобы вывести их содержимое."
   ]
  },
  {
   "cell_type": "markdown",
   "metadata": {},
   "source": [
    "### Локальные и глобальные переменные aka Области видимости\n",
    "\n",
    "#### Локальные переменные\n",
    "Для создания переменных, обладающих локальной областью видимости, необходимо всего лишь поместить их в отдельный блок кода, изолированный от остальной программы. Например, у нас таким свойством обладают все переменные, которые мы прежде использовали в функциях, например:"
   ]
  },
  {
   "cell_type": "code",
   "execution_count": 27,
   "metadata": {},
   "outputs": [
    {
     "name": "stdout",
     "output_type": "stream",
     "text": [
      "6\n"
     ]
    },
    {
     "ename": "NameError",
     "evalue": "name 'output' is not defined",
     "output_type": "error",
     "traceback": [
      "\u001b[0;31m---------------------------------------------------------------------------\u001b[0m",
      "\u001b[0;31mNameError\u001b[0m                                 Traceback (most recent call last)",
      "\u001b[0;32m<ipython-input-27-69593f31f53f>\u001b[0m in \u001b[0;36m<module>\u001b[0;34m\u001b[0m\n\u001b[1;32m      5\u001b[0m \u001b[0;34m\u001b[0m\u001b[0m\n\u001b[1;32m      6\u001b[0m \u001b[0mprint\u001b[0m\u001b[0;34m(\u001b[0m\u001b[0mf\u001b[0m\u001b[0;34m(\u001b[0m\u001b[0;36m4\u001b[0m\u001b[0;34m)\u001b[0m\u001b[0;34m)\u001b[0m\u001b[0;34m\u001b[0m\u001b[0;34m\u001b[0m\u001b[0m\n\u001b[0;32m----> 7\u001b[0;31m \u001b[0mprint\u001b[0m\u001b[0;34m(\u001b[0m\u001b[0moutput\u001b[0m\u001b[0;34m)\u001b[0m\u001b[0;34m\u001b[0m\u001b[0;34m\u001b[0m\u001b[0m\n\u001b[0m",
      "\u001b[0;31mNameError\u001b[0m: name 'output' is not defined"
     ]
    }
   ],
   "source": [
    "def f(x):\n",
    "    output = x+1\n",
    "    output2 = output + 1\n",
    "    return output2\n",
    "\n",
    "print(f(4))\n",
    "print(output)"
   ]
  },
  {
   "cell_type": "markdown",
   "metadata": {},
   "source": [
    "Функция у нас сработала, а вот переменную за пределами функции мы не видим. А что если мы попробуем изнутри функции использовать переменную, определенную вовне?"
   ]
  },
  {
   "cell_type": "code",
   "execution_count": 29,
   "metadata": {},
   "outputs": [
    {
     "name": "stdout",
     "output_type": "stream",
     "text": [
      "11\n"
     ]
    }
   ],
   "source": [
    "x = 11\n",
    "\n",
    "def foo(z):\n",
    "    print(x)\n",
    "    return None\n",
    "\n",
    "foo(10)"
   ]
  },
  {
   "cell_type": "markdown",
   "metadata": {},
   "source": [
    "Сработало! Более того - все переменные, объявленные \"в более широкой области видимости\" всегда доступны \"в более узкой области видимости\". Попробуем завернуть несколько функций друг в друга и взглянуть на значения:"
   ]
  },
  {
   "cell_type": "code",
   "execution_count": 32,
   "metadata": {},
   "outputs": [
    {
     "data": {
      "text/plain": [
       "100"
      ]
     },
     "execution_count": 32,
     "metadata": {},
     "output_type": "execute_result"
    }
   ],
   "source": [
    "def f1():\n",
    "    x = 100\n",
    "    def f2():\n",
    "        x = 200\n",
    "    f2()\n",
    "    return x\n",
    "f1()"
   ]
  },
  {
   "cell_type": "markdown",
   "metadata": {},
   "source": [
    "Выведено было значение с \"самого высокого уровня\"."
   ]
  },
  {
   "cell_type": "markdown",
   "metadata": {},
   "source": [
    "Если нам все-таки нужно использовать значение переменной \"изнутри\" функции, можно сказать , что мы объявляем глобальную переменную. Для этого используется выражение **global**"
   ]
  },
  {
   "cell_type": "code",
   "execution_count": 31,
   "metadata": {},
   "outputs": [
    {
     "name": "stdout",
     "output_type": "stream",
     "text": [
      "I am looking for a course in Paris!\n",
      "Only in spring, but London is great as well!\n",
      "Only in spring, but London is great as well!\n"
     ]
    }
   ],
   "source": [
    "def f():\n",
    "    global s\n",
    "    print(s)\n",
    "    s = \"Only in spring, but London is great as well!\"\n",
    "    print(s)\n",
    "\n",
    "\n",
    "s = \"I am looking for a course in Paris!\" \n",
    "f()\n",
    "print(s)"
   ]
  },
  {
   "cell_type": "markdown",
   "metadata": {},
   "source": [
    "Здесь мы вызвали функцию и она перезаписала нам значение в переменную s"
   ]
  },
  {
   "cell_type": "markdown",
   "metadata": {},
   "source": [
    "В Python 3 есть еще один тип переменных, который позволяет использовать значение внутри областей видимости, но не выносить их в глобальную область. Это так называемые **nonlocal** переменные."
   ]
  },
  {
   "cell_type": "code",
   "execution_count": 32,
   "metadata": {},
   "outputs": [
    {
     "name": "stdout",
     "output_type": "stream",
     "text": [
      "before ff Frankfurt am Maine\n",
      "Before calling g: Munich\n",
      "Calling g now:\n",
      "After calling g: Zurich\n",
      "after ff Frankfurt am Maine\n",
      "'city' in main: Stuttgart\n"
     ]
    }
   ],
   "source": [
    "def f():\n",
    "    city = \"Frankfurt am Maine\"\n",
    "    def ff():\n",
    "        city = \"Munich\"\n",
    "        def g():\n",
    "            nonlocal city\n",
    "            city = \"Zurich\"\n",
    "        print(\"Before calling g: \" + city)\n",
    "        print(\"Calling g now:\")\n",
    "        g()\n",
    "        print(\"After calling g: \" + city)\n",
    "    print('before ff', city)\n",
    "    ff()\n",
    "    print('after ff', city)\n",
    "    \n",
    "    \n",
    "city = \"Stuttgart\"\n",
    "f()\n",
    "print(\"'city' in main: \" + city)"
   ]
  },
  {
   "cell_type": "markdown",
   "metadata": {},
   "source": [
    "Видно, что в глобальную область видимости Цюрих не доехал, но в локальной он переехал со 1го уровня вложенности в функцию f :)"
   ]
  },
  {
   "cell_type": "markdown",
   "metadata": {},
   "source": [
    "### Lambda-функции\n",
    "Это особый вид функций, которые объявляются с помощью ключевого слова **lambda** вместо **def**:\n",
    "Лямбда-функции принимают любое количество аргументов, но не могут содержать несколько выражений и всегда возвращают только одно значение.\n",
    "В программировании на **Python** можно обойтись без анонимных функций, которые по сути являются обычными, но без имени и с ограничением в одно выражение. Однако их использование в нужных местах упрощает написание и восприятие кода. Пишется так:\n",
    "\n",
    "* lambda arguments: expression\n",
    "\n",
    "arguments - аргументы, expression - выражение, возвращающее значение.\n",
    "\n",
    "Пример (lambda функция, которая добавляет к переданному аргументу 1 и возвращает результат):"
   ]
  },
  {
   "cell_type": "code",
   "execution_count": 36,
   "metadata": {},
   "outputs": [
    {
     "data": {
      "text/plain": [
       "[0, 1, 2, 3, 4, 5, 6, 7, 8]"
      ]
     },
     "execution_count": 36,
     "metadata": {},
     "output_type": "execute_result"
    }
   ],
   "source": [
    "add_1 = lambda x: [i for i in range(x + 1)]\n",
    "add_1(8) "
   ]
  },
  {
   "cell_type": "markdown",
   "metadata": {},
   "source": [
    "А если мы вдруг решили сложить два числа, то это тоже можно сделать с помощью лямбда-функции:"
   ]
  },
  {
   "cell_type": "code",
   "execution_count": 33,
   "metadata": {},
   "outputs": [
    {
     "data": {
      "text/plain": [
       "7"
      ]
     },
     "execution_count": 33,
     "metadata": {},
     "output_type": "execute_result"
    }
   ],
   "source": [
    "add_2 = lambda x, y: x + y\n",
    "add_2(3, 4)"
   ]
  },
  {
   "cell_type": "markdown",
   "metadata": {},
   "source": [
    "Заработало! А если по-другому назвать аргументы?"
   ]
  },
  {
   "cell_type": "code",
   "execution_count": 35,
   "metadata": {},
   "outputs": [],
   "source": [
    "def aa(x):\n",
    "    if x>0:\n",
    "        return x+5\n",
    "    else:\n",
    "        return 'foo'"
   ]
  },
  {
   "cell_type": "code",
   "execution_count": 34,
   "metadata": {},
   "outputs": [
    {
     "data": {
      "text/plain": [
       "7"
      ]
     },
     "execution_count": 34,
     "metadata": {},
     "output_type": "execute_result"
    }
   ],
   "source": [
    "add_2 = lambda f123, er45: f123 + er45\n",
    "add_2(3, 4)"
   ]
  },
  {
   "cell_type": "markdown",
   "metadata": {},
   "source": [
    "Во всех трех примерах мы все-таки присвоили имя каждой из функций. Давайте попробуем вызвать функцию по-настоящему анонимно. Аргументы передаются в скобках после скобок, содержащих определение lambda функции"
   ]
  },
  {
   "cell_type": "code",
   "execution_count": 39,
   "metadata": {},
   "outputs": [
    {
     "data": {
      "text/plain": [
       "15"
      ]
     },
     "execution_count": 39,
     "metadata": {},
     "output_type": "execute_result"
    }
   ],
   "source": [
    "(lambda x, y: x * y)(3, 5)"
   ]
  },
  {
   "cell_type": "markdown",
   "metadata": {},
   "source": [
    "По сути, лямбда-функции умеют все, что и обычные функции, только они обязаны возвращать всего одно значение. \n",
    "* Они умеют работать с разными типами данных (Строками, например)\n",
    "* Можно вызывать функцию без параметров\n",
    "* Параметрам функции можно задать значения по умолчанию"
   ]
  },
  {
   "cell_type": "code",
   "execution_count": 36,
   "metadata": {},
   "outputs": [
    {
     "data": {
      "text/plain": [
       "'Ха-Ха-Ха-'"
      ]
     },
     "execution_count": 36,
     "metadata": {},
     "output_type": "execute_result"
    }
   ],
   "source": [
    "# Со строками\n",
    "(lambda x, y: x * y)(\"Ха-\",3)\n"
   ]
  },
  {
   "cell_type": "code",
   "execution_count": 41,
   "metadata": {},
   "outputs": [
    {
     "data": {
      "text/plain": [
       "'ПерваяВторая'"
      ]
     },
     "execution_count": 41,
     "metadata": {},
     "output_type": "execute_result"
    }
   ],
   "source": [
    "(lambda x, y: x + y)(\"Первая\",\"Вторая\")"
   ]
  },
  {
   "cell_type": "code",
   "execution_count": 37,
   "metadata": {},
   "outputs": [
    {
     "data": {
      "text/plain": [
       "[0, 1, 2, 3]"
      ]
     },
     "execution_count": 37,
     "metadata": {},
     "output_type": "execute_result"
    }
   ],
   "source": [
    "# А вот тут без аргументов\n",
    "(lambda: [0,1,2,3])()"
   ]
  },
  {
   "cell_type": "code",
   "execution_count": 38,
   "metadata": {},
   "outputs": [
    {
     "data": {
      "text/plain": [
       "'35'"
      ]
     },
     "execution_count": 38,
     "metadata": {},
     "output_type": "execute_result"
    }
   ],
   "source": [
    "# А тут есть значения по умолчанию\n",
    "(lambda x=3, y = 5: str(x) + str(y))()"
   ]
  },
  {
   "cell_type": "code",
   "execution_count": 44,
   "metadata": {},
   "outputs": [
    {
     "data": {
      "text/plain": [
       "4"
      ]
     },
     "execution_count": 44,
     "metadata": {},
     "output_type": "execute_result"
    }
   ],
   "source": [
    "# Здесь в качестве первого аргумента пришел список, а второй использовался по умолчанию\n",
    "# На выходе должны получить первый элемент первого списка + 3\n",
    "(lambda x,y=3: x[0] + y)([1,2,3])"
   ]
  },
  {
   "cell_type": "code",
   "execution_count": 46,
   "metadata": {},
   "outputs": [
    {
     "name": "stdout",
     "output_type": "stream",
     "text": [
      "6\n",
      "6\n",
      "6\n",
      "6\n",
      "6\n"
     ]
    }
   ],
   "source": [
    "print((lambda x, y, z: x + y + z)(1, 2, 3)) # Три аргумента\n",
    "\n",
    "print((lambda x, y, z=3: x + y + z)(1, 2)) # Три аргумента и у одного default-значение\n",
    "\n",
    "print((lambda x, y, z=3: x + y + z)(1, y=2)) # Три аргумента, у одного default-значение и один мы передали \"по имени\"\n",
    "\n",
    "print((lambda *args: sum(args))(1,2,3)) # Передали кортеж аргументов и сложили\n",
    "\n",
    "print((lambda **kwargs: sum(kwargs.values()))(one=1, two=2, three=3)) # Передали словарь аргументов и сложили"
   ]
  },
  {
   "cell_type": "markdown",
   "metadata": {},
   "source": [
    "### `map`"
   ]
  },
  {
   "cell_type": "markdown",
   "metadata": {},
   "source": [
    "Лямбда-функции очень часто применяются для преобразования каких-то коллекций. Для этого `lambda`-функции можно подавать в функцию `map`. Мы с вами уже множество раз использовали `map`, например, для преобразования списков. Давайте возьмем список и возведем все его элементы в квадрат с помощью map и `lambda`-функции."
   ]
  },
  {
   "cell_type": "code",
   "execution_count": 81,
   "metadata": {},
   "outputs": [
    {
     "data": {
      "text/plain": [
       "['1', '3', '4', '6']"
      ]
     },
     "execution_count": 81,
     "metadata": {},
     "output_type": "execute_result"
    }
   ],
   "source": [
    "a = [1,3,4,6]\n",
    "def to_str(x):\n",
    "    return str(x)\n",
    "list(map(to_str, a))"
   ]
  },
  {
   "cell_type": "code",
   "execution_count": 63,
   "metadata": {},
   "outputs": [
    {
     "data": {
      "text/plain": [
       "-1.0"
      ]
     },
     "execution_count": 63,
     "metadata": {},
     "output_type": "execute_result"
    }
   ],
   "source": [
    "from math import cos, pi, sin\n",
    "cos(pi)"
   ]
  },
  {
   "cell_type": "markdown",
   "metadata": {},
   "source": [
    "### Task 1: \n",
    "Напишите функцию для вычисления факториала данного числа\n",
    "Ввод: 3\n",
    "\n",
    "Вывод: 6"
   ]
  },
  {
   "cell_type": "code",
   "execution_count": 1,
   "metadata": {},
   "outputs": [],
   "source": [
    "#def factorial(N):\n",
    "#Ваше решение"
   ]
  },
  {
   "cell_type": "markdown",
   "metadata": {},
   "source": [
    "### Рекурсия\n",
    "\n",
    "Рекурсия — это техника в Computer Science, когда функция вызывает сама себя. Самый известный пример — вычисление факториала n! = n * n — 1 * n -2 * … 2 *1. Зная, что 0! = 1, факториал можно записать следующим образом:"
   ]
  },
  {
   "cell_type": "code",
   "execution_count": 82,
   "metadata": {},
   "outputs": [],
   "source": [
    "def factorial(n):\n",
    "    if n != 0:\n",
    "        return n * factorial(n-1)\n",
    "    else:\n",
    "        return 1\n",
    "\n",
    "# В этой реализации есть некоторые проблемы, но мы поговорим об этом потом :)"
   ]
  },
  {
   "cell_type": "code",
   "execution_count": 83,
   "metadata": {},
   "outputs": [
    {
     "data": {
      "text/plain": [
       "120"
      ]
     },
     "execution_count": 83,
     "metadata": {},
     "output_type": "execute_result"
    }
   ],
   "source": [
    "factorial(5)"
   ]
  },
  {
   "cell_type": "markdown",
   "metadata": {},
   "source": [
    "Каждый раз, когда функция вызывает себя и сохраняет некоторую память. Таким образом, рекурсивная функция может содержать гораздо больше памяти, чем традиционная функция. Python останавливает вызовы функций после глубины в 1000 вызовов. Если вы запустите этот пример, получите ошибку."
   ]
  },
  {
   "cell_type": "code",
   "execution_count": 84,
   "metadata": {
    "scrolled": true
   },
   "outputs": [
    {
     "ename": "RecursionError",
     "evalue": "maximum recursion depth exceeded in comparison",
     "output_type": "error",
     "traceback": [
      "\u001b[0;31m---------------------------------------------------------------------------\u001b[0m",
      "\u001b[0;31mRecursionError\u001b[0m                            Traceback (most recent call last)",
      "\u001b[0;32m<ipython-input-84-9869a084a880>\u001b[0m in \u001b[0;36m<module>\u001b[0;34m\u001b[0m\n\u001b[1;32m      5\u001b[0m         \u001b[0;32mreturn\u001b[0m \u001b[0mn\u001b[0m \u001b[0;34m*\u001b[0m \u001b[0mfactorial\u001b[0m\u001b[0;34m(\u001b[0m\u001b[0mn\u001b[0m\u001b[0;34m-\u001b[0m\u001b[0;36m1\u001b[0m\u001b[0;34m)\u001b[0m\u001b[0;34m\u001b[0m\u001b[0;34m\u001b[0m\u001b[0m\n\u001b[1;32m      6\u001b[0m \u001b[0;34m\u001b[0m\u001b[0m\n\u001b[0;32m----> 7\u001b[0;31m \u001b[0mprint\u001b[0m\u001b[0;34m(\u001b[0m\u001b[0mfactorial\u001b[0m\u001b[0;34m(\u001b[0m\u001b[0;36m3000\u001b[0m\u001b[0;34m)\u001b[0m\u001b[0;34m)\u001b[0m\u001b[0;34m\u001b[0m\u001b[0;34m\u001b[0m\u001b[0m\n\u001b[0m",
      "\u001b[0;32m<ipython-input-84-9869a084a880>\u001b[0m in \u001b[0;36mfactorial\u001b[0;34m(n)\u001b[0m\n\u001b[1;32m      3\u001b[0m         \u001b[0;32mreturn\u001b[0m \u001b[0;36m1\u001b[0m\u001b[0;34m\u001b[0m\u001b[0;34m\u001b[0m\u001b[0m\n\u001b[1;32m      4\u001b[0m     \u001b[0;32melse\u001b[0m\u001b[0;34m:\u001b[0m\u001b[0;34m\u001b[0m\u001b[0;34m\u001b[0m\u001b[0m\n\u001b[0;32m----> 5\u001b[0;31m         \u001b[0;32mreturn\u001b[0m \u001b[0mn\u001b[0m \u001b[0;34m*\u001b[0m \u001b[0mfactorial\u001b[0m\u001b[0;34m(\u001b[0m\u001b[0mn\u001b[0m\u001b[0;34m-\u001b[0m\u001b[0;36m1\u001b[0m\u001b[0;34m)\u001b[0m\u001b[0;34m\u001b[0m\u001b[0;34m\u001b[0m\u001b[0m\n\u001b[0m\u001b[1;32m      6\u001b[0m \u001b[0;34m\u001b[0m\u001b[0m\n\u001b[1;32m      7\u001b[0m \u001b[0mprint\u001b[0m\u001b[0;34m(\u001b[0m\u001b[0mfactorial\u001b[0m\u001b[0;34m(\u001b[0m\u001b[0;36m3000\u001b[0m\u001b[0;34m)\u001b[0m\u001b[0;34m)\u001b[0m\u001b[0;34m\u001b[0m\u001b[0;34m\u001b[0m\u001b[0m\n",
      "... last 1 frames repeated, from the frame below ...\n",
      "\u001b[0;32m<ipython-input-84-9869a084a880>\u001b[0m in \u001b[0;36mfactorial\u001b[0;34m(n)\u001b[0m\n\u001b[1;32m      3\u001b[0m         \u001b[0;32mreturn\u001b[0m \u001b[0;36m1\u001b[0m\u001b[0;34m\u001b[0m\u001b[0;34m\u001b[0m\u001b[0m\n\u001b[1;32m      4\u001b[0m     \u001b[0;32melse\u001b[0m\u001b[0;34m:\u001b[0m\u001b[0;34m\u001b[0m\u001b[0;34m\u001b[0m\u001b[0m\n\u001b[0;32m----> 5\u001b[0;31m         \u001b[0;32mreturn\u001b[0m \u001b[0mn\u001b[0m \u001b[0;34m*\u001b[0m \u001b[0mfactorial\u001b[0m\u001b[0;34m(\u001b[0m\u001b[0mn\u001b[0m\u001b[0;34m-\u001b[0m\u001b[0;36m1\u001b[0m\u001b[0;34m)\u001b[0m\u001b[0;34m\u001b[0m\u001b[0;34m\u001b[0m\u001b[0m\n\u001b[0m\u001b[1;32m      6\u001b[0m \u001b[0;34m\u001b[0m\u001b[0m\n\u001b[1;32m      7\u001b[0m \u001b[0mprint\u001b[0m\u001b[0;34m(\u001b[0m\u001b[0mfactorial\u001b[0m\u001b[0;34m(\u001b[0m\u001b[0;36m3000\u001b[0m\u001b[0;34m)\u001b[0m\u001b[0;34m)\u001b[0m\u001b[0;34m\u001b[0m\u001b[0;34m\u001b[0m\u001b[0m\n",
      "\u001b[0;31mRecursionError\u001b[0m: maximum recursion depth exceeded in comparison"
     ]
    }
   ],
   "source": [
    "def factorial(n):\n",
    "    if n == 1:\n",
    "        return 1\n",
    "    else:\n",
    "        return n * factorial(n-1)\n",
    "\n",
    "print(factorial(3000))"
   ]
  },
  {
   "cell_type": "markdown",
   "metadata": {},
   "source": [
    "А еще таким же образом можно вычислять `N`-ое число Фибоначчи (они как раз задаются рекурсивно).\n",
    "Заодно здесь мы видим, что выражений `return` может быть несколько (для различных условий)"
   ]
  },
  {
   "cell_type": "markdown",
   "metadata": {},
   "source": [
    "## Task #1.1\n",
    "вычислять `N`-ое число Фибоначчи (они как раз задаются рекурсивно)"
   ]
  },
  {
   "cell_type": "code",
   "execution_count": 1,
   "metadata": {},
   "outputs": [],
   "source": [
    "#def fibonacci(n):"
   ]
  },
  {
   "cell_type": "code",
   "execution_count": 5,
   "metadata": {},
   "outputs": [
    {
     "data": {
      "text/plain": [
       "55"
      ]
     },
     "execution_count": 5,
     "metadata": {},
     "output_type": "execute_result"
    }
   ],
   "source": [
    "fibonacci(10)"
   ]
  },
  {
   "cell_type": "markdown",
   "metadata": {},
   "source": [
    "### Task #2\n",
    "Рекурсивно посчитать сумму чисел от 1 до N\n",
    "\n",
    "Вход: N\n",
    "\n",
    "Выход: sum(1,2,3,...,N)\n",
    "\n",
    "\n",
    "Вход: 3\n",
    "\n",
    "Выход: 6"
   ]
  },
  {
   "cell_type": "code",
   "execution_count": 25,
   "metadata": {},
   "outputs": [],
   "source": [
    "#def summe(n):\n"
   ]
  },
  {
   "cell_type": "code",
   "execution_count": 9,
   "metadata": {},
   "outputs": [
    {
     "data": {
      "text/plain": [
       "55"
      ]
     },
     "execution_count": 9,
     "metadata": {},
     "output_type": "execute_result"
    }
   ],
   "source": [
    "summe(10)"
   ]
  },
  {
   "cell_type": "markdown",
   "metadata": {},
   "source": [
    "### Task #3\n",
    "Рекурсивно проверить, является ли строка палиндромом\n",
    "\n",
    "Вход: ололо\n",
    "\n",
    "Выход: True\n",
    "\n",
    "\n",
    "Вход: You shall not pass!\n",
    "\n",
    "Выход: False"
   ]
  },
  {
   "cell_type": "code",
   "execution_count": 13,
   "metadata": {},
   "outputs": [],
   "source": [
    "#def IsPalindrome(S):\n"
   ]
  },
  {
   "cell_type": "code",
   "execution_count": 14,
   "metadata": {},
   "outputs": [
    {
     "data": {
      "text/plain": [
       "True"
      ]
     },
     "execution_count": 14,
     "metadata": {},
     "output_type": "execute_result"
    }
   ],
   "source": [
    "IsPalindrome('ололо')"
   ]
  }
 ],
 "metadata": {
  "kernelspec": {
   "display_name": "Python 3",
   "language": "python",
   "name": "python3"
  },
  "language_info": {
   "codemirror_mode": {
    "name": "ipython",
    "version": 3
   },
   "file_extension": ".py",
   "mimetype": "text/x-python",
   "name": "python",
   "nbconvert_exporter": "python",
   "pygments_lexer": "ipython3",
   "version": "3.8.8"
  }
 },
 "nbformat": 4,
 "nbformat_minor": 2
}
