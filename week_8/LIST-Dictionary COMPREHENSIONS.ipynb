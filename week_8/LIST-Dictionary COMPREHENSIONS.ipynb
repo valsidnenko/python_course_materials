{
 "cells": [
  {
   "cell_type": "markdown",
   "id": "165e4ee4",
   "metadata": {},
   "source": [
    "## LIST COMPREHENSIONS\n"
   ]
  },
  {
   "cell_type": "markdown",
   "id": "cbfdeafd",
   "metadata": {},
   "source": [
    "List comprehensions are a unique way to create lists in Python. A list comprehension consists of brackets containing an expression followed by a for clause, then zero or more for or if clauses. The expressions can be any kind of Python object. List comprehensions will commonly take the form of <value> for <vars> in <iter>.\n",
    "\n",
    "A simple case: Say we want to turn a list of strings into a list of string lengths. We could do this with a for loop:"
   ]
  },
  {
   "cell_type": "code",
   "execution_count": 2,
   "id": "0d9440ba",
   "metadata": {},
   "outputs": [
    {
     "name": "stdout",
     "output_type": "stream",
     "text": [
      "[4, 3, 4, 5]\n"
     ]
    }
   ],
   "source": [
    ">>> names = [\"Nina\", \"Max\", \"Rose\", \"Jimmy\"]\n",
    ">>> my_list = [] # empty list\n",
    ">>> for name in names:\n",
    "...     my_list.append(len(name))\n",
    "...\n",
    ">>> print(my_list)\n"
   ]
  },
  {
   "cell_type": "markdown",
   "id": "7c8d8b14",
   "metadata": {},
   "source": [
    "We can do this much easier with a list comprehension:"
   ]
  },
  {
   "cell_type": "code",
   "execution_count": 4,
   "id": "e39ac6b6",
   "metadata": {},
   "outputs": [
    {
     "name": "stdout",
     "output_type": "stream",
     "text": [
      "[4, 3, 4, 5]\n"
     ]
    }
   ],
   "source": [
    ">>> names = [\"Nina\", \"Max\", \"Rose\", \"Jimmy\"]\n",
    ">>> my_list = [len(name) for name in names]\n",
    ">>> print(my_list)\n"
   ]
  },
  {
   "cell_type": "markdown",
   "id": "dd9ab460",
   "metadata": {},
   "source": [
    "We can also use comprehensions to perform operations, and the lists we assemble can be composed of any type of Python object. For example:\n",
    "\n"
   ]
  },
  {
   "cell_type": "code",
   "execution_count": 5,
   "id": "cec5835c",
   "metadata": {},
   "outputs": [
    {
     "name": "stdout",
     "output_type": "stream",
     "text": [
      "[('length', 8), ('length', 6), ('length', 8), ('length', 10)]\n"
     ]
    }
   ],
   "source": [
    ">>> names = [\"Nina\", \"Max\", \"Rose\", \"Jimmy\"]\n",
    ">>> my_list = [(\"length\", len(name) * 2) for name in names]\n",
    ">>> print(my_list)"
   ]
  },
  {
   "cell_type": "markdown",
   "id": "da04fb7b",
   "metadata": {},
   "source": [
    "In the above example, we assemble a list of tuples - each tuple contains the element “length” as well as each number from the len() function multiplied by two.\n",
    "\n"
   ]
  },
  {
   "cell_type": "code",
   "execution_count": 6,
   "id": "72edbb6c",
   "metadata": {},
   "outputs": [
    {
     "name": "stdout",
     "output_type": "stream",
     "text": [
      "[4, 4]\n"
     ]
    }
   ],
   "source": [
    ">>> names = [\"Nina\", \"Max\", \"Rose\", \"Jimmy\"]\n",
    ">>> my_list = [len(name) for name in names if len(name) % 2 == 0]\n",
    ">>> print(my_list)"
   ]
  },
  {
   "cell_type": "markdown",
   "id": "7af5669b",
   "metadata": {},
   "source": [
    "Here, we check divide every string length by 2, and check to see if the remainder is 0 (using the modulo operator).\n",
    "\n"
   ]
  },
  {
   "cell_type": "markdown",
   "id": "2f72a527",
   "metadata": {},
   "source": [
    "Unfortunately, you can’t join a list of numbers without first converting them to strings. But you can do this easily with a list comprehension:"
   ]
  },
  {
   "cell_type": "code",
   "execution_count": 7,
   "id": "7be39b75",
   "metadata": {},
   "outputs": [
    {
     "name": "stdout",
     "output_type": "stream",
     "text": [
      "0,1,2,3,4\n"
     ]
    }
   ],
   "source": [
    ">>> my_list = [0, 1, 2, 3, 4]\n",
    ">>> my_string = \",\".join([str(num) for num in my_list])\n",
    ">>> print(my_string)"
   ]
  },
  {
   "cell_type": "markdown",
   "id": "bd204dc7",
   "metadata": {},
   "source": [
    "### sum, min, max\n",
    "Some mathematical functions, such as sum, min, and max, accept lists of numbers to operate on. For example, to get the sum of numbers between zero and five, you could do:"
   ]
  },
  {
   "cell_type": "code",
   "execution_count": 8,
   "id": "06b290f8",
   "metadata": {},
   "outputs": [
    {
     "name": "stdout",
     "output_type": "stream",
     "text": [
      "10\n"
     ]
    }
   ],
   "source": [
    "my_sum = sum([0, 1, 2, 3, 4])\n",
    "print(my_sum)"
   ]
  },
  {
   "cell_type": "markdown",
   "id": "7391c921",
   "metadata": {},
   "source": [
    "But remember, anywhere you can use a list, you can use a list comprehension. Say you want to get sum, minimum, and maximum of every number between 0 and 100 that is evenly divisible by 3? No sense typing out a whole list in advance, just use a comprehension:"
   ]
  },
  {
   "cell_type": "code",
   "execution_count": 9,
   "id": "d428fdbf",
   "metadata": {},
   "outputs": [
    {
     "name": "stdout",
     "output_type": "stream",
     "text": [
      "1683\n"
     ]
    }
   ],
   "source": [
    ">>> my_sum = sum([num for num in range(0, 100) if num % 3 == 0])\n",
    ">>> print(my_sum)"
   ]
  },
  {
   "cell_type": "code",
   "execution_count": 10,
   "id": "3d4bdaf5",
   "metadata": {},
   "outputs": [
    {
     "name": "stdout",
     "output_type": "stream",
     "text": [
      "0\n"
     ]
    }
   ],
   "source": [
    ">>> my_min = min([num for num in range(0, 100) if num % 3 == 0])\n",
    ">>> print(my_min)\n"
   ]
  },
  {
   "cell_type": "code",
   "execution_count": 11,
   "id": "4d2ff4a1",
   "metadata": {},
   "outputs": [
    {
     "name": "stdout",
     "output_type": "stream",
     "text": [
      "99\n"
     ]
    }
   ],
   "source": [
    ">>> my_max = max([num for num in range(0, 100) if num % 3 == 0])\n",
    ">>> print(my_max)"
   ]
  },
  {
   "cell_type": "markdown",
   "id": "d70a5d7f",
   "metadata": {},
   "source": [
    "## Dictionary Comprehensions\n",
    "Dictionary comprehensions are a quick and easy way of assembling dictionaries in Python. They work just like list comprehensions, and look almost the same. They use curly braces instead of square brackets, and they contain two variables (for key and value), separated by a colon.\n",
    "\n",
    "For example, to assemble a dict in which the keys are numbers between 0 and 10, and the values are the same number squared, we could do:"
   ]
  },
  {
   "cell_type": "code",
   "execution_count": 12,
   "id": "a2940004",
   "metadata": {},
   "outputs": [
    {
     "name": "stdout",
     "output_type": "stream",
     "text": [
      "{0: 0, 1: 1, 2: 4, 3: 9, 4: 16, 5: 25, 6: 36, 7: 49, 8: 64, 9: 81}\n"
     ]
    }
   ],
   "source": [
    ">>> squares = {num:num * num for num in range(10)}\n",
    ">>> print(squares)"
   ]
  },
  {
   "cell_type": "markdown",
   "id": "86aebf99",
   "metadata": {},
   "source": [
    "Or we could use f-strings to assemble a dict to keep game scores:\n"
   ]
  },
  {
   "cell_type": "code",
   "execution_count": 13,
   "id": "af01375d",
   "metadata": {},
   "outputs": [
    {
     "name": "stdout",
     "output_type": "stream",
     "text": [
      "{'player-0': 0, 'player-1': 0, 'player-2': 0, 'player-3': 0, 'player-4': 0}\n"
     ]
    }
   ],
   "source": [
    ">>> scores = {f\"player-{num}\":0 for num in range(0, 5)}\n",
    ">>> print(scores)"
   ]
  },
  {
   "cell_type": "markdown",
   "id": "2e01f2db",
   "metadata": {},
   "source": [
    "In the above example, the f-string gets turned into the dict keys (player-0, etc.) and each value is set to 0. You can also operate on tuples for setting keys and values. For example, we’ll use a list comprehension to create a list of tuples, then turn the tuples into dict keys and values:"
   ]
  },
  {
   "cell_type": "code",
   "execution_count": 14,
   "id": "eedf9529",
   "metadata": {},
   "outputs": [
    {
     "name": "stdout",
     "output_type": "stream",
     "text": [
      "[('player-0', 0), ('player-1', 2), ('player-2', 4), ('player-3', 6), ('player-4', 8)]\n"
     ]
    }
   ],
   "source": [
    ">>> my_list = [(f\"player-{num}\", num * 2) for num in range(0, 5)]\n",
    ">>> print(my_list)"
   ]
  },
  {
   "cell_type": "code",
   "execution_count": 15,
   "id": "72c47a15",
   "metadata": {},
   "outputs": [
    {
     "name": "stdout",
     "output_type": "stream",
     "text": [
      "{'player-0': 0, 'player-1': 2, 'player-2': 4, 'player-3': 6, 'player-4': 8}\n"
     ]
    }
   ],
   "source": [
    ">>> scores = {key:value for (key, value) in my_list}\n",
    ">>> print(scores)"
   ]
  },
  {
   "cell_type": "markdown",
   "id": "58317f58",
   "metadata": {},
   "source": [
    "## task \n",
    "Let’s practice our comprehensions. Create a list of only odd numbers between 0 and 100 using a list comprehension. Then, use a comprehension to create a dictionary where the keys are the even numbers from your list, and the values are random integers between 0 and 100 (hint: try random.randint(min, max)). Finally, use a comprehension to create a set of every unique value from the above dictionary."
   ]
  },
  {
   "cell_type": "code",
   "execution_count": 34,
   "id": "2e2755a7",
   "metadata": {},
   "outputs": [
    {
     "data": {
      "text/plain": [
       "8"
      ]
     },
     "execution_count": 34,
     "metadata": {},
     "output_type": "execute_result"
    }
   ],
   "source": [
    "import random\n",
    "random.randint(5, 10)"
   ]
  },
  {
   "cell_type": "markdown",
   "id": "5827d194",
   "metadata": {},
   "source": [
    "## Set Comprehensions\n",
    "Set comprehensions are another great operation in Python - they look like a cross between list and dict comprehensions, and they create set objects.\n",
    "\n",
    "For example:"
   ]
  },
  {
   "cell_type": "code",
   "execution_count": 16,
   "id": "5f31ca93",
   "metadata": {},
   "outputs": [
    {
     "name": "stdout",
     "output_type": "stream",
     "text": [
      "{0, 1, 2, 3}\n"
     ]
    }
   ],
   "source": [
    ">>> my_set = {num for num in [1, 2, 1, 0, 3]}\n",
    ">>> print(my_set)"
   ]
  },
  {
   "cell_type": "markdown",
   "id": "cb788a04",
   "metadata": {},
   "source": [
    "Notice that instead of returning the same list of numbers (as num for num would have done in a list comprehension), you instead get a set (note the curly braces) of unique numbers from the list (you only get one 1)."
   ]
  },
  {
   "cell_type": "markdown",
   "id": "1d325f3c",
   "metadata": {},
   "source": [
    "## Generator Expressions\n",
    "Generator expressions are a little more advanced. A generator is a type of iterable object - like a list, you can iterate through each element - however, unlike a list, generators evaluate elements on demand, instead of assembling them all at once.\n",
    "\n",
    "A generator comprehension looks just like a list comprehension, except we use parenthesis instead of brackets. For example, to get a list of the square of every even number between 0 and 10, we could do:"
   ]
  },
  {
   "cell_type": "code",
   "execution_count": 17,
   "id": "53eeebdf",
   "metadata": {},
   "outputs": [
    {
     "name": "stdout",
     "output_type": "stream",
     "text": [
      "[0, 4, 16, 36, 64]\n"
     ]
    }
   ],
   "source": [
    "# List comprehension\n",
    ">>> list_comp = [x ** 2 for x in range(10) if x % 2 == 0]\n",
    ">>> print(list_comp)"
   ]
  },
  {
   "cell_type": "code",
   "execution_count": 19,
   "id": "80ebe4cb",
   "metadata": {},
   "outputs": [
    {
     "name": "stdout",
     "output_type": "stream",
     "text": [
      "<generator object <genexpr> at 0x7fc5c82accf0>\n"
     ]
    }
   ],
   "source": [
    "# Generator expression\n",
    ">>> gen_exp = (x ** 2 for x in range(10) if x % 2 == 0)\n",
    ">>> print(gen_exp)"
   ]
  },
  {
   "cell_type": "code",
   "execution_count": 20,
   "id": "ba94fc60",
   "metadata": {},
   "outputs": [
    {
     "name": "stdout",
     "output_type": "stream",
     "text": [
      "0\n",
      "4\n",
      "16\n",
      "36\n",
      "64\n"
     ]
    }
   ],
   "source": [
    ">>> for num in gen_exp:\n",
    "...     print(num)"
   ]
  },
  {
   "cell_type": "markdown",
   "id": "5e3f34a8",
   "metadata": {},
   "source": [
    "Generator comprehensions can be beneficial in circumstances where you want to iterate over very large lists without storing the entire list in memory. For example, if you tried to assemble a list of every number between 0 and 10 ** 8 (10 to the 8th power), Python will try to assemble the entire list in memory. Using the timeit library to create this list only once, we can see how long this takes:"
   ]
  },
  {
   "cell_type": "code",
   "execution_count": 30,
   "id": "4f497789",
   "metadata": {},
   "outputs": [
    {
     "data": {
      "text/plain": [
       "5.222813788999929"
      ]
     },
     "execution_count": 30,
     "metadata": {},
     "output_type": "execute_result"
    }
   ],
   "source": [
    "list_comp = \"[num for num in range(0, 10 ** 8)]\"\n",
    "import timeit\n",
    "timeit.timeit(list_comp, number=1)"
   ]
  },
  {
   "cell_type": "code",
   "execution_count": 31,
   "id": "66f91ea4",
   "metadata": {},
   "outputs": [
    {
     "data": {
      "text/plain": [
       "3.1399999897985253e-06"
      ]
     },
     "execution_count": 31,
     "metadata": {},
     "output_type": "execute_result"
    }
   ],
   "source": [
    "# Over 5.7 seconds just to assemble one huge list\n",
    "# Let's do the same with a generator comprehension instead:\n",
    "gen_comp = \"(num for num in range(0, 10 ** 8))\"\n",
    "timeit.timeit(gen_comp, number=1)"
   ]
  },
  {
   "cell_type": "code",
   "execution_count": 32,
   "id": "ed6b50d6",
   "metadata": {},
   "outputs": [
    {
     "data": {
      "text/plain": [
       "3.9854316330000756"
      ]
     },
     "execution_count": 32,
     "metadata": {},
     "output_type": "execute_result"
    }
   ],
   "source": [
    "timeit.timeit(gen_comp, number=10000000)"
   ]
  },
  {
   "cell_type": "markdown",
   "id": "2d4d59f7",
   "metadata": {},
   "source": [
    "As you can see, assembling the generator is almost instantaneous, in fact we can run the generator expression over 10 million times in less time than it takes to assemble the full list once, and the generator will take far less memory."
   ]
  },
  {
   "cell_type": "markdown",
   "id": "45d27392",
   "metadata": {},
   "source": [
    "## THE ZIP FUNCTION\n"
   ]
  },
  {
   "cell_type": "markdown",
   "id": "c956970f",
   "metadata": {},
   "source": [
    "It’s often necessary to iterate over multiple lists simultaneously. Suppose we’re keeping score of a game and we have two lists, one for names and one for scores:\n",
    "\n"
   ]
  },
  {
   "cell_type": "code",
   "execution_count": 35,
   "id": "7e3d994b",
   "metadata": {},
   "outputs": [],
   "source": [
    ">>> names = [\"Bob\", \"Alice\", \"Eve\"]\n",
    ">>> scores = [42, 97, 68]"
   ]
  },
  {
   "cell_type": "markdown",
   "id": "5ea8f23e",
   "metadata": {},
   "source": [
    "The zip function takes any number of iterable arguments and steps through all of them at the same time until the end of the shortest iterable has been reached:\n",
    "\n"
   ]
  },
  {
   "cell_type": "code",
   "execution_count": 36,
   "id": "7507618d",
   "metadata": {},
   "outputs": [
    {
     "name": "stdout",
     "output_type": "stream",
     "text": [
      "Bob had a score of 42.\n",
      "Alice had a score of 97.\n",
      "Eve had a score of 68.\n"
     ]
    }
   ],
   "source": [
    ">>> for name, score in zip(names, scores):\n",
    ">>>     print(f\"{name} had a score of {score}.\")\n"
   ]
  },
  {
   "cell_type": "markdown",
   "id": "d2d26bca",
   "metadata": {},
   "source": [
    "What will the above loop print after removing the last element from scores?\n",
    "\n"
   ]
  },
  {
   "cell_type": "code",
   "execution_count": 37,
   "id": "3575e022",
   "metadata": {},
   "outputs": [
    {
     "data": {
      "text/plain": [
       "68"
      ]
     },
     "execution_count": 37,
     "metadata": {},
     "output_type": "execute_result"
    }
   ],
   "source": [
    ">>> scores.pop(-1)"
   ]
  },
  {
   "cell_type": "code",
   "execution_count": 38,
   "id": "a40f0045",
   "metadata": {},
   "outputs": [
    {
     "name": "stdout",
     "output_type": "stream",
     "text": [
      "Bob had a score of 42.\n",
      "Alice had a score of 97.\n"
     ]
    }
   ],
   "source": [
    "68\n",
    ">>> for name, score in zip(names, scores):\n",
    ">>>     print(f\"{name} had a score of {score}.\")"
   ]
  },
  {
   "cell_type": "markdown",
   "id": "1876b531",
   "metadata": {},
   "source": [
    "The loop terminates even though there are more values in names. Here, Eve isn’t included because scores only has two elements.\n",
    "\n",
    "We can also use zip() to quickly and easily create a dict from two lists. For example:"
   ]
  },
  {
   "cell_type": "code",
   "execution_count": 39,
   "id": "3044c108",
   "metadata": {},
   "outputs": [
    {
     "name": "stdout",
     "output_type": "stream",
     "text": [
      "{'Bob': 42, 'Alice': 97, 'Eve': 68}\n"
     ]
    }
   ],
   "source": [
    ">>> scores = [42, 97, 68]\n",
    ">>> score_dict = dict(zip(names, scores))\n",
    ">>> print(score_dict)"
   ]
  },
  {
   "cell_type": "markdown",
   "id": "7e458cc3",
   "metadata": {},
   "source": [
    "## Task 2"
   ]
  },
  {
   "cell_type": "markdown",
   "id": "7de1e7f9",
   "metadata": {},
   "source": [
    "Make a list of all the names you can think of, called “names”. Make a second list of numbers, called “scores”, using a list comprehension and random.randint(min, max) as before. Use the first list in your comprehension to make it the same length. Then, use zip() to output a simple scoreboard of one score per name."
   ]
  },
  {
   "cell_type": "code",
   "execution_count": 40,
   "id": "e8d39b70",
   "metadata": {},
   "outputs": [],
   "source": [
    "names = [\"Nina\", \"Max\", \"Floyd\", \"Lloyd\"]"
   ]
  },
  {
   "cell_type": "code",
   "execution_count": null,
   "id": "d6e97126",
   "metadata": {},
   "outputs": [],
   "source": []
  }
 ],
 "metadata": {
  "kernelspec": {
   "display_name": "Python 3",
   "language": "python",
   "name": "python3"
  },
  "language_info": {
   "codemirror_mode": {
    "name": "ipython",
    "version": 3
   },
   "file_extension": ".py",
   "mimetype": "text/x-python",
   "name": "python",
   "nbconvert_exporter": "python",
   "pygments_lexer": "ipython3",
   "version": "3.8.8"
  }
 },
 "nbformat": 4,
 "nbformat_minor": 5
}
