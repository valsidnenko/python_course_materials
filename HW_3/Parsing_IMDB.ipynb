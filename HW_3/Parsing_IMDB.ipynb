{
  "cells": [
    {
      "cell_type": "code",
      "execution_count": null,
      "metadata": {
        "id": "ugE0wOwTCWla"
      },
      "outputs": [],
      "source": [
        "%matplotlib inline\n",
        "import requests\n",
        "from bs4 import BeautifulSoup\n",
        "import os\n",
        "import pandas as pd\n",
        "import time\n",
        "import re\n",
        "import seaborn\n",
        "from lxml import html\n",
        "import matplotlib\n",
        "\n",
        "%config InlineBackend.figure_format = 'svg'\n",
        "from pylab import rcParams\n",
        "rcParams['figure.figsize'] = 8, 5"
      ]
    },
    {
      "cell_type": "markdown",
      "source": [
        "Получаем 250 самых топовых фильмов"
      ],
      "metadata": {
        "id": "OGxypew7WfF9"
      }
    },
    {
      "cell_type": "code",
      "source": [
        "url = 'http://www.imdb.com/chart/top'\n",
        "response = requests.get(url)\n",
        "soup = BeautifulSoup(response.text, 'lxml')"
      ],
      "metadata": {
        "id": "3pyngaW9JF2q"
      },
      "execution_count": null,
      "outputs": []
    },
    {
      "cell_type": "markdown",
      "source": [
        "Парсим страницу с фильмами и получаем грязные данные с\n",
        "\n",
        "\n",
        "1.   Названием фильма\n",
        "2.   Рейтингом\n",
        "3.   Командой \n",
        "4.   Ссылкой на основную страницу\n",
        "\n",
        "\n"
      ],
      "metadata": {
        "id": "5XSedO8AWs8T"
      }
    },
    {
      "cell_type": "code",
      "source": [
        "movies = soup.select('td.titleColumn')\n",
        "links = [a.attrs.get('href') for a in soup.select('td.titleColumn a')]\n",
        "crew = [a.attrs.get('title') for a in soup.select('td.titleColumn a')]\n",
        "ratings = [b.attrs.get('data-value') for b in soup.select('td.posterColumn span[name=ir]')]"
      ],
      "metadata": {
        "id": "WbiBk8rKNfWe"
      },
      "execution_count": null,
      "outputs": []
    },
    {
      "cell_type": "code",
      "source": [
        "data_frame = {\n",
        "    \"movies\": movies,\n",
        "    \"ratings\": ratings,\n",
        "    \"crew\": crew,\n",
        "    \"links\": links\n",
        "}\n",
        "\n",
        "data = pd.DataFrame(data_frame)\n",
        "data"
      ],
      "metadata": {
        "colab": {
          "base_uri": "https://localhost:8080/",
          "height": 423
        },
        "id": "g7yNtxcRR03X",
        "outputId": "fd379955-bca1-43f7-aac8-a6a688a4cd5f"
      },
      "execution_count": null,
      "outputs": [
        {
          "output_type": "execute_result",
          "data": {
            "text/html": [
              "\n",
              "  <div id=\"df-da9c303f-c050-4074-a7b5-49487d0a2e09\">\n",
              "    <div class=\"colab-df-container\">\n",
              "      <div>\n",
              "<style scoped>\n",
              "    .dataframe tbody tr th:only-of-type {\n",
              "        vertical-align: middle;\n",
              "    }\n",
              "\n",
              "    .dataframe tbody tr th {\n",
              "        vertical-align: top;\n",
              "    }\n",
              "\n",
              "    .dataframe thead th {\n",
              "        text-align: right;\n",
              "    }\n",
              "</style>\n",
              "<table border=\"1\" class=\"dataframe\">\n",
              "  <thead>\n",
              "    <tr style=\"text-align: right;\">\n",
              "      <th></th>\n",
              "      <th>movies</th>\n",
              "      <th>ratings</th>\n",
              "      <th>crew</th>\n",
              "      <th>links</th>\n",
              "    </tr>\n",
              "  </thead>\n",
              "  <tbody>\n",
              "    <tr>\n",
              "      <th>0</th>\n",
              "      <td>[\\n      1.\\n      , [The Shawshank Redemption...</td>\n",
              "      <td>9.239907206438563</td>\n",
              "      <td>Frank Darabont (dir.), Tim Robbins, Morgan Fre...</td>\n",
              "      <td>/title/tt0111161/</td>\n",
              "    </tr>\n",
              "    <tr>\n",
              "      <th>1</th>\n",
              "      <td>[\\n      2.\\n      , [The Godfather], \\n, [(19...</td>\n",
              "      <td>9.160916749679123</td>\n",
              "      <td>Francis Ford Coppola (dir.), Marlon Brando, Al...</td>\n",
              "      <td>/title/tt0068646/</td>\n",
              "    </tr>\n",
              "    <tr>\n",
              "      <th>2</th>\n",
              "      <td>[\\n      3.\\n      , [The Dark Knight], \\n, [(...</td>\n",
              "      <td>8.992906485653204</td>\n",
              "      <td>Christopher Nolan (dir.), Christian Bale, Heat...</td>\n",
              "      <td>/title/tt0468569/</td>\n",
              "    </tr>\n",
              "    <tr>\n",
              "      <th>3</th>\n",
              "      <td>[\\n      4.\\n      , [The Godfather: Part II],...</td>\n",
              "      <td>8.990104037824768</td>\n",
              "      <td>Francis Ford Coppola (dir.), Al Pacino, Robert...</td>\n",
              "      <td>/title/tt0071562/</td>\n",
              "    </tr>\n",
              "    <tr>\n",
              "      <th>4</th>\n",
              "      <td>[\\n      5.\\n      , [12 Angry Men], \\n, [(195...</td>\n",
              "      <td>8.950443397398235</td>\n",
              "      <td>Sidney Lumet (dir.), Henry Fonda, Lee J. Cobb</td>\n",
              "      <td>/title/tt0050083/</td>\n",
              "    </tr>\n",
              "    <tr>\n",
              "      <th>...</th>\n",
              "      <td>...</td>\n",
              "      <td>...</td>\n",
              "      <td>...</td>\n",
              "      <td>...</td>\n",
              "    </tr>\n",
              "    <tr>\n",
              "      <th>245</th>\n",
              "      <td>[\\n      246.\\n      , [Beauty and the Beast],...</td>\n",
              "      <td>8.017242583639977</td>\n",
              "      <td>Gary Trousdale (dir.), Paige O'Hara, Robby Benson</td>\n",
              "      <td>/title/tt0101414/</td>\n",
              "    </tr>\n",
              "    <tr>\n",
              "      <th>246</th>\n",
              "      <td>[\\n      247.\\n      , [Gandhi], \\n, [(1982)],...</td>\n",
              "      <td>8.015655688964149</td>\n",
              "      <td>Richard Attenborough (dir.), Ben Kingsley, Joh...</td>\n",
              "      <td>/title/tt0083987/</td>\n",
              "    </tr>\n",
              "    <tr>\n",
              "      <th>247</th>\n",
              "      <td>[\\n      248.\\n      , [Jai Bhim], \\n, [(2021)...</td>\n",
              "      <td>8.01545672669337</td>\n",
              "      <td>T.J. Gnanavel (dir.), Suriya, Lijo Mol Jose</td>\n",
              "      <td>/title/tt15097216/</td>\n",
              "    </tr>\n",
              "    <tr>\n",
              "      <th>248</th>\n",
              "      <td>[\\n      249.\\n      , [The Help], \\n, [(2011)...</td>\n",
              "      <td>8.014693602269382</td>\n",
              "      <td>Tate Taylor (dir.), Emma Stone, Viola Davis</td>\n",
              "      <td>/title/tt1454029/</td>\n",
              "    </tr>\n",
              "    <tr>\n",
              "      <th>249</th>\n",
              "      <td>[\\n      250.\\n      , [The Handmaiden], \\n, [...</td>\n",
              "      <td>8.012689267557525</td>\n",
              "      <td>Park Chan-wook (dir.), Kim Min-hee, Ha Jung-woo</td>\n",
              "      <td>/title/tt4016934/</td>\n",
              "    </tr>\n",
              "  </tbody>\n",
              "</table>\n",
              "<p>250 rows × 4 columns</p>\n",
              "</div>\n",
              "      <button class=\"colab-df-convert\" onclick=\"convertToInteractive('df-da9c303f-c050-4074-a7b5-49487d0a2e09')\"\n",
              "              title=\"Convert this dataframe to an interactive table.\"\n",
              "              style=\"display:none;\">\n",
              "        \n",
              "  <svg xmlns=\"http://www.w3.org/2000/svg\" height=\"24px\"viewBox=\"0 0 24 24\"\n",
              "       width=\"24px\">\n",
              "    <path d=\"M0 0h24v24H0V0z\" fill=\"none\"/>\n",
              "    <path d=\"M18.56 5.44l.94 2.06.94-2.06 2.06-.94-2.06-.94-.94-2.06-.94 2.06-2.06.94zm-11 1L8.5 8.5l.94-2.06 2.06-.94-2.06-.94L8.5 2.5l-.94 2.06-2.06.94zm10 10l.94 2.06.94-2.06 2.06-.94-2.06-.94-.94-2.06-.94 2.06-2.06.94z\"/><path d=\"M17.41 7.96l-1.37-1.37c-.4-.4-.92-.59-1.43-.59-.52 0-1.04.2-1.43.59L10.3 9.45l-7.72 7.72c-.78.78-.78 2.05 0 2.83L4 21.41c.39.39.9.59 1.41.59.51 0 1.02-.2 1.41-.59l7.78-7.78 2.81-2.81c.8-.78.8-2.07 0-2.86zM5.41 20L4 18.59l7.72-7.72 1.47 1.35L5.41 20z\"/>\n",
              "  </svg>\n",
              "      </button>\n",
              "      \n",
              "  <style>\n",
              "    .colab-df-container {\n",
              "      display:flex;\n",
              "      flex-wrap:wrap;\n",
              "      gap: 12px;\n",
              "    }\n",
              "\n",
              "    .colab-df-convert {\n",
              "      background-color: #E8F0FE;\n",
              "      border: none;\n",
              "      border-radius: 50%;\n",
              "      cursor: pointer;\n",
              "      display: none;\n",
              "      fill: #1967D2;\n",
              "      height: 32px;\n",
              "      padding: 0 0 0 0;\n",
              "      width: 32px;\n",
              "    }\n",
              "\n",
              "    .colab-df-convert:hover {\n",
              "      background-color: #E2EBFA;\n",
              "      box-shadow: 0px 1px 2px rgba(60, 64, 67, 0.3), 0px 1px 3px 1px rgba(60, 64, 67, 0.15);\n",
              "      fill: #174EA6;\n",
              "    }\n",
              "\n",
              "    [theme=dark] .colab-df-convert {\n",
              "      background-color: #3B4455;\n",
              "      fill: #D2E3FC;\n",
              "    }\n",
              "\n",
              "    [theme=dark] .colab-df-convert:hover {\n",
              "      background-color: #434B5C;\n",
              "      box-shadow: 0px 1px 3px 1px rgba(0, 0, 0, 0.15);\n",
              "      filter: drop-shadow(0px 1px 2px rgba(0, 0, 0, 0.3));\n",
              "      fill: #FFFFFF;\n",
              "    }\n",
              "  </style>\n",
              "\n",
              "      <script>\n",
              "        const buttonEl =\n",
              "          document.querySelector('#df-da9c303f-c050-4074-a7b5-49487d0a2e09 button.colab-df-convert');\n",
              "        buttonEl.style.display =\n",
              "          google.colab.kernel.accessAllowed ? 'block' : 'none';\n",
              "\n",
              "        async function convertToInteractive(key) {\n",
              "          const element = document.querySelector('#df-da9c303f-c050-4074-a7b5-49487d0a2e09');\n",
              "          const dataTable =\n",
              "            await google.colab.kernel.invokeFunction('convertToInteractive',\n",
              "                                                     [key], {});\n",
              "          if (!dataTable) return;\n",
              "\n",
              "          const docLinkHtml = 'Like what you see? Visit the ' +\n",
              "            '<a target=\"_blank\" href=https://colab.research.google.com/notebooks/data_table.ipynb>data table notebook</a>'\n",
              "            + ' to learn more about interactive tables.';\n",
              "          element.innerHTML = '';\n",
              "          dataTable['output_type'] = 'display_data';\n",
              "          await google.colab.output.renderOutput(dataTable, element);\n",
              "          const docLink = document.createElement('div');\n",
              "          docLink.innerHTML = docLinkHtml;\n",
              "          element.appendChild(docLink);\n",
              "        }\n",
              "      </script>\n",
              "    </div>\n",
              "  </div>\n",
              "  "
            ],
            "text/plain": [
              "                                                movies            ratings  \\\n",
              "0    [\\n      1.\\n      , [The Shawshank Redemption...  9.239907206438563   \n",
              "1    [\\n      2.\\n      , [The Godfather], \\n, [(19...  9.160916749679123   \n",
              "2    [\\n      3.\\n      , [The Dark Knight], \\n, [(...  8.992906485653204   \n",
              "3    [\\n      4.\\n      , [The Godfather: Part II],...  8.990104037824768   \n",
              "4    [\\n      5.\\n      , [12 Angry Men], \\n, [(195...  8.950443397398235   \n",
              "..                                                 ...                ...   \n",
              "245  [\\n      246.\\n      , [Beauty and the Beast],...  8.017242583639977   \n",
              "246  [\\n      247.\\n      , [Gandhi], \\n, [(1982)],...  8.015655688964149   \n",
              "247  [\\n      248.\\n      , [Jai Bhim], \\n, [(2021)...   8.01545672669337   \n",
              "248  [\\n      249.\\n      , [The Help], \\n, [(2011)...  8.014693602269382   \n",
              "249  [\\n      250.\\n      , [The Handmaiden], \\n, [...  8.012689267557525   \n",
              "\n",
              "                                                  crew               links  \n",
              "0    Frank Darabont (dir.), Tim Robbins, Morgan Fre...   /title/tt0111161/  \n",
              "1    Francis Ford Coppola (dir.), Marlon Brando, Al...   /title/tt0068646/  \n",
              "2    Christopher Nolan (dir.), Christian Bale, Heat...   /title/tt0468569/  \n",
              "3    Francis Ford Coppola (dir.), Al Pacino, Robert...   /title/tt0071562/  \n",
              "4        Sidney Lumet (dir.), Henry Fonda, Lee J. Cobb   /title/tt0050083/  \n",
              "..                                                 ...                 ...  \n",
              "245  Gary Trousdale (dir.), Paige O'Hara, Robby Benson   /title/tt0101414/  \n",
              "246  Richard Attenborough (dir.), Ben Kingsley, Joh...   /title/tt0083987/  \n",
              "247        T.J. Gnanavel (dir.), Suriya, Lijo Mol Jose  /title/tt15097216/  \n",
              "248        Tate Taylor (dir.), Emma Stone, Viola Davis   /title/tt1454029/  \n",
              "249    Park Chan-wook (dir.), Kim Min-hee, Ha Jung-woo   /title/tt4016934/  \n",
              "\n",
              "[250 rows x 4 columns]"
            ]
          },
          "metadata": {},
          "execution_count": 88
        }
      ]
    },
    {
      "cell_type": "markdown",
      "source": [
        "Несколько функциий для преобзразования грязных заголовков с названием фильмов\n"
      ],
      "metadata": {
        "id": "jvgoaN4eXGw2"
      }
    },
    {
      "cell_type": "code",
      "source": [
        "def process_text_mv(text):\n",
        "    data = text.get_text().split(\"\\n\")\n",
        "    return data[2].strip()"
      ],
      "metadata": {
        "id": "1ydY8dcmSJoo"
      },
      "execution_count": null,
      "outputs": []
    },
    {
      "cell_type": "code",
      "source": [
        "def process_text_year(text):\n",
        "    data = text.get_text().split(\"\\n\")\n",
        "    return data[3].strip()[1:-1]"
      ],
      "metadata": {
        "id": "DOUhCHOSUyWj"
      },
      "execution_count": null,
      "outputs": []
    },
    {
      "cell_type": "code",
      "source": [
        "data[\"title\"] = data.movies.apply(process_text_mv)\n",
        "data[\"year\"] = data.movies.apply(process_text_year)"
      ],
      "metadata": {
        "id": "83EXl09PU67J"
      },
      "execution_count": null,
      "outputs": []
    },
    {
      "cell_type": "code",
      "source": [
        "data.head()"
      ],
      "metadata": {
        "colab": {
          "base_uri": "https://localhost:8080/",
          "height": 206
        },
        "id": "8tg-WxG6VGde",
        "outputId": "4619d1ed-f48b-4b82-f912-9755c952775a"
      },
      "execution_count": null,
      "outputs": [
        {
          "output_type": "execute_result",
          "data": {
            "text/html": [
              "\n",
              "  <div id=\"df-2837ba46-6501-40c5-be48-676950d1a89d\">\n",
              "    <div class=\"colab-df-container\">\n",
              "      <div>\n",
              "<style scoped>\n",
              "    .dataframe tbody tr th:only-of-type {\n",
              "        vertical-align: middle;\n",
              "    }\n",
              "\n",
              "    .dataframe tbody tr th {\n",
              "        vertical-align: top;\n",
              "    }\n",
              "\n",
              "    .dataframe thead th {\n",
              "        text-align: right;\n",
              "    }\n",
              "</style>\n",
              "<table border=\"1\" class=\"dataframe\">\n",
              "  <thead>\n",
              "    <tr style=\"text-align: right;\">\n",
              "      <th></th>\n",
              "      <th>movies</th>\n",
              "      <th>ratings</th>\n",
              "      <th>crew</th>\n",
              "      <th>links</th>\n",
              "      <th>title</th>\n",
              "      <th>year</th>\n",
              "    </tr>\n",
              "  </thead>\n",
              "  <tbody>\n",
              "    <tr>\n",
              "      <th>0</th>\n",
              "      <td>[\\n      1.\\n      , [The Shawshank Redemption...</td>\n",
              "      <td>9.239907206438563</td>\n",
              "      <td>Frank Darabont (dir.), Tim Robbins, Morgan Fre...</td>\n",
              "      <td>/title/tt0111161/</td>\n",
              "      <td>The Shawshank Redemption</td>\n",
              "      <td>1994</td>\n",
              "    </tr>\n",
              "    <tr>\n",
              "      <th>1</th>\n",
              "      <td>[\\n      2.\\n      , [The Godfather], \\n, [(19...</td>\n",
              "      <td>9.160916749679123</td>\n",
              "      <td>Francis Ford Coppola (dir.), Marlon Brando, Al...</td>\n",
              "      <td>/title/tt0068646/</td>\n",
              "      <td>The Godfather</td>\n",
              "      <td>1972</td>\n",
              "    </tr>\n",
              "    <tr>\n",
              "      <th>2</th>\n",
              "      <td>[\\n      3.\\n      , [The Dark Knight], \\n, [(...</td>\n",
              "      <td>8.992906485653204</td>\n",
              "      <td>Christopher Nolan (dir.), Christian Bale, Heat...</td>\n",
              "      <td>/title/tt0468569/</td>\n",
              "      <td>The Dark Knight</td>\n",
              "      <td>2008</td>\n",
              "    </tr>\n",
              "    <tr>\n",
              "      <th>3</th>\n",
              "      <td>[\\n      4.\\n      , [The Godfather: Part II],...</td>\n",
              "      <td>8.990104037824768</td>\n",
              "      <td>Francis Ford Coppola (dir.), Al Pacino, Robert...</td>\n",
              "      <td>/title/tt0071562/</td>\n",
              "      <td>The Godfather: Part II</td>\n",
              "      <td>1974</td>\n",
              "    </tr>\n",
              "    <tr>\n",
              "      <th>4</th>\n",
              "      <td>[\\n      5.\\n      , [12 Angry Men], \\n, [(195...</td>\n",
              "      <td>8.950443397398235</td>\n",
              "      <td>Sidney Lumet (dir.), Henry Fonda, Lee J. Cobb</td>\n",
              "      <td>/title/tt0050083/</td>\n",
              "      <td>12 Angry Men</td>\n",
              "      <td>1957</td>\n",
              "    </tr>\n",
              "  </tbody>\n",
              "</table>\n",
              "</div>\n",
              "      <button class=\"colab-df-convert\" onclick=\"convertToInteractive('df-2837ba46-6501-40c5-be48-676950d1a89d')\"\n",
              "              title=\"Convert this dataframe to an interactive table.\"\n",
              "              style=\"display:none;\">\n",
              "        \n",
              "  <svg xmlns=\"http://www.w3.org/2000/svg\" height=\"24px\"viewBox=\"0 0 24 24\"\n",
              "       width=\"24px\">\n",
              "    <path d=\"M0 0h24v24H0V0z\" fill=\"none\"/>\n",
              "    <path d=\"M18.56 5.44l.94 2.06.94-2.06 2.06-.94-2.06-.94-.94-2.06-.94 2.06-2.06.94zm-11 1L8.5 8.5l.94-2.06 2.06-.94-2.06-.94L8.5 2.5l-.94 2.06-2.06.94zm10 10l.94 2.06.94-2.06 2.06-.94-2.06-.94-.94-2.06-.94 2.06-2.06.94z\"/><path d=\"M17.41 7.96l-1.37-1.37c-.4-.4-.92-.59-1.43-.59-.52 0-1.04.2-1.43.59L10.3 9.45l-7.72 7.72c-.78.78-.78 2.05 0 2.83L4 21.41c.39.39.9.59 1.41.59.51 0 1.02-.2 1.41-.59l7.78-7.78 2.81-2.81c.8-.78.8-2.07 0-2.86zM5.41 20L4 18.59l7.72-7.72 1.47 1.35L5.41 20z\"/>\n",
              "  </svg>\n",
              "      </button>\n",
              "      \n",
              "  <style>\n",
              "    .colab-df-container {\n",
              "      display:flex;\n",
              "      flex-wrap:wrap;\n",
              "      gap: 12px;\n",
              "    }\n",
              "\n",
              "    .colab-df-convert {\n",
              "      background-color: #E8F0FE;\n",
              "      border: none;\n",
              "      border-radius: 50%;\n",
              "      cursor: pointer;\n",
              "      display: none;\n",
              "      fill: #1967D2;\n",
              "      height: 32px;\n",
              "      padding: 0 0 0 0;\n",
              "      width: 32px;\n",
              "    }\n",
              "\n",
              "    .colab-df-convert:hover {\n",
              "      background-color: #E2EBFA;\n",
              "      box-shadow: 0px 1px 2px rgba(60, 64, 67, 0.3), 0px 1px 3px 1px rgba(60, 64, 67, 0.15);\n",
              "      fill: #174EA6;\n",
              "    }\n",
              "\n",
              "    [theme=dark] .colab-df-convert {\n",
              "      background-color: #3B4455;\n",
              "      fill: #D2E3FC;\n",
              "    }\n",
              "\n",
              "    [theme=dark] .colab-df-convert:hover {\n",
              "      background-color: #434B5C;\n",
              "      box-shadow: 0px 1px 3px 1px rgba(0, 0, 0, 0.15);\n",
              "      filter: drop-shadow(0px 1px 2px rgba(0, 0, 0, 0.3));\n",
              "      fill: #FFFFFF;\n",
              "    }\n",
              "  </style>\n",
              "\n",
              "      <script>\n",
              "        const buttonEl =\n",
              "          document.querySelector('#df-2837ba46-6501-40c5-be48-676950d1a89d button.colab-df-convert');\n",
              "        buttonEl.style.display =\n",
              "          google.colab.kernel.accessAllowed ? 'block' : 'none';\n",
              "\n",
              "        async function convertToInteractive(key) {\n",
              "          const element = document.querySelector('#df-2837ba46-6501-40c5-be48-676950d1a89d');\n",
              "          const dataTable =\n",
              "            await google.colab.kernel.invokeFunction('convertToInteractive',\n",
              "                                                     [key], {});\n",
              "          if (!dataTable) return;\n",
              "\n",
              "          const docLinkHtml = 'Like what you see? Visit the ' +\n",
              "            '<a target=\"_blank\" href=https://colab.research.google.com/notebooks/data_table.ipynb>data table notebook</a>'\n",
              "            + ' to learn more about interactive tables.';\n",
              "          element.innerHTML = '';\n",
              "          dataTable['output_type'] = 'display_data';\n",
              "          await google.colab.output.renderOutput(dataTable, element);\n",
              "          const docLink = document.createElement('div');\n",
              "          docLink.innerHTML = docLinkHtml;\n",
              "          element.appendChild(docLink);\n",
              "        }\n",
              "      </script>\n",
              "    </div>\n",
              "  </div>\n",
              "  "
            ],
            "text/plain": [
              "                                              movies            ratings  \\\n",
              "0  [\\n      1.\\n      , [The Shawshank Redemption...  9.239907206438563   \n",
              "1  [\\n      2.\\n      , [The Godfather], \\n, [(19...  9.160916749679123   \n",
              "2  [\\n      3.\\n      , [The Dark Knight], \\n, [(...  8.992906485653204   \n",
              "3  [\\n      4.\\n      , [The Godfather: Part II],...  8.990104037824768   \n",
              "4  [\\n      5.\\n      , [12 Angry Men], \\n, [(195...  8.950443397398235   \n",
              "\n",
              "                                                crew              links  \\\n",
              "0  Frank Darabont (dir.), Tim Robbins, Morgan Fre...  /title/tt0111161/   \n",
              "1  Francis Ford Coppola (dir.), Marlon Brando, Al...  /title/tt0068646/   \n",
              "2  Christopher Nolan (dir.), Christian Bale, Heat...  /title/tt0468569/   \n",
              "3  Francis Ford Coppola (dir.), Al Pacino, Robert...  /title/tt0071562/   \n",
              "4      Sidney Lumet (dir.), Henry Fonda, Lee J. Cobb  /title/tt0050083/   \n",
              "\n",
              "                      title  year  \n",
              "0  The Shawshank Redemption  1994  \n",
              "1             The Godfather  1972  \n",
              "2           The Dark Knight  2008  \n",
              "3    The Godfather: Part II  1974  \n",
              "4              12 Angry Men  1957  "
            ]
          },
          "metadata": {},
          "execution_count": 93
        }
      ]
    },
    {
      "cell_type": "code",
      "source": [
        "data.crew[1]"
      ],
      "metadata": {
        "colab": {
          "base_uri": "https://localhost:8080/",
          "height": 35
        },
        "id": "ci1coegXX9IM",
        "outputId": "7ca6ea21-87b9-4362-8865-5c04f25c7819"
      },
      "execution_count": null,
      "outputs": [
        {
          "output_type": "execute_result",
          "data": {
            "application/vnd.google.colaboratory.intrinsic+json": {
              "type": "string"
            },
            "text/plain": [
              "'Francis Ford Coppola (dir.), Marlon Brando, Al Pacino'"
            ]
          },
          "metadata": {},
          "execution_count": 95
        }
      ]
    },
    {
      "cell_type": "markdown",
      "source": [
        "Задача 1.\n",
        "Получить список всех участников команд (убрать постфикс `(dir.)` у директоров). Найти количество уникальных имен. \n",
        "\n",
        "Задача 2.\n",
        "Получить список всех директоров. Построить распределение (визуализация обязательна) и найти директора(ов), у которого(ых) больше всего фильмов в топе.\n",
        "\n",
        "Задача 3. Найти участника(ов) команд, у которого(ых) больше всего фильмов в топе.\n",
        "\n",
        "Задача 4. Построить распределение топовых фильмов по годам\n",
        "\n",
        "Задача 5. Построить распределение топовых фильмов рейтингу:\n",
        "\n",
        "\n",
        "*   Округлить до сотых и отрисовать\n",
        "*   Округлить до десятых и отрисовать\n",
        "*   Округлить до целых и отрисовать\n",
        "\n",
        "Задача 6. Используйте ссылку `http://www.imdb.com/` и динамически добавляя ссылку на фильм из колонки `links` соберите описание фильмов. Пример поиска необходимого текст представлен ниже. Добавьте эту информацию в исходный датафрейм.\n",
        "\n",
        "\n",
        "\n",
        "\n",
        "\n",
        "\n",
        "\n",
        "\n"
      ],
      "metadata": {
        "id": "3SDxPB6qX4MR"
      }
    },
    {
      "cell_type": "code",
      "source": [
        " film_url = 'http://www.imdb.com/title/tt0068646/'\n",
        " html_text = requests.get(film_url).text"
      ],
      "metadata": {
        "id": "Asma1sBASWMl"
      },
      "execution_count": null,
      "outputs": []
    },
    {
      "cell_type": "code",
      "source": [
        "soup = BeautifulSoup(html_text, 'lxml')\n",
        "soup.find_all(attrs={\"name\": \"description\"})[0].get(\"content\")"
      ],
      "metadata": {
        "colab": {
          "base_uri": "https://localhost:8080/",
          "height": 53
        },
        "id": "V_aePilOcs9t",
        "outputId": "c30ee6be-640c-41dd-c39c-cfea78a4e928"
      },
      "execution_count": null,
      "outputs": [
        {
          "output_type": "execute_result",
          "data": {
            "application/vnd.google.colaboratory.intrinsic+json": {
              "type": "string"
            },
            "text/plain": [
              "'The Godfather: Directed by Francis Ford Coppola. With Marlon Brando, Al Pacino, James Caan, Richard S. Castellano. The aging patriarch of an organized crime dynasty in postwar New York City transfers control of his clandestine empire to his reluctant youngest son.'"
            ]
          },
          "metadata": {},
          "execution_count": 116
        }
      ]
    },
    {
      "cell_type": "markdown",
      "source": [
        "\n",
        "Задача 7. С помощью регулярных выражений найдите в текстах описания фильмов имена актеров, если это возможно (то есть - они там упоминаются). Добавьте эту информацию в датафрейм и посчитайте, для скольких фильмов получилось это сдлеать. Подсказка: перечисление актеров иногда начинается с with. \n",
        "\n",
        "\n",
        "Задача 8. Распарсите исходную страницу с топ-250 фильмов и получите для каждого фильмов количество оценок. Пример текста в исходной странице:`9.2 based on 2,554,919 user ratings`. Из этого текста нужно достать = `2,554,919`. Подсказка: используя метод `find_all` с аргументом `attrs` в который нужно передать `{'class': 'ratingColumn imdbRating'}` от страници `http://www.imdb.com/chart/top`. Найдите 10 фильмов (вывести их название и кол-во оценок) у которых, самое большое количество оценок.\n",
        "\n",
        "\n",
        "Задача 9. Постройте топ 10 слов, которые встречаются \n",
        "\n",
        "1.   в названии фильмов\n",
        "2.   в описании фильмов\n",
        "3.   в названии и в описании фильмов\n",
        "\n",
        "\n",
        "Задача 10*. Спарсить теги фильмов со страницы каждого фильма, так например для `The Godfather` ожидается получить список из `Crime, Drama`. (Можно увидеть эти теги по картинкой к фильму)\n"
      ],
      "metadata": {
        "id": "LuFRlSv1lLe2"
      }
    },
    {
      "cell_type": "code",
      "source": [],
      "metadata": {
        "id": "L_20GyCBlMQ-"
      },
      "execution_count": null,
      "outputs": []
    }
  ],
  "metadata": {
    "kernelspec": {
      "display_name": "Python 2",
      "language": "python",
      "name": "python2"
    },
    "language_info": {
      "codemirror_mode": {
        "name": "ipython",
        "version": 2
      },
      "file_extension": ".py",
      "mimetype": "text/x-python",
      "name": "python",
      "nbconvert_exporter": "python",
      "pygments_lexer": "ipython2",
      "version": "2.7.5"
    },
    "colab": {
      "provenance": []
    }
  },
  "nbformat": 4,
  "nbformat_minor": 0
}